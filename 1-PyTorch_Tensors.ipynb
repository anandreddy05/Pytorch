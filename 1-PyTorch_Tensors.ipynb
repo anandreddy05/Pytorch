{
  "nbformat": 4,
  "nbformat_minor": 0,
  "metadata": {
    "colab": {
      "provenance": [],
      "gpuType": "T4"
    },
    "kernelspec": {
      "name": "python3",
      "display_name": "Python 3"
    },
    "language_info": {
      "name": "python"
    },
    "accelerator": "GPU"
  },
  "cells": [
    {
      "cell_type": "code",
      "execution_count": 1,
      "metadata": {
        "colab": {
          "base_uri": "https://localhost:8080/"
        },
        "id": "FmnZRtYJRVR-",
        "outputId": "725b110b-6ef4-4d91-b9b0-ed645302c17a"
      },
      "outputs": [
        {
          "output_type": "stream",
          "name": "stdout",
          "text": [
            "2.5.1+cu121\n"
          ]
        }
      ],
      "source": [
        "import torch\n",
        "print(torch.__version__)"
      ]
    },
    {
      "cell_type": "code",
      "source": [
        "# Check weather you are using GPU\n",
        "if torch.cuda.is_available():\n",
        "  print(\"GPU is available\")\n",
        "  print(f\"Using GPU:{torch.cuda.get_device_name(0)}\")\n",
        "else:\n",
        "  print(\"GPU not available\")"
      ],
      "metadata": {
        "colab": {
          "base_uri": "https://localhost:8080/"
        },
        "id": "DRGYDP_RReN2",
        "outputId": "8ca0248f-2fba-4f13-ae95-19ec6733a7aa"
      },
      "execution_count": 4,
      "outputs": [
        {
          "output_type": "stream",
          "name": "stdout",
          "text": [
            "GPU is available\n",
            "Using GPU:Tesla T4\n"
          ]
        }
      ]
    },
    {
      "cell_type": "markdown",
      "source": [
        "# **Tensors**"
      ],
      "metadata": {
        "id": "JINTWrI3SKgL"
      }
    },
    {
      "cell_type": "code",
      "source": [
        "# Allocates memory without any value\n",
        "a = torch.empty(3,3)\n",
        "print(f\"Type: {type(a)}\")\n",
        "print(a)"
      ],
      "metadata": {
        "colab": {
          "base_uri": "https://localhost:8080/"
        },
        "id": "mh4yTtjIRsrf",
        "outputId": "6c93e19a-43b1-4ea0-bb93-fa31f8111b88"
      },
      "execution_count": 8,
      "outputs": [
        {
          "output_type": "stream",
          "name": "stdout",
          "text": [
            "Type: <class 'torch.Tensor'>\n",
            "tensor([[ 1.8603e+07,  4.5352e-41, -8.7832e-24],\n",
            "        [ 3.2800e-41,  5.9618e+20,  4.5350e-41],\n",
            "        [ 1.2388e+07,  4.5352e-41, -8.5687e+27]])\n"
          ]
        }
      ]
    },
    {
      "cell_type": "code",
      "source": [
        "zeroes = torch.zeros(2,3)\n",
        "print(zeroes)\n",
        "ones = torch.ones(3,3)\n",
        "print(ones)"
      ],
      "metadata": {
        "colab": {
          "base_uri": "https://localhost:8080/"
        },
        "id": "UkJSmjSpSTEG",
        "outputId": "612eb81f-4c95-4260-874b-ecf200b988d0"
      },
      "execution_count": 11,
      "outputs": [
        {
          "output_type": "stream",
          "name": "stdout",
          "text": [
            "tensor([[0., 0., 0.],\n",
            "        [0., 0., 0.]])\n",
            "tensor([[1., 1., 1.],\n",
            "        [1., 1., 1.],\n",
            "        [1., 1., 1.]])\n"
          ]
        }
      ]
    },
    {
      "cell_type": "code",
      "source": [
        "# Rand :- Gives random tensors\n",
        "torch.rand(1,2)"
      ],
      "metadata": {
        "colab": {
          "base_uri": "https://localhost:8080/"
        },
        "id": "2z5AXrjPS8T-",
        "outputId": "5088fa65-3eb9-4420-9c68-8b68da40a474"
      },
      "execution_count": 12,
      "outputs": [
        {
          "output_type": "execute_result",
          "data": {
            "text/plain": [
              "tensor([[0.7162, 0.6035]])"
            ]
          },
          "metadata": {},
          "execution_count": 12
        }
      ]
    },
    {
      "cell_type": "markdown",
      "source": [
        "But every time rand gives different values, if any one want to use this notebook the tensors may be different from yours. So we use function called manual_seed"
      ],
      "metadata": {
        "id": "aO0OW7PNTQcC"
      }
    },
    {
      "cell_type": "code",
      "source": [
        "torch.manual_seed(50)\n",
        "torch.rand(2,3)"
      ],
      "metadata": {
        "colab": {
          "base_uri": "https://localhost:8080/"
        },
        "id": "3A1IJ6V2TI82",
        "outputId": "c71483fd-51a1-4d83-8561-92fb17e44434"
      },
      "execution_count": 14,
      "outputs": [
        {
          "output_type": "execute_result",
          "data": {
            "text/plain": [
              "tensor([[0.6180, 0.0687, 0.3893],\n",
              "        [0.0404, 0.4013, 0.1442]])"
            ]
          },
          "metadata": {},
          "execution_count": 14
        }
      ]
    },
    {
      "cell_type": "code",
      "source": [
        "# tensor:- create custom tensors\n",
        "torch.tensor([[1,2,3],[4,5,6]])"
      ],
      "metadata": {
        "colab": {
          "base_uri": "https://localhost:8080/"
        },
        "id": "BfPyP8tMTo9e",
        "outputId": "59e7ae9a-0a77-4d2b-8c52-737a2803b48b"
      },
      "execution_count": 15,
      "outputs": [
        {
          "output_type": "execute_result",
          "data": {
            "text/plain": [
              "tensor([[1, 2, 3],\n",
              "        [4, 5, 6]])"
            ]
          },
          "metadata": {},
          "execution_count": 15
        }
      ]
    },
    {
      "cell_type": "code",
      "source": [
        "# arange\n",
        "print(f\"Aragnge: {torch.arange(0,10,2)}\")\n",
        "print('*'*50)\n",
        "# linspace\n",
        "print(f\"LinSpace: {torch.linspace(0,10,6)}\")\n",
        "print('*'*50)\n",
        "\n",
        "# full\n",
        "print(f\"Full:{torch.full((3,5),10)}\")\n",
        "print('*'*50)\n",
        "\n",
        "# eye -> Identity matrix (diagonals are 1's)\n",
        "print(f\"Eye:{torch.eye(5)}\")\n",
        "print('*'*50)\n"
      ],
      "metadata": {
        "colab": {
          "base_uri": "https://localhost:8080/"
        },
        "id": "K9spM7AzUWui",
        "outputId": "87672d43-d03f-4b1a-ea2b-731760f5304d"
      },
      "execution_count": 22,
      "outputs": [
        {
          "output_type": "stream",
          "name": "stdout",
          "text": [
            "Aragnge: tensor([0, 2, 4, 6, 8])\n",
            "**************************************************\n",
            "LinSpace: tensor([ 0.,  2.,  4.,  6.,  8., 10.])\n",
            "**************************************************\n",
            "Full:tensor([[10, 10, 10, 10, 10],\n",
            "        [10, 10, 10, 10, 10],\n",
            "        [10, 10, 10, 10, 10]])\n",
            "**************************************************\n",
            "Eye:tensor([[1., 0., 0., 0., 0.],\n",
            "        [0., 1., 0., 0., 0.],\n",
            "        [0., 0., 1., 0., 0.],\n",
            "        [0., 0., 0., 1., 0.],\n",
            "        [0., 0., 0., 0., 1.]])\n",
            "**************************************************\n"
          ]
        }
      ]
    },
    {
      "cell_type": "code",
      "source": [
        "x = torch.tensor([[1,2,3],[4,5,6]])\n",
        "print(x)\n",
        "x.shape"
      ],
      "metadata": {
        "colab": {
          "base_uri": "https://localhost:8080/"
        },
        "id": "CoRN5B3iU31p",
        "outputId": "5abc9512-38aa-4104-83fe-220411afcb36"
      },
      "execution_count": 24,
      "outputs": [
        {
          "output_type": "stream",
          "name": "stdout",
          "text": [
            "tensor([[1, 2, 3],\n",
            "        [4, 5, 6]])\n"
          ]
        },
        {
          "output_type": "execute_result",
          "data": {
            "text/plain": [
              "torch.Size([2, 3])"
            ]
          },
          "metadata": {},
          "execution_count": 24
        }
      ]
    },
    {
      "cell_type": "code",
      "source": [
        "# _like -> Creates Same dimentions of x but different values\n",
        "print(torch.empty_like(x))\n",
        "print(torch.zeros_like(x))\n",
        "print(torch.ones_like(x))\n",
        "print(torch.rand_like(x,dtype=torch.float32))"
      ],
      "metadata": {
        "colab": {
          "base_uri": "https://localhost:8080/"
        },
        "id": "UvzQV97jVmG6",
        "outputId": "32361d5d-e615-4dcb-dba3-1efa9d19f89b"
      },
      "execution_count": 38,
      "outputs": [
        {
          "output_type": "stream",
          "name": "stdout",
          "text": [
            "tensor([[139002321569160, 100534883871184, 100532299498611],\n",
            "        [100534882830192,     68719478152, 100534883871216]])\n",
            "tensor([[0, 0, 0],\n",
            "        [0, 0, 0]])\n",
            "tensor([[1, 1, 1],\n",
            "        [1, 1, 1]])\n",
            "tensor([[0.3624, 0.4621, 0.7145],\n",
            "        [0.5058, 0.0518, 0.2492]])\n"
          ]
        }
      ]
    },
    {
      "cell_type": "markdown",
      "source": [
        "# **Tensor Data Types**"
      ],
      "metadata": {
        "id": "Ravn6cjGWZ2Z"
      }
    },
    {
      "cell_type": "code",
      "source": [
        "# find datatype\n",
        "x.dtype"
      ],
      "metadata": {
        "colab": {
          "base_uri": "https://localhost:8080/"
        },
        "id": "OdmXTvQIVmC8",
        "outputId": "fc94db7d-ea68-45be-fd39-3bbf967af665"
      },
      "execution_count": 29,
      "outputs": [
        {
          "output_type": "execute_result",
          "data": {
            "text/plain": [
              "torch.int64"
            ]
          },
          "metadata": {},
          "execution_count": 29
        }
      ]
    },
    {
      "cell_type": "code",
      "source": [
        "# assign datatypes\n",
        "print(\"Int\",torch.tensor([1.0,2.0,3.0],dtype=torch.int32))\n",
        "print(\"Float\",torch.tensor([1,2,3],dtype=torch.float64))"
      ],
      "metadata": {
        "colab": {
          "base_uri": "https://localhost:8080/"
        },
        "id": "WtnE6bgYWlsp",
        "outputId": "521909e2-e898-4af9-c103-a55baf360718"
      },
      "execution_count": 31,
      "outputs": [
        {
          "output_type": "stream",
          "name": "stdout",
          "text": [
            "Int tensor([1, 2, 3], dtype=torch.int32)\n",
            "Float tensor([1., 2., 3.], dtype=torch.float64)\n"
          ]
        }
      ]
    },
    {
      "cell_type": "code",
      "source": [
        "# change datatype using to()\n",
        "x.to(torch.float32)"
      ],
      "metadata": {
        "colab": {
          "base_uri": "https://localhost:8080/"
        },
        "id": "staG2nFjWztL",
        "outputId": "b106985c-91cf-4ca2-8930-b1f1c2f5b39c"
      },
      "execution_count": 33,
      "outputs": [
        {
          "output_type": "execute_result",
          "data": {
            "text/plain": [
              "tensor([[1., 2., 3.],\n",
              "        [4., 5., 6.]])"
            ]
          },
          "metadata": {},
          "execution_count": 33
        }
      ]
    },
    {
      "cell_type": "markdown",
      "source": [
        "# **Mathematical Operations**"
      ],
      "metadata": {
        "id": "ETSG8OV9YCxj"
      }
    },
    {
      "cell_type": "code",
      "source": [
        "m = torch.rand(2,2)\n",
        "print(m)\n",
        "# Addition\n",
        "print(\"Add\",m+2)\n",
        "# Subtraction\n",
        "print(\"Sub\",m-2)\n",
        "# Multiplication\n",
        "print(\"Multiply\",m*2)\n",
        "# Division\n",
        "print(\"Div\",m/2)\n",
        "# int division\n",
        "print(\"Int Div\",(m*100)//2)\n",
        "# mod\n",
        "print(\"Mod\",(m*100)%2)\n",
        "# power\n",
        "print(\"Power\",m**2)"
      ],
      "metadata": {
        "colab": {
          "base_uri": "https://localhost:8080/"
        },
        "id": "q5hpPuT-XTyN",
        "outputId": "ddcc9f7c-80ae-45d0-81d4-0ae2e397413c"
      },
      "execution_count": 47,
      "outputs": [
        {
          "output_type": "stream",
          "name": "stdout",
          "text": [
            "tensor([[0.7267, 0.9486],\n",
            "        [0.4388, 0.4589]])\n",
            "Add tensor([[2.7267, 2.9486],\n",
            "        [2.4388, 2.4589]])\n",
            "Sub tensor([[-1.2733, -1.0514],\n",
            "        [-1.5612, -1.5411]])\n",
            "Multiply tensor([[1.4533, 1.8972],\n",
            "        [0.8776, 0.9177]])\n",
            "Div tensor([[0.3633, 0.4743],\n",
            "        [0.2194, 0.2294]])\n",
            "Int Div tensor([[36., 47.],\n",
            "        [21., 22.]])\n",
            "Mod tensor([[0.6670, 0.8607],\n",
            "        [1.8819, 1.8858]])\n",
            "Power tensor([[0.5280, 0.8999],\n",
            "        [0.1926, 0.2106]])\n"
          ]
        }
      ]
    },
    {
      "cell_type": "code",
      "source": [
        "# mathematical operations using two tensors\n",
        "a = torch.rand(2,2)\n",
        "b = torch.rand(2,2)\n",
        "# Addition\n",
        "print(a+b)\n",
        "# Subtraction\n",
        "print(a-b)\n",
        "# ultiplication\n",
        "print(a*b)\n",
        "# Division\n",
        "print(a/b)\n",
        "# int division\n",
        "print((a*100)//b)\n",
        "# mod\n",
        "print((a*100)%b)\n",
        "# power\n",
        "print(a**b)"
      ],
      "metadata": {
        "colab": {
          "base_uri": "https://localhost:8080/"
        },
        "id": "jBqlVvuJYJ5B",
        "outputId": "b327bf9c-28f8-4fdf-bfa9-79cd443e6de4"
      },
      "execution_count": 45,
      "outputs": [
        {
          "output_type": "stream",
          "name": "stdout",
          "text": [
            "tensor([[1.4074, 0.0912],\n",
            "        [0.4420, 0.9901]])\n",
            "tensor([[ 0.2709,  0.0152],\n",
            "        [-0.1010, -0.4074]])\n",
            "tensor([[0.4768, 0.0020],\n",
            "        [0.0463, 0.2036]])\n",
            "tensor([[1.4767, 1.3992],\n",
            "        [0.6280, 0.4170]])\n",
            "tensor([[147., 139.],\n",
            "        [ 62.,  41.]])\n",
            "tensor([[0.3825, 0.0351],\n",
            "        [0.2162, 0.4876]])\n",
            "tensor([[0.9051, 0.8945],\n",
            "        [0.6186, 0.4225]])\n"
          ]
        }
      ]
    },
    {
      "cell_type": "markdown",
      "source": [
        "# We can also use python functions like round,ceil,floor,clamp like torch.floor()\n"
      ],
      "metadata": {
        "id": "T_jIIVkpatBK"
      }
    },
    {
      "cell_type": "code",
      "source": [
        "y = torch.randint(size=(2,3),low=0,high=9)\n",
        "y"
      ],
      "metadata": {
        "colab": {
          "base_uri": "https://localhost:8080/"
        },
        "id": "MNSZ20q_ZHv5",
        "outputId": "105a451a-d66a-47de-8b31-cfea3a73755e"
      },
      "execution_count": 48,
      "outputs": [
        {
          "output_type": "execute_result",
          "data": {
            "text/plain": [
              "tensor([[4, 0, 3],\n",
              "        [3, 4, 0]])"
            ]
          },
          "metadata": {},
          "execution_count": 48
        }
      ]
    },
    {
      "cell_type": "code",
      "source": [
        "# sum -> gives the sum of all the values\n",
        "print(torch.sum(y))\n",
        "# sum via colums\n",
        "print(torch.sum(y,dim=0))\n",
        "# sum via rows\n",
        "print(torch.sum(y,dim=1))"
      ],
      "metadata": {
        "colab": {
          "base_uri": "https://localhost:8080/"
        },
        "id": "N97TB3vra_pX",
        "outputId": "c976b7ed-1e4d-4334-f5d6-1f68de2bfd6a"
      },
      "execution_count": 50,
      "outputs": [
        {
          "output_type": "stream",
          "name": "stdout",
          "text": [
            "tensor(14)\n",
            "tensor([7, 4, 3])\n",
            "tensor([7, 7])\n"
          ]
        }
      ]
    },
    {
      "cell_type": "markdown",
      "source": [
        "# Statistical Operations"
      ],
      "metadata": {
        "id": "DwnAtO3Tb6kj"
      }
    },
    {
      "cell_type": "code",
      "source": [
        "z = torch.randint(size=(2,3),low=0,high=9,dtype=torch.float32)\n",
        "# mean\n",
        "print(\"Mean\",torch.mean(z))\n",
        "print(\"=\"*50)\n",
        "# median\n",
        "print(\"Mean\",torch.median(z))\n",
        "print(\"=\"*50)\n",
        "\n",
        "# mode\n",
        "print(\"Mode\",torch.mode(z))\n",
        "print(\"=\"*50)\n",
        "\n",
        "# max\n",
        "print(\"Max\",torch.max(z))\n",
        "print(\"=\"*50)\n",
        "\n",
        "#min\n",
        "print(\"Min\",torch.min(z))\n",
        "print(\"=\"*50)\n",
        "\n",
        "# Standard Deviation\n",
        "print(\"STD\",torch.std(z))\n",
        "print(\"=\"*50)\n",
        "\n",
        "# Variance\n",
        "print('Var',torch.var(z))\n",
        "print(\"=\"*50)\n",
        "# argmax and argmin\n",
        "print(\"ArgMax\",torch.argmax(z))\n",
        "print(\"ArgMin\",torch.argmin(z))\n",
        "print(\"=\"*50)\n"
      ],
      "metadata": {
        "colab": {
          "base_uri": "https://localhost:8080/"
        },
        "id": "nAiqKkpabDVc",
        "outputId": "0bf376e9-d886-4b4b-e80a-f246a0ddaab7"
      },
      "execution_count": 54,
      "outputs": [
        {
          "output_type": "stream",
          "name": "stdout",
          "text": [
            "Mean tensor(4.3333)\n",
            "==================================================\n",
            "Mean tensor(4.)\n",
            "==================================================\n",
            "Mode torch.return_types.mode(\n",
            "values=tensor([2., 1.]),\n",
            "indices=tensor([2, 0]))\n",
            "==================================================\n",
            "Max tensor(8.)\n",
            "==================================================\n",
            "Min tensor(1.)\n",
            "==================================================\n",
            "STD tensor(2.5820)\n",
            "==================================================\n",
            "Var tensor(6.6667)\n",
            "==================================================\n",
            "ArgMax tensor(0)\n",
            "ArgMin tensor(3)\n",
            "==================================================\n"
          ]
        }
      ]
    },
    {
      "cell_type": "markdown",
      "source": [
        "# Matrix Operations"
      ],
      "metadata": {
        "id": "-Ijrlik0codh"
      }
    },
    {
      "cell_type": "code",
      "source": [
        "c = torch.rand(2,3)\n",
        "d = torch.rand(3,2)"
      ],
      "metadata": {
        "id": "bYTfBPg8bvms"
      },
      "execution_count": 63,
      "outputs": []
    },
    {
      "cell_type": "code",
      "source": [
        "# matrix multiplication\n",
        "print('Mat Mul',torch.matmul(c,d))\n",
        "print(\"=\"*50)\n",
        "v1 = torch.tensor([1,2])\n",
        "v2 = torch.tensor([3,4])\n",
        "# dot product\n",
        "print(\"Dot Product\",torch.dot(v1,v2))\n",
        "print(\"=\"*50)\n",
        "# transpose\n",
        "print(\"Transpose\",torch.transpose(c,0,1))"
      ],
      "metadata": {
        "colab": {
          "base_uri": "https://localhost:8080/"
        },
        "id": "6L_8lEL8cxTD",
        "outputId": "c7b460f8-5602-483d-955b-0e184292b084"
      },
      "execution_count": 68,
      "outputs": [
        {
          "output_type": "stream",
          "name": "stdout",
          "text": [
            "Mat Mul tensor([[1.7338, 0.7294],\n",
            "        [1.4756, 0.7643]])\n",
            "==================================================\n",
            "Dot Product tensor(11)\n",
            "==================================================\n",
            "Transpose tensor([[0.5926, 0.9680],\n",
            "        [0.7300, 0.1494],\n",
            "        [0.9768, 0.9826]])\n"
          ]
        }
      ]
    },
    {
      "cell_type": "code",
      "source": [
        "print(v1>v2)\n",
        "print(v1<v2)\n",
        "print(v1==v2)\n",
        "print(v1<=v2)\n",
        "print(v1>=v2)"
      ],
      "metadata": {
        "colab": {
          "base_uri": "https://localhost:8080/"
        },
        "id": "q7O0thYKc8pT",
        "outputId": "632bcab7-f4ba-488b-9667-693fa2bf7267"
      },
      "execution_count": 71,
      "outputs": [
        {
          "output_type": "stream",
          "name": "stdout",
          "text": [
            "tensor([False, False])\n",
            "tensor([True, True])\n",
            "tensor([False, False])\n",
            "tensor([True, True])\n",
            "tensor([False, False])\n"
          ]
        }
      ]
    },
    {
      "cell_type": "markdown",
      "source": [
        "# Inplace Operations"
      ],
      "metadata": {
        "id": "VukUPMfWecKJ"
      }
    },
    {
      "cell_type": "markdown",
      "source": [
        "# Why Inplace\n",
        "- If we want to add v1 + v2 we need to store in another variable\n",
        "- v3 = v1 + v2\n",
        "- v3 takes another memory space\n",
        "- to make it efficient we store the sum of v1 and v2 in one of these (v1 or v2)\n",
        "\n",
        "- add _ to perform inplace operations"
      ],
      "metadata": {
        "id": "lqv1I160eod6"
      }
    },
    {
      "cell_type": "code",
      "source": [
        "print(\"v1\",v1)\n",
        "print(\"v2\",v2)\n",
        "v1.add_(v2)\n",
        "print(v1)"
      ],
      "metadata": {
        "colab": {
          "base_uri": "https://localhost:8080/"
        },
        "id": "xA_QQNKzeF18",
        "outputId": "f31c9159-4493-4682-c592-852b81748100"
      },
      "execution_count": 74,
      "outputs": [
        {
          "output_type": "stream",
          "name": "stdout",
          "text": [
            "v1 tensor([ 7, 10])\n",
            "v2 tensor([3, 4])\n",
            "tensor([10, 14])\n"
          ]
        }
      ]
    },
    {
      "cell_type": "markdown",
      "source": [
        "# Copying a Tensor"
      ],
      "metadata": {
        "id": "u1hsHFMCfZ2M"
      }
    },
    {
      "cell_type": "code",
      "source": [
        "import torch\n",
        "\n",
        "a = torch.rand(2, 3)\n",
        "print(\"a:\", a)  # Initial random 2x3 tensor\n",
        "\n",
        "# Assuming 'b' should be the same reference\n",
        "b = a  # b points to the same object as a\n",
        "print(\"b (same as a):\", b)\n",
        "\n",
        "# Cloning 'a' to 'c' for a true shallow copy\n",
        "c = a.clone()  # c is a new tensor with the same data\n",
        "print(\"c (clone of a):\", c)\n",
        "\n",
        "# Modify 'a' and check effect on 'c'\n",
        "a[0, 0] = 99  # Changing a should not affect c\n",
        "print(\"Modified a:\", a)\n",
        "print(\"c after a change:\", c)\n"
      ],
      "metadata": {
        "colab": {
          "base_uri": "https://localhost:8080/"
        },
        "id": "RVgN5QdFfdgV",
        "outputId": "74edf112-c38c-4d11-8b36-a119fd8971c0"
      },
      "execution_count": 83,
      "outputs": [
        {
          "output_type": "stream",
          "name": "stdout",
          "text": [
            "a: tensor([[0.7539, 0.6718, 0.8547],\n",
            "        [0.6662, 0.1022, 0.3406]])\n",
            "b (same as a): tensor([[0.7539, 0.6718, 0.8547],\n",
            "        [0.6662, 0.1022, 0.3406]])\n",
            "c (clone of a): tensor([[0.7539, 0.6718, 0.8547],\n",
            "        [0.6662, 0.1022, 0.3406]])\n",
            "Modified a: tensor([[99.0000,  0.6718,  0.8547],\n",
            "        [ 0.6662,  0.1022,  0.3406]])\n",
            "c after a change: tensor([[0.7539, 0.6718, 0.8547],\n",
            "        [0.6662, 0.1022, 0.3406]])\n"
          ]
        }
      ]
    },
    {
      "cell_type": "markdown",
      "source": [
        "# Operations On GPU\n",
        "- Until now we are not using GPU's"
      ],
      "metadata": {
        "id": "lWmYVy8bg_IS"
      }
    },
    {
      "cell_type": "code",
      "source": [
        "# Check GPU is available or not\n",
        "torch.cuda.is_available()\n",
        "# Store GPU\n",
        "device = torch.device('cuda')\n",
        "print(device)"
      ],
      "metadata": {
        "colab": {
          "base_uri": "https://localhost:8080/"
        },
        "id": "F_uvWyA-flS2",
        "outputId": "1db2a2fb-1b87-41c1-d7db-77b3d33a19dd"
      },
      "execution_count": 87,
      "outputs": [
        {
          "output_type": "stream",
          "name": "stdout",
          "text": [
            "cuda\n"
          ]
        }
      ]
    },
    {
      "cell_type": "code",
      "source": [
        "# Creating a new tensor on GPU\n",
        "torch.tensor([1,2],device=device)"
      ],
      "metadata": {
        "colab": {
          "base_uri": "https://localhost:8080/"
        },
        "id": "iU81Zhw5gcyd",
        "outputId": "d4202cdb-86a7-4c3a-8e0a-c5ef30f6a66c"
      },
      "execution_count": 88,
      "outputs": [
        {
          "output_type": "execute_result",
          "data": {
            "text/plain": [
              "tensor([1, 2], device='cuda:0')"
            ]
          },
          "metadata": {},
          "execution_count": 88
        }
      ]
    },
    {
      "cell_type": "code",
      "source": [
        "# moving an existing tensor to GPU\n",
        "q = torch.rand(2,2)\n",
        "q.to(device)"
      ],
      "metadata": {
        "colab": {
          "base_uri": "https://localhost:8080/"
        },
        "id": "CKheVu73hvgS",
        "outputId": "64dfa718-0556-4f83-f38a-b2b9b6e75d3c"
      },
      "execution_count": 89,
      "outputs": [
        {
          "output_type": "execute_result",
          "data": {
            "text/plain": [
              "tensor([[0.3004, 0.6601],\n",
              "        [0.2266, 0.8444]], device='cuda:0')"
            ]
          },
          "metadata": {},
          "execution_count": 89
        }
      ]
    },
    {
      "cell_type": "markdown",
      "source": [
        "# Reshape"
      ],
      "metadata": {
        "id": "SFqS3N18iolO"
      }
    },
    {
      "cell_type": "code",
      "source": [
        "a = torch.ones(4,4)\n",
        "print(a)\n",
        "a.reshape(2,2,2,2)"
      ],
      "metadata": {
        "colab": {
          "base_uri": "https://localhost:8080/"
        },
        "id": "B6jQLL1sh6_G",
        "outputId": "6202f46c-4372-4e51-a303-1ac9034a1b2d"
      },
      "execution_count": 90,
      "outputs": [
        {
          "output_type": "stream",
          "name": "stdout",
          "text": [
            "tensor([[1., 1., 1., 1.],\n",
            "        [1., 1., 1., 1.],\n",
            "        [1., 1., 1., 1.],\n",
            "        [1., 1., 1., 1.]])\n"
          ]
        },
        {
          "output_type": "execute_result",
          "data": {
            "text/plain": [
              "tensor([[[[1., 1.],\n",
              "          [1., 1.]],\n",
              "\n",
              "         [[1., 1.],\n",
              "          [1., 1.]]],\n",
              "\n",
              "\n",
              "        [[[1., 1.],\n",
              "          [1., 1.]],\n",
              "\n",
              "         [[1., 1.],\n",
              "          [1., 1.]]]])"
            ]
          },
          "metadata": {},
          "execution_count": 90
        }
      ]
    },
    {
      "cell_type": "code",
      "source": [
        "a.flatten()"
      ],
      "metadata": {
        "colab": {
          "base_uri": "https://localhost:8080/"
        },
        "id": "u8xwWfekix1b",
        "outputId": "7741c5c6-28cb-4f42-e70f-74ba9349db9d"
      },
      "execution_count": 91,
      "outputs": [
        {
          "output_type": "execute_result",
          "data": {
            "text/plain": [
              "tensor([1., 1., 1., 1., 1., 1., 1., 1., 1., 1., 1., 1., 1., 1., 1., 1.])"
            ]
          },
          "metadata": {},
          "execution_count": 91
        }
      ]
    },
    {
      "cell_type": "code",
      "source": [
        "b = torch.rand(2,3,4)\n",
        "print(b)\n",
        "print(\"*\"*50)\n",
        "# permute\n",
        "c = b.permute(2,0,1) # Here 2,0,1 are indices for 2,3,4\n",
        "print(b.shape)\n",
        "print(c.shape)"
      ],
      "metadata": {
        "colab": {
          "base_uri": "https://localhost:8080/"
        },
        "id": "GqAIbMLpi3Eo",
        "outputId": "7dbc6260-1874-417e-80cc-929202723934"
      },
      "execution_count": 99,
      "outputs": [
        {
          "output_type": "stream",
          "name": "stdout",
          "text": [
            "tensor([[[0.5838, 0.5919, 0.9227, 0.8773],\n",
            "         [0.6719, 0.6709, 0.5859, 0.5352],\n",
            "         [0.9730, 0.2216, 0.5942, 0.6693]],\n",
            "\n",
            "        [[0.4632, 0.5951, 0.9750, 0.9116],\n",
            "         [0.9228, 0.0453, 0.0866, 0.5617],\n",
            "         [0.5345, 0.8589, 0.7819, 0.1666]]])\n",
            "**************************************************\n",
            "torch.Size([2, 3, 4])\n",
            "torch.Size([4, 2, 3])\n"
          ]
        }
      ]
    },
    {
      "cell_type": "markdown",
      "source": [
        "Numpy and PyTorch"
      ],
      "metadata": {
        "id": "OeCAQQ__kHRA"
      }
    },
    {
      "cell_type": "code",
      "source": [
        "# Pytorch Tensor to Numpy array\n",
        "tens = torch.tensor([1,2,3])\n",
        "print(tens)\n",
        "print(type(tens))\n",
        "num = tens.numpy()\n",
        "print(num)\n",
        "print(type(num))"
      ],
      "metadata": {
        "colab": {
          "base_uri": "https://localhost:8080/"
        },
        "id": "uqAlcGWpi-Yl",
        "outputId": "e9b922d7-8fc9-4d90-bf47-97bce768d2fb"
      },
      "execution_count": 102,
      "outputs": [
        {
          "output_type": "stream",
          "name": "stdout",
          "text": [
            "tensor([1, 2, 3])\n",
            "<class 'torch.Tensor'>\n",
            "[1 2 3]\n",
            "<class 'numpy.ndarray'>\n"
          ]
        }
      ]
    },
    {
      "cell_type": "code",
      "source": [
        "# Numpy to Pytorch\n",
        "print(num)\n",
        "print(type(num))\n",
        "k = torch.from_numpy(num)\n",
        "print(k)\n",
        "print(type(k))"
      ],
      "metadata": {
        "colab": {
          "base_uri": "https://localhost:8080/"
        },
        "id": "s6UBBdWSkh5d",
        "outputId": "3082ba98-ad6a-4efa-d7b2-734d539d47cb"
      },
      "execution_count": 106,
      "outputs": [
        {
          "output_type": "stream",
          "name": "stdout",
          "text": [
            "[1 2 3]\n",
            "<class 'numpy.ndarray'>\n",
            "tensor([1, 2, 3])\n",
            "<class 'torch.Tensor'>\n"
          ]
        }
      ]
    },
    {
      "cell_type": "code",
      "source": [],
      "metadata": {
        "id": "SiOwO7-2k2rp"
      },
      "execution_count": null,
      "outputs": []
    }
  ]
}
