{
  "cells": [
    {
      "cell_type": "code",
      "execution_count": null,
      "metadata": {},
      "outputs": [],
      "source": [
        "import os\n",
        "import torch\n",
        "from torchvision.utils.data import DataLoader\n",
        "from torchvision import transforms\n",
        "from torch import optim\n",
        "from torch import nn"
      ]
    },
    {
      "cell_type": "code",
      "execution_count": null,
      "metadata": {},
      "outputs": [],
      "source": [
        "train_dir = image_path / \"train\"\n",
        "test_dir = image_path / \"test\"\n",
        "train_dir,test_dir"
      ]
    },
    {
      "cell_type": "code",
      "execution_count": null,
      "metadata": {},
      "outputs": [],
      "source": [
        "data_transform = transforms.Compose([\n",
        "    transforms.Resize(size=(64,64)),\n",
        "    transforms.RandomHorizontalFlip(p=0.1),\n",
        "    transforms.ToTensor()\n",
        "])"
      ]
    },
    {
      "cell_type": "code",
      "execution_count": null,
      "metadata": {
        "id": "WkoWNzUBM7wS"
      },
      "outputs": [],
      "source": [
        "from torchvision.datasets import ImageFolder\n",
        "\n",
        "train_data = ImageFolder(root=train_dir,\n",
        "                         transform=data_transform)\n",
        "test_data = ImageFolder(root=test_dir,\n",
        "                        transform=data_transform)"
      ]
    },
    {
      "cell_type": "code",
      "execution_count": null,
      "metadata": {
        "colab": {
          "base_uri": "https://localhost:8080/"
        },
        "id": "VKRLGzHjHPrK",
        "outputId": "ad9c12ff-db53-4292-ed97-0bdfd052d1b1"
      },
      "outputs": [],
      "source": [
        "train_dataloader = DataLoader(train_data,batch_size=32,shuffle=True)\n",
        "test_dataloader = DataLoader(test_data,batch_size=32)\n",
        "\n",
        "train_dataloader,test_dataloader"
      ]
    },
    {
      "cell_type": "code",
      "execution_count": null,
      "metadata": {
        "colab": {
          "base_uri": "https://localhost:8080/"
        },
        "id": "WEwSDNzzJYt9",
        "outputId": "1a4a3708-9de6-49fd-d9d7-c47e01bebb56"
      },
      "outputs": [],
      "source": [
        "print(f\"Length of train data: {len(train_data)} and test data: {len(test_data)}\")\n",
        "print(f\"Length of train dataloader: {len(train_dataloader)} and test dataloader: {len(test_dataloader)}\")"
      ]
    },
    {
      "cell_type": "code",
      "execution_count": null,
      "metadata": {
        "colab": {
          "base_uri": "https://localhost:8080/"
        },
        "id": "VqZ52aB_JZ2P",
        "outputId": "2bcdf17d-4334-43ba-e018-f7ad3ea1450b"
      },
      "outputs": [],
      "source": [
        "img,target = next(iter(train_dataloader))\n",
        "print(f\"Image Shape: {img.shape} -> [batch_size,colour_channel,height,width]\")\n",
        "print(f\"Target Shape: {target.shape}\")"
      ]
    },
    {
      "cell_type": "code",
      "execution_count": null,
      "metadata": {
        "colab": {
          "base_uri": "https://localhost:8080/",
          "height": 36
        },
        "id": "aSMh-2WjpftI",
        "outputId": "a4ac182e-02fc-4d3e-e6b0-6fb376217d07"
      },
      "outputs": [],
      "source": [
        "device = \"cuda\" if torch.cuda.is_available() else \"cpu\"\n",
        "device"
      ]
    },
    {
      "cell_type": "markdown",
      "metadata": {
        "id": "Ec6MIaCofvYO"
      },
      "source": [
        "## Base Model -> TinyVGG"
      ]
    },
    {
      "cell_type": "code",
      "execution_count": null,
      "metadata": {
        "id": "LoHlsXI4XQpy"
      },
      "outputs": [],
      "source": [
        "simple_data_transform = transforms.Compose([\n",
        "    transforms.Resize((64,64)),\n",
        "    transforms.ToTensor()\n",
        "])\n",
        "\n",
        "train_data_simple = ImageFolder(\n",
        "    root=train_dir,\n",
        "    transform = simple_data_transform\n",
        ")\n",
        "\n",
        "test_data_simple = ImageFolder(\n",
        "    root=test_dir,\n",
        "    transform = simple_data_transform\n",
        ")"
      ]
    },
    {
      "cell_type": "code",
      "execution_count": null,
      "metadata": {
        "id": "evqbfiXdhH2K"
      },
      "outputs": [],
      "source": [
        "import os\n",
        "BATCH_SIZE = 32\n",
        "NUM_WORKERS = os.cpu_count()\n",
        "train_data_simple_dataloader = DataLoader(dataset=train_data_simple,\n",
        "                                          batch_size=BATCH_SIZE,\n",
        "                                          num_workers=NUM_WORKERS,\n",
        "                                          shuffle=True)\n",
        "test_data_simple_dataloader = DataLoader(dataset=test_data_simple,\n",
        "                                          batch_size=BATCH_SIZE,\n",
        "                                          num_workers=NUM_WORKERS,\n",
        "                                          shuffle=False)"
      ]
    },
    {
      "cell_type": "code",
      "execution_count": null,
      "metadata": {
        "id": "XIaDrZ0ohsnt"
      },
      "outputs": [],
      "source": [
        "from torch import nn\n",
        "\n",
        "class TinyVGG(nn.Module):\n",
        "    def __init__(self, input_units, hidden_units, output_units):\n",
        "        super().__init__()\n",
        "\n",
        "        # First conv block\n",
        "        self.conv_1 = nn.Sequential(\n",
        "            nn.Conv2d(\n",
        "                in_channels=input_units,\n",
        "                out_channels=hidden_units,\n",
        "                kernel_size=3,\n",
        "                padding=0,\n",
        "                stride=1\n",
        "            ),\n",
        "            nn.ReLU(),\n",
        "            nn.Conv2d(\n",
        "                in_channels=hidden_units,\n",
        "                out_channels=hidden_units,\n",
        "                kernel_size=3,\n",
        "                stride=1,\n",
        "                padding=0\n",
        "            ),\n",
        "            nn.ReLU(),\n",
        "            nn.MaxPool2d(kernel_size=2, stride=2)\n",
        "        )\n",
        "\n",
        "        # Second conv block\n",
        "        self.conv_2 = nn.Sequential(\n",
        "            nn.Conv2d(\n",
        "                in_channels=hidden_units,\n",
        "                out_channels=hidden_units,\n",
        "                kernel_size=3,\n",
        "                padding=0,\n",
        "                stride=1\n",
        "            ),\n",
        "            nn.ReLU(),\n",
        "            nn.Conv2d(\n",
        "                in_channels=hidden_units,\n",
        "                out_channels=hidden_units,\n",
        "                kernel_size=3,\n",
        "                stride=1,\n",
        "                padding=0\n",
        "            ),\n",
        "            nn.ReLU(),\n",
        "            nn.MaxPool2d(kernel_size=2, stride=2)\n",
        "        )\n",
        "\n",
        "        self.conv_3 = nn.Sequential(\n",
        "            nn.Conv2d(\n",
        "                in_channels=hidden_units,\n",
        "                out_channels=hidden_units,\n",
        "                kernel_size=3,\n",
        "                padding=0,\n",
        "                stride=1\n",
        "            ),\n",
        "            nn.ReLU(),\n",
        "            nn.Conv2d(\n",
        "                in_channels=hidden_units,\n",
        "                out_channels=hidden_units,\n",
        "                kernel_size=3,\n",
        "                stride=1,\n",
        "                padding=0\n",
        "            ),\n",
        "            nn.ReLU(),\n",
        "            nn.MaxPool2d(kernel_size=2, stride=2)\n",
        "        )\n",
        "\n",
        "        self.classifier = nn.Sequential(\n",
        "            nn.Flatten(),\n",
        "            nn.Linear(in_features=hidden_units*4*4,\n",
        "                      out_features=output_units)\n",
        "        )\n",
        "\n",
        "    def forward(self, x: nn.Module):\n",
        "        x = self.conv_1(x)\n",
        "        # print(\"After conv_1:\", x.shape)\n",
        "        x = self.conv_2(x)\n",
        "        # print(\"After conv_2:\", x.shape)\n",
        "        x = self.conv_3(x)\n",
        "        # print(\"After con_3:\", x.shape)\n",
        "        x = self.classifier(x)\n",
        "        # print(\"After classifier:\", x.shape)\n",
        "        return x\n"
      ]
    },
    {
      "cell_type": "code",
      "execution_count": null,
      "metadata": {
        "id": "YwKvh-nRkI5t"
      },
      "outputs": [],
      "source": [
        "torch.manual_seed(42)\n",
        "model_0 = TinyVGG(input_units=3,\n",
        "                  hidden_units=64,\n",
        "                  output_units=len(class_names)\n",
        "                  ).to(device)\n",
        "# print(model_0)"
      ]
    },
    {
      "cell_type": "code",
      "execution_count": null,
      "metadata": {
        "colab": {
          "base_uri": "https://localhost:8080/"
        },
        "id": "6vNERnAYpcqm",
        "outputId": "8db5ad8f-5424-4b53-fab2-98dcc888e68f"
      },
      "outputs": [],
      "source": [
        "image_batch, target_batch = next(iter(train_data_simple_dataloader))\n",
        "print(target_batch)"
      ]
    },
    {
      "cell_type": "markdown",
      "metadata": {
        "id": "xnh-LYxCqNlh"
      },
      "source": [
        "RuntimeError: mat1 and mat2 shapes cannot be multiplied (32x2560 and 10x3)\n",
        "\n",
        "256 should be multiplied to 10 in forward method"
      ]
    },
    {
      "cell_type": "code",
      "execution_count": null,
      "metadata": {
        "id": "MdA3mF2Vp9AP"
      },
      "outputs": [],
      "source": [
        "# model_0(image_batch.to(device))"
      ]
    },
    {
      "cell_type": "code",
      "execution_count": null,
      "metadata": {
        "colab": {
          "base_uri": "https://localhost:8080/"
        },
        "id": "woSGLnxuqKmP",
        "outputId": "4f5a8802-7eaa-43ea-8120-8f569354f83f"
      },
      "outputs": [],
      "source": [
        "%pip install torchinfo"
      ]
    },
    {
      "cell_type": "code",
      "execution_count": null,
      "metadata": {
        "colab": {
          "base_uri": "https://localhost:8080/"
        },
        "id": "uo_JjqSCrPun",
        "outputId": "af97abd1-2005-44ac-9f56-17bcc8a2d9bb"
      },
      "outputs": [],
      "source": [
        "from torchinfo import summary\n",
        "summary(model_0)"
      ]
    },
    {
      "cell_type": "code",
      "execution_count": null,
      "metadata": {
        "id": "83YilLYJ0X1j"
      },
      "outputs": [],
      "source": [
        "from torch import optim\n",
        "EPOCHS = 20\n",
        "LR = 0.001\n",
        "loss_fn = nn.CrossEntropyLoss()\n",
        "optimizer = optim.Adam(model_0.parameters(),lr=LR)"
      ]
    },
    {
      "cell_type": "code",
      "execution_count": null,
      "metadata": {
        "id": "0Q5uw9wqrYKO"
      },
      "outputs": [],
      "source": [
        "from tqdm.auto import tqdm\n",
        "\n",
        "def train_step(\n",
        "    model: torch.nn.Module,\n",
        "    data_loader: torch.utils.data.DataLoader,\n",
        "    loss_fn: torch.nn.Module,\n",
        "    optimizer: torch.optim.Optimizer,\n",
        "    device: torch.device\n",
        "):\n",
        "    \"\"\"Train the model for one epoch.\"\"\"\n",
        "    model.train()\n",
        "    train_loss, correct_preds = 0, 0\n",
        "\n",
        "    for batch, (X, y) in enumerate(data_loader):\n",
        "        X, y = X.to(device), y.to(device)\n",
        "\n",
        "        # Forward pass\n",
        "        y_pred = model(X)\n",
        "        loss = loss_fn(y_pred, y)\n",
        "        train_loss += loss.item()\n",
        "\n",
        "        # Backpropagation\n",
        "        optimizer.zero_grad()\n",
        "        loss.backward()\n",
        "        optimizer.step()\n",
        "\n",
        "        # Accuracy\n",
        "        y_pred_class = torch.argmax(y_pred, dim=1)\n",
        "        correct_preds += (y_pred_class == y).sum().item()\n",
        "\n",
        "    train_loss /= len(data_loader)\n",
        "    train_acc = correct_preds / len(data_loader.dataset) # type: ignore\n",
        "\n",
        "    print(f\"Train Loss: {train_loss:.3f} | Train Acc: {train_acc:.3f}\")\n",
        "    return train_loss,train_acc\n",
        "\n",
        "\n",
        "def test_step(\n",
        "    model: torch.nn.Module,\n",
        "    data_loader: torch.utils.data.DataLoader,\n",
        "    loss_fn: torch.nn.Module,\n",
        "    device: torch.device\n",
        "):\n",
        "    \"\"\"Evaluate the model on the test dataset.\"\"\"\n",
        "    model.eval()\n",
        "    test_loss, correct_preds = 0, 0\n",
        "\n",
        "    with torch.inference_mode():\n",
        "        for batch, (X_t, y_t) in enumerate(data_loader):\n",
        "            X_t, y_t = X_t.to(device), y_t.to(device)\n",
        "\n",
        "            test_logits = model(X_t)\n",
        "            loss = loss_fn(test_logits, y_t)\n",
        "            test_loss += loss.item()\n",
        "\n",
        "            test_logits_class = torch.argmax(test_logits, dim=1)\n",
        "            correct_preds += (test_logits_class == y_t).sum().item()\n",
        "\n",
        "    test_loss /= len(data_loader)\n",
        "    test_acc = correct_preds / len(data_loader.dataset) # type: ignore\n",
        "\n",
        "    print(f\"Test Loss: {test_loss:.3f} | Test Acc: {test_acc:.3f}\")\n",
        "    return test_loss,test_acc"
      ]
    },
    {
      "cell_type": "code",
      "execution_count": null,
      "metadata": {
        "id": "afbbxbRF3ko6"
      },
      "outputs": [],
      "source": [
        "from tqdm.auto import tqdm\n",
        "import torch\n",
        "from typing import Optional\n",
        "\n",
        "def train(\n",
        "    num_epochs: int,\n",
        "    model: torch.nn.Module,\n",
        "    train_loader: torch.utils.data.DataLoader,\n",
        "    test_loader: torch.utils.data.DataLoader,\n",
        "    loss_fn: torch.nn.Module,\n",
        "    optimizer: torch.optim.Optimizer,\n",
        "    device: torch.device,\n",
        "):\n",
        "    \"\"\"Run training + testing for multiple epochs.\"\"\"\n",
        "    results = {\n",
        "        \"train_loss\": [],\n",
        "        \"train_acc\": [],\n",
        "        \"test_loss\": [],\n",
        "        \"test_acc\": [],\n",
        "    }\n",
        "\n",
        "    for epoch in tqdm(range(num_epochs)):\n",
        "        print(f\"\\nEpoch {epoch+1}/{num_epochs}\")\n",
        "\n",
        "        # Training\n",
        "        train_loss, train_acc = train_step(\n",
        "            model=model,\n",
        "            data_loader=train_loader,\n",
        "            loss_fn=loss_fn,\n",
        "            optimizer=optimizer,\n",
        "            device=device,\n",
        "        )\n",
        "\n",
        "        # Testing\n",
        "        test_loss, test_acc = test_step(\n",
        "            model=model,\n",
        "            data_loader=test_loader,\n",
        "            loss_fn=loss_fn,\n",
        "            device=device,\n",
        "        )\n",
        "\n",
        "        # Save results\n",
        "        results[\"train_loss\"].append(train_loss)\n",
        "        results[\"train_acc\"].append(train_acc)\n",
        "        results[\"test_loss\"].append(test_loss)\n",
        "        results[\"test_acc\"].append(test_acc)\n",
        "\n",
        "    return results\n"
      ]
    },
    {
      "cell_type": "code",
      "execution_count": null,
      "metadata": {
        "colab": {
          "base_uri": "https://localhost:8080/",
          "height": 1000,
          "referenced_widgets": [
            "f9cb8e4389aa44819c364349cfcdb56a",
            "3a9b140b38c34be3a04b5f3d7435eb1a",
            "c63c92b393414deb959be3e7a6695c11",
            "909cf370af3049788a832d83278e313c",
            "9320723a7c83469c83607dfbd561a595",
            "39bd146ad04447e486415eb87b1cd839",
            "7fe587c95efd407e8a1ddb34ae93d1c6",
            "5678fac7d2c545a79348434742c88560",
            "8b93a172cf2346778834b6bb3b44d333",
            "1ad21e0f964946788b754e2cd67b4e86",
            "ef2b4dd5a9ed42228b0a26f1f54e7cb7"
          ]
        },
        "id": "Ap5VLzRg_T9R",
        "outputId": "0bd79dca-6bf5-41bd-bb9e-af9eb26218f6"
      },
      "outputs": [],
      "source": [
        "model_0_results  = train(num_epochs=EPOCHS,\n",
        "      model=model_0,\n",
        "      train_loader=train_data_simple_dataloader,\n",
        "      test_loader=test_data_simple_dataloader,\n",
        "      loss_fn=loss_fn,\n",
        "      optimizer=optimizer,\n",
        "      device=device)"
      ]
    },
    {
      "cell_type": "code",
      "execution_count": null,
      "metadata": {
        "id": "nYboHoov6b9N"
      },
      "outputs": [],
      "source": [
        "from typing import Dict,List\n",
        "def plot_loss_curves(results:Dict[str,List[float]]):\n",
        "  \"\"\" Plots training curves of a results dictionary \"\"\"\n",
        "  loss = results[\"train_loss\"]\n",
        "  test_loss = results[\"test_loss\"]\n",
        "\n",
        "  train_acc = results[\"train_acc\"]\n",
        "  test_acc = results[\"test_acc\"]\n",
        "\n",
        "  epochs = range(len(results[\"train_loss\"]))\n",
        "\n",
        "  plt.figure(figsize=(15,4))\n",
        "  plt.subplot(1,2,1)\n",
        "  plt.plot(epochs,loss,label=\"train_loss\")\n",
        "  plt.plot(epochs,test_loss,label=\"test_loss\")\n",
        "  plt.title(\"Loss\")\n",
        "  plt.xlabel(\"Epochs\")\n",
        "  plt.legend()\n",
        "\n",
        "  plt.subplot(1,2,2)\n",
        "  plt.plot(epochs,train_acc,label=\"train_accuracy\")\n",
        "  plt.plot(epochs,test_acc,label=\"test accuracy\")\n",
        "  plt.title(\"Accuracy\")\n",
        "  plt.xlabel(\"Epochs\")\n",
        "  plt.legend()"
      ]
    },
    {
      "cell_type": "code",
      "execution_count": null,
      "metadata": {
        "colab": {
          "base_uri": "https://localhost:8080/",
          "height": 223
        },
        "id": "7NwTHLd-CZfD",
        "outputId": "c603833c-60e9-42f7-b161-7f97d12881b1"
      },
      "outputs": [],
      "source": [
        "plot_loss_curves(model_0_results)"
      ]
    },
    {
      "cell_type": "markdown",
      "metadata": {
        "id": "w8yZAIjIeuCb"
      },
      "source": [
        "# TinyVGG with Data Augmentaton"
      ]
    },
    {
      "cell_type": "code",
      "execution_count": null,
      "metadata": {
        "id": "TSSTevXqChmf"
      },
      "outputs": [],
      "source": [
        "train_transform_trivial = transforms.Compose([\n",
        "    transforms.Resize((64,64)),\n",
        "    transforms.TrivialAugmentWide(num_magnitude_bins=31), # 0 to 31\n",
        "    transforms.ToTensor()\n",
        "])\n",
        "\n",
        "test_transform_simple = transforms.Compose([\n",
        "    transforms.Resize(size=(64,64)),\n",
        "    transforms.ToTensor()\n",
        "])"
      ]
    },
    {
      "cell_type": "code",
      "execution_count": null,
      "metadata": {
        "id": "-UJfmduUfYAo"
      },
      "outputs": [],
      "source": [
        "train_data_simple_augment=  ImageFolder(root=train_dir,\n",
        "                                        transform=train_transform_trivial)\n",
        "test_data_simple_augment = ImageFolder(root=test_dir,\n",
        "                                       transform=test_transform_simple)"
      ]
    },
    {
      "cell_type": "code",
      "execution_count": null,
      "metadata": {
        "id": "6g8MxOK_gKyH"
      },
      "outputs": [],
      "source": [
        "train_data_simple_augment_dataloader= DataLoader(\n",
        "                                              dataset=train_data_simple_augment,\n",
        "                                              shuffle=True,\n",
        "                                              batch_size=BATCH_SIZE,\n",
        "                                              num_workers=NUM_WORKERS)\n",
        "\n",
        "test_data_simple_augment_dataloader = DataLoader(\n",
        "    dataset=test_data_simple_augment,\n",
        "    batch_size=BATCH_SIZE,\n",
        "    num_workers=NUM_WORKERS\n",
        "    )"
      ]
    },
    {
      "cell_type": "code",
      "execution_count": null,
      "metadata": {
        "colab": {
          "base_uri": "https://localhost:8080/"
        },
        "id": "rkKlVm9RgLwX",
        "outputId": "894280cb-f9af-4747-e4bf-20b117b94f53"
      },
      "outputs": [],
      "source": [
        "len((next(iter(train_data_simple_augment_dataloader)))[0])"
      ]
    },
    {
      "cell_type": "code",
      "execution_count": null,
      "metadata": {
        "id": "4GooQJlhg3Bk"
      },
      "outputs": [],
      "source": [
        "model_1 = TinyVGG(input_units=3,\n",
        "                  hidden_units=64,\n",
        "                  output_units=len(class_names))\n",
        "# print(model_1)"
      ]
    },
    {
      "cell_type": "code",
      "execution_count": null,
      "metadata": {
        "id": "ZtHPXEp6mT4j"
      },
      "outputs": [],
      "source": [
        "LR = 0.001\n",
        "optimizer = optim.Adam(model_1.parameters(),lr=LR)\n",
        "loss_fn = nn.CrossEntropyLoss()"
      ]
    },
    {
      "cell_type": "code",
      "execution_count": null,
      "metadata": {
        "colab": {
          "base_uri": "https://localhost:8080/",
          "height": 1000,
          "referenced_widgets": [
            "507ae3747fcd4d91824f4e751c8823a5",
            "2774ef4a610149b49bef8a35f5d9b51e",
            "bcc8803e3900428a9087cc6c00c28b71",
            "6141dcfdffcf45ea80c79ec70876fd40",
            "d98ff8a6241741a2b8deb726200b0615",
            "a050a902c3a54059a97eb3377c5db5a1",
            "3ee2ae05ed36469b955b695816c9f27d",
            "898d91a4a92344a481000caf40016f91",
            "f427446e2809461cb7c4789f234d25ca",
            "e172000847954737839a7d19b1d4965a",
            "6ef1cbadb22642bcacbc121886bc76a6"
          ]
        },
        "id": "hSXEfhAplDiT",
        "outputId": "6333bcb5-6237-41eb-c890-94852bd6911a"
      },
      "outputs": [],
      "source": [
        "model_1_results = train(num_epochs=20,\n",
        "                        model=model_1,\n",
        "                        train_loader=train_data_simple_augment_dataloader,\n",
        "                        test_loader=test_data_simple_augment_dataloader,\n",
        "                        loss_fn=loss_fn,\n",
        "                        optimizer=optimizer,\n",
        "                        device=device)\n",
        "# model_1_results"
      ]
    },
    {
      "cell_type": "code",
      "execution_count": null,
      "metadata": {
        "colab": {
          "base_uri": "https://localhost:8080/",
          "height": 222
        },
        "id": "5fFlcpkIj38T",
        "outputId": "d9003316-48fe-45c0-f4df-6f6302c76f03"
      },
      "outputs": [],
      "source": [
        "plot_loss_curves(model_1_results)"
      ]
    },
    {
      "cell_type": "code",
      "execution_count": null,
      "metadata": {
        "id": "ywoDan0imiuD"
      },
      "outputs": [],
      "source": [
        "import pandas as pd\n",
        "model_0_df = pd.DataFrame(model_0_results)\n",
        "model_1_df = pd.DataFrame(model_1_results)"
      ]
    },
    {
      "cell_type": "code",
      "execution_count": null,
      "metadata": {
        "colab": {
          "base_uri": "https://localhost:8080/",
          "height": 462
        },
        "id": "9VqUpx2AmisV",
        "outputId": "d045fd40-7aeb-4649-f671-8e5026aebea6"
      },
      "outputs": [],
      "source": [
        "plt.figure(figsize=(15,10))\n",
        "\n",
        "epochs = range(len(model_0_df))\n",
        "plt.subplot(2,2,1)\n",
        "plt.plot(epochs,model_0_df[\"train_loss\"],label=\"Model 0\")\n",
        "plt.plot(epochs,model_1_df[\"train_loss\"],label=\"Model 1\")\n",
        "plt.title(\"Train Loss\")\n",
        "plt.xlabel(\"Epochs\")\n",
        "plt.legend();\n",
        "\n",
        "plt.subplot(2,2,2)\n",
        "plt.plot(epochs,model_0_df[\"test_loss\"],label=\"Model 0\")\n",
        "plt.plot(epochs,model_1_df[\"test_loss\"],label=\"Model 1\")\n",
        "plt.title(\"Test Loss\")\n",
        "plt.xlabel(\"Epochs\")\n",
        "plt.legend();\n",
        "\n",
        "plt.subplot(2,2,3)\n",
        "plt.plot(epochs,model_0_df[\"train_acc\"],label=\"Model 0\")\n",
        "plt.plot(epochs,model_1_df[\"train_acc\"],label=\"Model 1\")\n",
        "plt.title(\"Train acc\")\n",
        "plt.xlabel(\"Epochs\")\n",
        "plt.legend();\n",
        "\n",
        "plt.subplot(2,2,4)\n",
        "plt.plot(epochs,model_0_df[\"test_acc\"],label=\"Model 0\")\n",
        "plt.plot(epochs,model_1_df[\"test_acc\"],label=\"Model 1\")\n",
        "plt.title(\"Test acc\")\n",
        "plt.xlabel(\"Epochs\")\n",
        "plt.legend();"
      ]
    },
    {
      "cell_type": "markdown",
      "metadata": {
        "id": "rxlVKEElwFYy"
      },
      "source": [
        "## Loading a custom image"
      ]
    },
    {
      "cell_type": "code",
      "execution_count": null,
      "metadata": {
        "id": "lWEVXExQmipy"
      },
      "outputs": [],
      "source": [
        "import requests\n",
        "\n",
        "response = requests.get(\"https://images8.alphacoders.com/369/369063.jpg\")\n",
        "\n",
        "with open(\"custom_image.jpg\",\"wb\") as f:\n",
        "  f.write(response.content)"
      ]
    },
    {
      "cell_type": "code",
      "execution_count": null,
      "metadata": {
        "colab": {
          "base_uri": "https://localhost:8080/",
          "height": 394
        },
        "id": "n9fAWKIxminn",
        "outputId": "a330d542-267d-41f0-cc1a-cd9401bf6f6d"
      },
      "outputs": [],
      "source": [
        "import torchvision\n",
        "custom_image_path = \"custom_image.jpg\"\n",
        "custom_image_units = torchvision.io.read_image(custom_image_path)\n",
        "plt.imshow(custom_image_units.permute(1,2,0))"
      ]
    },
    {
      "cell_type": "code",
      "execution_count": null,
      "metadata": {
        "colab": {
          "base_uri": "https://localhost:8080/"
        },
        "id": "ZH_cYbZ6milc",
        "outputId": "33db3e1c-f4b2-4c26-a812-9eb5e89e3188"
      },
      "outputs": [],
      "source": [
        "# print(f\"Custom image tensor:\\n{custom_image_units}\")\n",
        "print(f\"Custom image shape: {custom_image_units.shape}\")\n",
        "print(f\"Custom image device: {custom_image_units.device}\")\n",
        "print(f\"Custom image dtype: {custom_image_units.dtype}\")"
      ]
    },
    {
      "cell_type": "code",
      "execution_count": null,
      "metadata": {
        "id": "0dNdGsLNmiir"
      },
      "outputs": [],
      "source": [
        "custom_image = custom_image_units.type(torch.float32).to(device) / 255"
      ]
    },
    {
      "cell_type": "code",
      "execution_count": null,
      "metadata": {
        "id": "ZgUAzN_rmif7"
      },
      "outputs": [],
      "source": [
        "custom_image_transform = transforms.Compose([\n",
        "    transforms.Resize((64,64))\n",
        "])\n",
        "\n",
        "custom_image_transformed = custom_image_transform(custom_image)"
      ]
    },
    {
      "cell_type": "code",
      "execution_count": null,
      "metadata": {
        "colab": {
          "base_uri": "https://localhost:8080/"
        },
        "id": "wYCugA59yV_D",
        "outputId": "494ded5b-27d2-4c65-ebfb-48d21ee8771a"
      },
      "outputs": [],
      "source": [
        "print(f\"Original Shape: {custom_image_units.shape}\")\n",
        "print(f\"Transformed Shape: {custom_image_transformed.shape}\")\n",
        "print(f\"Adding Batch: {custom_image_transformed.unsqueeze(0).shape}\")"
      ]
    },
    {
      "cell_type": "code",
      "execution_count": null,
      "metadata": {
        "colab": {
          "base_uri": "https://localhost:8080/",
          "height": 450
        },
        "id": "wtMHzuHCy-3n",
        "outputId": "df2bf9e2-08a0-44b2-94a5-df91996748b2"
      },
      "outputs": [],
      "source": [
        "plt.imshow(custom_image_transformed.permute(1,2,0))"
      ]
    },
    {
      "cell_type": "code",
      "execution_count": null,
      "metadata": {
        "id": "mmpyHSL1xKd1"
      },
      "outputs": [],
      "source": [
        "model_1.eval()\n",
        "with torch.inference_mode():\n",
        "  custom_image_pred = model_1(custom_image_transformed.unsqueeze(0))"
      ]
    },
    {
      "cell_type": "code",
      "execution_count": null,
      "metadata": {
        "colab": {
          "base_uri": "https://localhost:8080/"
        },
        "id": "_VFPsPsE0xpA",
        "outputId": "fc09a54d-e08b-4109-d0fe-86dfc1ccd42d"
      },
      "outputs": [],
      "source": [
        "custom_image_pred"
      ]
    },
    {
      "cell_type": "code",
      "execution_count": null,
      "metadata": {
        "colab": {
          "base_uri": "https://localhost:8080/",
          "height": 36
        },
        "id": "bhi5ggQ4xwyp",
        "outputId": "48b39cfb-1aac-462d-82fc-7935b95ac08e"
      },
      "outputs": [],
      "source": [
        "class_names[custom_image_pred.argmax(dim=1)]"
      ]
    },
    {
      "cell_type": "code",
      "execution_count": null,
      "metadata": {
        "id": "py5HEvbp1QC0"
      },
      "outputs": [],
      "source": [
        "def custom_image_predictions(img_path:str,\n",
        "                             model: torch.nn.Module,\n",
        "                             device:torch.device,\n",
        "                             class_names:list[str],\n",
        "                             transform: None):\n",
        "  \"\"\" Used to predict custom images to test the model \"\"\"\n",
        "  target_image = torchvision.io.read_image(img_path)\n",
        "  target_image = target_image.type(torch.float32).to(device) / 255\n",
        "  if transform:\n",
        "    target_image = transform(target_image)\n",
        "  target_image = target_image.unsqueeze(0)\n",
        "  model.eval()\n",
        "  with torch.inference_mode():\n",
        "    target_img_pred = model(target_image)\n",
        "  target = target_img_pred.argmax(dim=1)\n",
        "  plt.imshow(target_image.squeeze().permute(1,2,0))\n",
        "  return class_names[target]"
      ]
    },
    {
      "cell_type": "code",
      "execution_count": null,
      "metadata": {
        "colab": {
          "base_uri": "https://localhost:8080/",
          "height": 451
        },
        "id": "KuVs_3ri3YvV",
        "outputId": "e9d94b57-3854-4390-b3e8-1ef73c7d6977"
      },
      "outputs": [],
      "source": [
        "custom_image_predictions(img_path=custom_image_path,\n",
        "                         model=model_1,\n",
        "                         transform=custom_image_transform,\n",
        "                         device=device,\n",
        "                         class_names=class_names)"
      ]
    }
  ],
  "metadata": {
    "colab": {
      "provenance": []
    },
    "kernelspec": {
      "display_name": "Python 3",
      "name": "python3"
    },
    "language_info": {
      "name": "python"
    },
    "widgets": {
      "application/vnd.jupyter.widget-state+json": {
        "1ad21e0f964946788b754e2cd67b4e86": {
          "model_module": "@jupyter-widgets/base",
          "model_module_version": "1.2.0",
          "model_name": "LayoutModel",
          "state": {
            "_model_module": "@jupyter-widgets/base",
            "_model_module_version": "1.2.0",
            "_model_name": "LayoutModel",
            "_view_count": null,
            "_view_module": "@jupyter-widgets/base",
            "_view_module_version": "1.2.0",
            "_view_name": "LayoutView",
            "align_content": null,
            "align_items": null,
            "align_self": null,
            "border": null,
            "bottom": null,
            "display": null,
            "flex": null,
            "flex_flow": null,
            "grid_area": null,
            "grid_auto_columns": null,
            "grid_auto_flow": null,
            "grid_auto_rows": null,
            "grid_column": null,
            "grid_gap": null,
            "grid_row": null,
            "grid_template_areas": null,
            "grid_template_columns": null,
            "grid_template_rows": null,
            "height": null,
            "justify_content": null,
            "justify_items": null,
            "left": null,
            "margin": null,
            "max_height": null,
            "max_width": null,
            "min_height": null,
            "min_width": null,
            "object_fit": null,
            "object_position": null,
            "order": null,
            "overflow": null,
            "overflow_x": null,
            "overflow_y": null,
            "padding": null,
            "right": null,
            "top": null,
            "visibility": null,
            "width": null
          }
        },
        "2774ef4a610149b49bef8a35f5d9b51e": {
          "model_module": "@jupyter-widgets/controls",
          "model_module_version": "1.5.0",
          "model_name": "HTMLModel",
          "state": {
            "_dom_classes": [],
            "_model_module": "@jupyter-widgets/controls",
            "_model_module_version": "1.5.0",
            "_model_name": "HTMLModel",
            "_view_count": null,
            "_view_module": "@jupyter-widgets/controls",
            "_view_module_version": "1.5.0",
            "_view_name": "HTMLView",
            "description": "",
            "description_tooltip": null,
            "layout": "IPY_MODEL_a050a902c3a54059a97eb3377c5db5a1",
            "placeholder": "​",
            "style": "IPY_MODEL_3ee2ae05ed36469b955b695816c9f27d",
            "value": "100%"
          }
        },
        "39bd146ad04447e486415eb87b1cd839": {
          "model_module": "@jupyter-widgets/base",
          "model_module_version": "1.2.0",
          "model_name": "LayoutModel",
          "state": {
            "_model_module": "@jupyter-widgets/base",
            "_model_module_version": "1.2.0",
            "_model_name": "LayoutModel",
            "_view_count": null,
            "_view_module": "@jupyter-widgets/base",
            "_view_module_version": "1.2.0",
            "_view_name": "LayoutView",
            "align_content": null,
            "align_items": null,
            "align_self": null,
            "border": null,
            "bottom": null,
            "display": null,
            "flex": null,
            "flex_flow": null,
            "grid_area": null,
            "grid_auto_columns": null,
            "grid_auto_flow": null,
            "grid_auto_rows": null,
            "grid_column": null,
            "grid_gap": null,
            "grid_row": null,
            "grid_template_areas": null,
            "grid_template_columns": null,
            "grid_template_rows": null,
            "height": null,
            "justify_content": null,
            "justify_items": null,
            "left": null,
            "margin": null,
            "max_height": null,
            "max_width": null,
            "min_height": null,
            "min_width": null,
            "object_fit": null,
            "object_position": null,
            "order": null,
            "overflow": null,
            "overflow_x": null,
            "overflow_y": null,
            "padding": null,
            "right": null,
            "top": null,
            "visibility": null,
            "width": null
          }
        },
        "3a9b140b38c34be3a04b5f3d7435eb1a": {
          "model_module": "@jupyter-widgets/controls",
          "model_module_version": "1.5.0",
          "model_name": "HTMLModel",
          "state": {
            "_dom_classes": [],
            "_model_module": "@jupyter-widgets/controls",
            "_model_module_version": "1.5.0",
            "_model_name": "HTMLModel",
            "_view_count": null,
            "_view_module": "@jupyter-widgets/controls",
            "_view_module_version": "1.5.0",
            "_view_name": "HTMLView",
            "description": "",
            "description_tooltip": null,
            "layout": "IPY_MODEL_39bd146ad04447e486415eb87b1cd839",
            "placeholder": "​",
            "style": "IPY_MODEL_7fe587c95efd407e8a1ddb34ae93d1c6",
            "value": "100%"
          }
        },
        "3ee2ae05ed36469b955b695816c9f27d": {
          "model_module": "@jupyter-widgets/controls",
          "model_module_version": "1.5.0",
          "model_name": "DescriptionStyleModel",
          "state": {
            "_model_module": "@jupyter-widgets/controls",
            "_model_module_version": "1.5.0",
            "_model_name": "DescriptionStyleModel",
            "_view_count": null,
            "_view_module": "@jupyter-widgets/base",
            "_view_module_version": "1.2.0",
            "_view_name": "StyleView",
            "description_width": ""
          }
        },
        "507ae3747fcd4d91824f4e751c8823a5": {
          "model_module": "@jupyter-widgets/controls",
          "model_module_version": "1.5.0",
          "model_name": "HBoxModel",
          "state": {
            "_dom_classes": [],
            "_model_module": "@jupyter-widgets/controls",
            "_model_module_version": "1.5.0",
            "_model_name": "HBoxModel",
            "_view_count": null,
            "_view_module": "@jupyter-widgets/controls",
            "_view_module_version": "1.5.0",
            "_view_name": "HBoxView",
            "box_style": "",
            "children": [
              "IPY_MODEL_2774ef4a610149b49bef8a35f5d9b51e",
              "IPY_MODEL_bcc8803e3900428a9087cc6c00c28b71",
              "IPY_MODEL_6141dcfdffcf45ea80c79ec70876fd40"
            ],
            "layout": "IPY_MODEL_d98ff8a6241741a2b8deb726200b0615"
          }
        },
        "5678fac7d2c545a79348434742c88560": {
          "model_module": "@jupyter-widgets/base",
          "model_module_version": "1.2.0",
          "model_name": "LayoutModel",
          "state": {
            "_model_module": "@jupyter-widgets/base",
            "_model_module_version": "1.2.0",
            "_model_name": "LayoutModel",
            "_view_count": null,
            "_view_module": "@jupyter-widgets/base",
            "_view_module_version": "1.2.0",
            "_view_name": "LayoutView",
            "align_content": null,
            "align_items": null,
            "align_self": null,
            "border": null,
            "bottom": null,
            "display": null,
            "flex": null,
            "flex_flow": null,
            "grid_area": null,
            "grid_auto_columns": null,
            "grid_auto_flow": null,
            "grid_auto_rows": null,
            "grid_column": null,
            "grid_gap": null,
            "grid_row": null,
            "grid_template_areas": null,
            "grid_template_columns": null,
            "grid_template_rows": null,
            "height": null,
            "justify_content": null,
            "justify_items": null,
            "left": null,
            "margin": null,
            "max_height": null,
            "max_width": null,
            "min_height": null,
            "min_width": null,
            "object_fit": null,
            "object_position": null,
            "order": null,
            "overflow": null,
            "overflow_x": null,
            "overflow_y": null,
            "padding": null,
            "right": null,
            "top": null,
            "visibility": null,
            "width": null
          }
        },
        "6141dcfdffcf45ea80c79ec70876fd40": {
          "model_module": "@jupyter-widgets/controls",
          "model_module_version": "1.5.0",
          "model_name": "HTMLModel",
          "state": {
            "_dom_classes": [],
            "_model_module": "@jupyter-widgets/controls",
            "_model_module_version": "1.5.0",
            "_model_name": "HTMLModel",
            "_view_count": null,
            "_view_module": "@jupyter-widgets/controls",
            "_view_module_version": "1.5.0",
            "_view_name": "HTMLView",
            "description": "",
            "description_tooltip": null,
            "layout": "IPY_MODEL_e172000847954737839a7d19b1d4965a",
            "placeholder": "​",
            "style": "IPY_MODEL_6ef1cbadb22642bcacbc121886bc76a6",
            "value": " 20/20 [03:01&lt;00:00,  8.69s/it]"
          }
        },
        "6ef1cbadb22642bcacbc121886bc76a6": {
          "model_module": "@jupyter-widgets/controls",
          "model_module_version": "1.5.0",
          "model_name": "DescriptionStyleModel",
          "state": {
            "_model_module": "@jupyter-widgets/controls",
            "_model_module_version": "1.5.0",
            "_model_name": "DescriptionStyleModel",
            "_view_count": null,
            "_view_module": "@jupyter-widgets/base",
            "_view_module_version": "1.2.0",
            "_view_name": "StyleView",
            "description_width": ""
          }
        },
        "7fe587c95efd407e8a1ddb34ae93d1c6": {
          "model_module": "@jupyter-widgets/controls",
          "model_module_version": "1.5.0",
          "model_name": "DescriptionStyleModel",
          "state": {
            "_model_module": "@jupyter-widgets/controls",
            "_model_module_version": "1.5.0",
            "_model_name": "DescriptionStyleModel",
            "_view_count": null,
            "_view_module": "@jupyter-widgets/base",
            "_view_module_version": "1.2.0",
            "_view_name": "StyleView",
            "description_width": ""
          }
        },
        "898d91a4a92344a481000caf40016f91": {
          "model_module": "@jupyter-widgets/base",
          "model_module_version": "1.2.0",
          "model_name": "LayoutModel",
          "state": {
            "_model_module": "@jupyter-widgets/base",
            "_model_module_version": "1.2.0",
            "_model_name": "LayoutModel",
            "_view_count": null,
            "_view_module": "@jupyter-widgets/base",
            "_view_module_version": "1.2.0",
            "_view_name": "LayoutView",
            "align_content": null,
            "align_items": null,
            "align_self": null,
            "border": null,
            "bottom": null,
            "display": null,
            "flex": null,
            "flex_flow": null,
            "grid_area": null,
            "grid_auto_columns": null,
            "grid_auto_flow": null,
            "grid_auto_rows": null,
            "grid_column": null,
            "grid_gap": null,
            "grid_row": null,
            "grid_template_areas": null,
            "grid_template_columns": null,
            "grid_template_rows": null,
            "height": null,
            "justify_content": null,
            "justify_items": null,
            "left": null,
            "margin": null,
            "max_height": null,
            "max_width": null,
            "min_height": null,
            "min_width": null,
            "object_fit": null,
            "object_position": null,
            "order": null,
            "overflow": null,
            "overflow_x": null,
            "overflow_y": null,
            "padding": null,
            "right": null,
            "top": null,
            "visibility": null,
            "width": null
          }
        },
        "8b93a172cf2346778834b6bb3b44d333": {
          "model_module": "@jupyter-widgets/controls",
          "model_module_version": "1.5.0",
          "model_name": "ProgressStyleModel",
          "state": {
            "_model_module": "@jupyter-widgets/controls",
            "_model_module_version": "1.5.0",
            "_model_name": "ProgressStyleModel",
            "_view_count": null,
            "_view_module": "@jupyter-widgets/base",
            "_view_module_version": "1.2.0",
            "_view_name": "StyleView",
            "bar_color": null,
            "description_width": ""
          }
        },
        "909cf370af3049788a832d83278e313c": {
          "model_module": "@jupyter-widgets/controls",
          "model_module_version": "1.5.0",
          "model_name": "HTMLModel",
          "state": {
            "_dom_classes": [],
            "_model_module": "@jupyter-widgets/controls",
            "_model_module_version": "1.5.0",
            "_model_name": "HTMLModel",
            "_view_count": null,
            "_view_module": "@jupyter-widgets/controls",
            "_view_module_version": "1.5.0",
            "_view_name": "HTMLView",
            "description": "",
            "description_tooltip": null,
            "layout": "IPY_MODEL_1ad21e0f964946788b754e2cd67b4e86",
            "placeholder": "​",
            "style": "IPY_MODEL_ef2b4dd5a9ed42228b0a26f1f54e7cb7",
            "value": " 20/20 [03:05&lt;00:00,  8.74s/it]"
          }
        },
        "9320723a7c83469c83607dfbd561a595": {
          "model_module": "@jupyter-widgets/base",
          "model_module_version": "1.2.0",
          "model_name": "LayoutModel",
          "state": {
            "_model_module": "@jupyter-widgets/base",
            "_model_module_version": "1.2.0",
            "_model_name": "LayoutModel",
            "_view_count": null,
            "_view_module": "@jupyter-widgets/base",
            "_view_module_version": "1.2.0",
            "_view_name": "LayoutView",
            "align_content": null,
            "align_items": null,
            "align_self": null,
            "border": null,
            "bottom": null,
            "display": null,
            "flex": null,
            "flex_flow": null,
            "grid_area": null,
            "grid_auto_columns": null,
            "grid_auto_flow": null,
            "grid_auto_rows": null,
            "grid_column": null,
            "grid_gap": null,
            "grid_row": null,
            "grid_template_areas": null,
            "grid_template_columns": null,
            "grid_template_rows": null,
            "height": null,
            "justify_content": null,
            "justify_items": null,
            "left": null,
            "margin": null,
            "max_height": null,
            "max_width": null,
            "min_height": null,
            "min_width": null,
            "object_fit": null,
            "object_position": null,
            "order": null,
            "overflow": null,
            "overflow_x": null,
            "overflow_y": null,
            "padding": null,
            "right": null,
            "top": null,
            "visibility": null,
            "width": null
          }
        },
        "a050a902c3a54059a97eb3377c5db5a1": {
          "model_module": "@jupyter-widgets/base",
          "model_module_version": "1.2.0",
          "model_name": "LayoutModel",
          "state": {
            "_model_module": "@jupyter-widgets/base",
            "_model_module_version": "1.2.0",
            "_model_name": "LayoutModel",
            "_view_count": null,
            "_view_module": "@jupyter-widgets/base",
            "_view_module_version": "1.2.0",
            "_view_name": "LayoutView",
            "align_content": null,
            "align_items": null,
            "align_self": null,
            "border": null,
            "bottom": null,
            "display": null,
            "flex": null,
            "flex_flow": null,
            "grid_area": null,
            "grid_auto_columns": null,
            "grid_auto_flow": null,
            "grid_auto_rows": null,
            "grid_column": null,
            "grid_gap": null,
            "grid_row": null,
            "grid_template_areas": null,
            "grid_template_columns": null,
            "grid_template_rows": null,
            "height": null,
            "justify_content": null,
            "justify_items": null,
            "left": null,
            "margin": null,
            "max_height": null,
            "max_width": null,
            "min_height": null,
            "min_width": null,
            "object_fit": null,
            "object_position": null,
            "order": null,
            "overflow": null,
            "overflow_x": null,
            "overflow_y": null,
            "padding": null,
            "right": null,
            "top": null,
            "visibility": null,
            "width": null
          }
        },
        "bcc8803e3900428a9087cc6c00c28b71": {
          "model_module": "@jupyter-widgets/controls",
          "model_module_version": "1.5.0",
          "model_name": "FloatProgressModel",
          "state": {
            "_dom_classes": [],
            "_model_module": "@jupyter-widgets/controls",
            "_model_module_version": "1.5.0",
            "_model_name": "FloatProgressModel",
            "_view_count": null,
            "_view_module": "@jupyter-widgets/controls",
            "_view_module_version": "1.5.0",
            "_view_name": "ProgressView",
            "bar_style": "success",
            "description": "",
            "description_tooltip": null,
            "layout": "IPY_MODEL_898d91a4a92344a481000caf40016f91",
            "max": 20,
            "min": 0,
            "orientation": "horizontal",
            "style": "IPY_MODEL_f427446e2809461cb7c4789f234d25ca",
            "value": 20
          }
        },
        "c63c92b393414deb959be3e7a6695c11": {
          "model_module": "@jupyter-widgets/controls",
          "model_module_version": "1.5.0",
          "model_name": "FloatProgressModel",
          "state": {
            "_dom_classes": [],
            "_model_module": "@jupyter-widgets/controls",
            "_model_module_version": "1.5.0",
            "_model_name": "FloatProgressModel",
            "_view_count": null,
            "_view_module": "@jupyter-widgets/controls",
            "_view_module_version": "1.5.0",
            "_view_name": "ProgressView",
            "bar_style": "success",
            "description": "",
            "description_tooltip": null,
            "layout": "IPY_MODEL_5678fac7d2c545a79348434742c88560",
            "max": 20,
            "min": 0,
            "orientation": "horizontal",
            "style": "IPY_MODEL_8b93a172cf2346778834b6bb3b44d333",
            "value": 20
          }
        },
        "d98ff8a6241741a2b8deb726200b0615": {
          "model_module": "@jupyter-widgets/base",
          "model_module_version": "1.2.0",
          "model_name": "LayoutModel",
          "state": {
            "_model_module": "@jupyter-widgets/base",
            "_model_module_version": "1.2.0",
            "_model_name": "LayoutModel",
            "_view_count": null,
            "_view_module": "@jupyter-widgets/base",
            "_view_module_version": "1.2.0",
            "_view_name": "LayoutView",
            "align_content": null,
            "align_items": null,
            "align_self": null,
            "border": null,
            "bottom": null,
            "display": null,
            "flex": null,
            "flex_flow": null,
            "grid_area": null,
            "grid_auto_columns": null,
            "grid_auto_flow": null,
            "grid_auto_rows": null,
            "grid_column": null,
            "grid_gap": null,
            "grid_row": null,
            "grid_template_areas": null,
            "grid_template_columns": null,
            "grid_template_rows": null,
            "height": null,
            "justify_content": null,
            "justify_items": null,
            "left": null,
            "margin": null,
            "max_height": null,
            "max_width": null,
            "min_height": null,
            "min_width": null,
            "object_fit": null,
            "object_position": null,
            "order": null,
            "overflow": null,
            "overflow_x": null,
            "overflow_y": null,
            "padding": null,
            "right": null,
            "top": null,
            "visibility": null,
            "width": null
          }
        },
        "e172000847954737839a7d19b1d4965a": {
          "model_module": "@jupyter-widgets/base",
          "model_module_version": "1.2.0",
          "model_name": "LayoutModel",
          "state": {
            "_model_module": "@jupyter-widgets/base",
            "_model_module_version": "1.2.0",
            "_model_name": "LayoutModel",
            "_view_count": null,
            "_view_module": "@jupyter-widgets/base",
            "_view_module_version": "1.2.0",
            "_view_name": "LayoutView",
            "align_content": null,
            "align_items": null,
            "align_self": null,
            "border": null,
            "bottom": null,
            "display": null,
            "flex": null,
            "flex_flow": null,
            "grid_area": null,
            "grid_auto_columns": null,
            "grid_auto_flow": null,
            "grid_auto_rows": null,
            "grid_column": null,
            "grid_gap": null,
            "grid_row": null,
            "grid_template_areas": null,
            "grid_template_columns": null,
            "grid_template_rows": null,
            "height": null,
            "justify_content": null,
            "justify_items": null,
            "left": null,
            "margin": null,
            "max_height": null,
            "max_width": null,
            "min_height": null,
            "min_width": null,
            "object_fit": null,
            "object_position": null,
            "order": null,
            "overflow": null,
            "overflow_x": null,
            "overflow_y": null,
            "padding": null,
            "right": null,
            "top": null,
            "visibility": null,
            "width": null
          }
        },
        "ef2b4dd5a9ed42228b0a26f1f54e7cb7": {
          "model_module": "@jupyter-widgets/controls",
          "model_module_version": "1.5.0",
          "model_name": "DescriptionStyleModel",
          "state": {
            "_model_module": "@jupyter-widgets/controls",
            "_model_module_version": "1.5.0",
            "_model_name": "DescriptionStyleModel",
            "_view_count": null,
            "_view_module": "@jupyter-widgets/base",
            "_view_module_version": "1.2.0",
            "_view_name": "StyleView",
            "description_width": ""
          }
        },
        "f427446e2809461cb7c4789f234d25ca": {
          "model_module": "@jupyter-widgets/controls",
          "model_module_version": "1.5.0",
          "model_name": "ProgressStyleModel",
          "state": {
            "_model_module": "@jupyter-widgets/controls",
            "_model_module_version": "1.5.0",
            "_model_name": "ProgressStyleModel",
            "_view_count": null,
            "_view_module": "@jupyter-widgets/base",
            "_view_module_version": "1.2.0",
            "_view_name": "StyleView",
            "bar_color": null,
            "description_width": ""
          }
        },
        "f9cb8e4389aa44819c364349cfcdb56a": {
          "model_module": "@jupyter-widgets/controls",
          "model_module_version": "1.5.0",
          "model_name": "HBoxModel",
          "state": {
            "_dom_classes": [],
            "_model_module": "@jupyter-widgets/controls",
            "_model_module_version": "1.5.0",
            "_model_name": "HBoxModel",
            "_view_count": null,
            "_view_module": "@jupyter-widgets/controls",
            "_view_module_version": "1.5.0",
            "_view_name": "HBoxView",
            "box_style": "",
            "children": [
              "IPY_MODEL_3a9b140b38c34be3a04b5f3d7435eb1a",
              "IPY_MODEL_c63c92b393414deb959be3e7a6695c11",
              "IPY_MODEL_909cf370af3049788a832d83278e313c"
            ],
            "layout": "IPY_MODEL_9320723a7c83469c83607dfbd561a595"
          }
        }
      }
    }
  },
  "nbformat": 4,
  "nbformat_minor": 0
}
