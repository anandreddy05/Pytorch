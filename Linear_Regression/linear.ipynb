{
 "cells": [
  {
   "cell_type": "markdown",
   "id": "2b2b4cd5",
   "metadata": {},
   "source": [
    "1. Data Gathering\n",
    "2. Data Preprocessing\n",
    "3. Feature Engineering\n",
    "4. Model Training\n",
    "5. Model Testing"
   ]
  },
  {
   "cell_type": "code",
   "execution_count": null,
   "id": "e818a5ee",
   "metadata": {},
   "outputs": [],
   "source": [
    "import torch\n",
    "import torch.nn as nn\n",
    "import torch.optim as optim\n",
    "import pandas as pd\n",
    "from sklearn.preprocessing import LabelEncoder, StandardScaler\n",
    "from sklearn.model_selection import train_test_split\n",
    "from sklearn.metrics import mean_squared_error,mean_absolute_error,r2_score"
   ]
  },
  {
   "cell_type": "code",
   "execution_count": null,
   "id": "1c746920",
   "metadata": {},
   "outputs": [],
   "source": [
    "data = pd.read_csv(\"./data/insurance.csv\")\n",
    "data.head()"
   ]
  },
  {
   "cell_type": "code",
   "execution_count": null,
   "id": "9dbd354f",
   "metadata": {},
   "outputs": [],
   "source": [
    "data.shape"
   ]
  },
  {
   "cell_type": "code",
   "execution_count": null,
   "id": "9011a055",
   "metadata": {},
   "outputs": [],
   "source": [
    "data.isna().sum()"
   ]
  },
  {
   "cell_type": "code",
   "execution_count": null,
   "id": "26858e22",
   "metadata": {},
   "outputs": [],
   "source": [
    "data.describe()"
   ]
  },
  {
   "cell_type": "code",
   "execution_count": null,
   "id": "22bacf81",
   "metadata": {},
   "outputs": [],
   "source": [
    "data.info()"
   ]
  },
  {
   "cell_type": "code",
   "execution_count": null,
   "id": "057b016d",
   "metadata": {},
   "outputs": [],
   "source": [
    "data['region'].unique()"
   ]
  },
  {
   "cell_type": "code",
   "execution_count": null,
   "id": "d6960176",
   "metadata": {},
   "outputs": [],
   "source": [
    "train,test = train_test_split(data,test_size=0.2,random_state=42)"
   ]
  },
  {
   "cell_type": "code",
   "execution_count": null,
   "id": "d754b455",
   "metadata": {},
   "outputs": [],
   "source": [
    "label_encoder = {}\n",
    "for col in ['sex','smoker','region']:\n",
    "    le = LabelEncoder()\n",
    "    train[col] = le.fit_transform(train[col])\n",
    "    test[col] = le.transform(test[col])\n",
    "    label_encoder[col] = le\n",
    "print(label_encoder)"
   ]
  },
  {
   "cell_type": "code",
   "execution_count": null,
   "id": "e255dafc",
   "metadata": {},
   "outputs": [],
   "source": [
    "X_train = train.drop(columns=['charges'])\n",
    "y_train = train['charges']\n",
    "X_test = test.drop(columns=['charges'])\n",
    "y_test = test['charges']"
   ]
  },
  {
   "cell_type": "code",
   "execution_count": null,
   "id": "9c28fd74",
   "metadata": {},
   "outputs": [],
   "source": [
    "X_train"
   ]
  },
  {
   "cell_type": "code",
   "execution_count": null,
   "id": "8b31e12d",
   "metadata": {},
   "outputs": [],
   "source": [
    "y_train"
   ]
  },
  {
   "cell_type": "code",
   "execution_count": null,
   "id": "3d36709e",
   "metadata": {},
   "outputs": [],
   "source": [
    "# Normalize features\n",
    "scaler = StandardScaler()\n",
    "X_train = scaler.fit_transform(X_train)\n",
    "X_test = scaler.transform(X_test)"
   ]
  },
  {
   "cell_type": "code",
   "execution_count": null,
   "id": "a2c1ef48",
   "metadata": {},
   "outputs": [],
   "source": [
    "print(X_train)\n",
    "type(X_train)"
   ]
  },
  {
   "cell_type": "code",
   "execution_count": null,
   "id": "8000a670",
   "metadata": {},
   "outputs": [],
   "source": [
    "y_test.shape"
   ]
  },
  {
   "cell_type": "code",
   "execution_count": null,
   "id": "87e6c9c4",
   "metadata": {},
   "outputs": [],
   "source": [
    "X_train_tensor = torch.tensor(X_train, dtype=torch.float32)\n",
    "X_test_tensor = torch.tensor(X_test, dtype=torch.float32)\n",
    "\n",
    "y_train_tensor = torch.tensor(y_train.values, dtype=torch.float32).view(-1,1)\n",
    "y_test_tensor = torch.tensor(y_test.values, dtype=torch.float32).view(-1,1)\n"
   ]
  },
  {
   "cell_type": "code",
   "execution_count": null,
   "id": "2217ba80",
   "metadata": {},
   "outputs": [],
   "source": [
    "print(y_test_tensor.shape)"
   ]
  },
  {
   "cell_type": "code",
   "execution_count": null,
   "id": "ce02dc39",
   "metadata": {},
   "outputs": [],
   "source": [
    "class SimpleNNRegressionModel(nn.Module):\n",
    "    def __init__(self,num_features):\n",
    "        super().__init__()\n",
    "        self.network = nn.Sequential(\n",
    "            nn.Linear(num_features,64),\n",
    "            nn.ReLU(),\n",
    "            nn.Linear(64,128),\n",
    "            nn.ReLU(),\n",
    "            nn.Linear(128,1)\n",
    "        )\n",
    "    def forward(self,x):\n",
    "        return self.network(x)"
   ]
  },
  {
   "cell_type": "code",
   "execution_count": null,
   "id": "5a508a80",
   "metadata": {},
   "outputs": [],
   "source": [
    "X_train_tensor.shape"
   ]
  },
  {
   "cell_type": "code",
   "execution_count": null,
   "id": "0486ec63",
   "metadata": {},
   "outputs": [],
   "source": [
    "num_features = X_train_tensor.shape[1]\n",
    "model = SimpleNNRegressionModel(num_features=num_features)\n",
    "model"
   ]
  },
  {
   "cell_type": "code",
   "execution_count": null,
   "id": "fcc93ce4",
   "metadata": {},
   "outputs": [],
   "source": [
    "criterion = nn.MSELoss()\n",
    "optimizer = optim.Adam(model.parameters(),lr=0.01)"
   ]
  },
  {
   "cell_type": "code",
   "execution_count": null,
   "id": "37f216dd",
   "metadata": {},
   "outputs": [],
   "source": [
    "epochs = 30000\n",
    "for epoch in range(epochs):\n",
    "    model.train()\n",
    "    optimizer.zero_grad()  # Clear previous gradients\n",
    "    prediction = model(X_train_tensor)\n",
    "    loss = criterion(prediction, y_train_tensor)\n",
    "    loss.backward()        # Compute gradients via backpropagation\n",
    "    optimizer.step()       # Update model parameters\n",
    "    if epoch % 500 == 0:\n",
    "        print(f\"Epoch: {epoch}/{epochs} Loss: {loss.item():.4f}\")\n"
   ]
  },
  {
   "cell_type": "markdown",
   "id": "22729cdf",
   "metadata": {},
   "source": [
    "**`model.eval()`**\n",
    "\n",
    "- Puts the model in evaluation mode\n",
    "- Turns off things like Dropout and BatchNorm behavior that are only used during training.\n",
    "\n",
    "**`model(X_test_tensor)`**\n",
    "\n",
    "- This runs the model forward on your test data (X_test_tensor).\n",
    "- It returns a PyTorch tensor with the predicted outputs.\n",
    "\n",
    "**`.detach()`**\n",
    "\n",
    "- Detaches the output tensor from the computation graph.\n",
    "- Prevents PyTorch from tracking further operations on it (i.e., no gradient history).\n",
    "- This is crucial because you don't need gradients during evaluation, and detaching avoids unnecessary memory usage and computation.\n",
    "\n",
    "**`.numpy()`**\n",
    "\n",
    "- Converts the detached PyTorch tensor to a NumPy array.\n",
    "\n",
    "This is useful for:\n",
    "\n",
    "- Visualizing or saving predictions\n",
    "- Post-processing\n",
    "- Comparing predictions to actual values using NumPy or scikit-learn tools"
   ]
  },
  {
   "cell_type": "code",
   "execution_count": null,
   "id": "c1c07ce6",
   "metadata": {},
   "outputs": [],
   "source": [
    "# Model Eval\n",
    "model.eval() \n",
    "y_pred = model(X_test_tensor).detach().numpy()"
   ]
  },
  {
   "cell_type": "code",
   "execution_count": null,
   "id": "2f68d44c",
   "metadata": {},
   "outputs": [],
   "source": [
    "y_test_numpy = y_test_tensor.numpy()\n",
    "\n",
    "mse = mean_squared_error(y_test_numpy,y_pred)\n",
    "rmse = mse ** 0.5\n",
    "mae = mean_absolute_error(y_pred,y_test_numpy)\n",
    "r2 = r2_score(y_pred,y_test_numpy)\n",
    "\n",
    "print(f\"MAE: {mae}\")\n",
    "print(f\"MSE: {mse}\")\n",
    "print(f'RMSE: {rmse}')\n",
    "print(f\"R2_Score: {r2}\")"
   ]
  },
  {
   "cell_type": "code",
   "execution_count": null,
   "id": "c0d01fe1",
   "metadata": {},
   "outputs": [],
   "source": [
    "def predict_charge(age, sex, bmi, children, smoker, region):\n",
    "    input_data = pd.DataFrame([[age, sex, bmi, children, smoker, region]],\n",
    "                              columns=['age', 'sex', 'bmi', 'children', 'smoker', 'region'])\n",
    "\n",
    "    for col in ['sex','smoker','region']:\n",
    "        input_data[col] = label_encoder[col].transform(input_data[col])\n",
    "    input_data = scaler.transform(input_data)\n",
    "    input_tensor = torch.tensor(input_data,dtype=torch.float32)\n",
    "    predicted_charge = model(input_tensor).item()\n",
    "    return predicted_charge"
   ]
  },
  {
   "cell_type": "code",
   "execution_count": 90,
   "id": "93e80ed0",
   "metadata": {},
   "outputs": [],
   "source": [
    "predict_charge(40,'female',27.9,0,'yes','southwest')"
   ]
  },
  {
   "cell_type": "code",
   "execution_count": null,
   "id": "27237530",
   "metadata": {},
   "outputs": [],
   "source": []
  }
 ],
 "metadata": {
  "kernelspec": {
   "display_name": "resumeEnv",
   "language": "python",
   "name": "python3"
  },
  "language_info": {
   "codemirror_mode": {
    "name": "ipython",
    "version": 3
   },
   "file_extension": ".py",
   "mimetype": "text/x-python",
   "name": "python",
   "nbconvert_exporter": "python",
   "pygments_lexer": "ipython3",
   "version": "3.10.16"
  }
 },
 "nbformat": 4,
 "nbformat_minor": 5
}
