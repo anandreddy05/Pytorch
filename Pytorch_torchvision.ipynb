{
  "nbformat": 4,
  "nbformat_minor": 0,
  "metadata": {
    "colab": {
      "provenance": [],
      "authorship_tag": "ABX9TyOd0WuHDZw3HR/Bjuqkg7b/",
      "include_colab_link": true
    },
    "kernelspec": {
      "name": "python3",
      "display_name": "Python 3"
    },
    "language_info": {
      "name": "python"
    },
        "faad571133f243ea8834eabd230a11b4": {
          "model_module": "@jupyter-widgets/controls",
          "model_name": "HTMLModel",
          "model_module_version": "1.5.0",
          "state": {
            "_dom_classes": [],
            "_model_module": "@jupyter-widgets/controls",
            "_model_module_version": "1.5.0",
            "_model_name": "HTMLModel",
            "_view_count": null,
            "_view_module": "@jupyter-widgets/controls",
            "_view_module_version": "1.5.0",
            "_view_name": "HTMLView",
            "description": "",
            "description_tooltip": null,
            "layout": "IPY_MODEL_aaeb409ce5e64c59b7594cf881922563",
            "placeholder": "​",
            "style": "IPY_MODEL_dfba1f4fb7934942aa47cc118d8276bb",
            "value": "100%"
          }
        },
        "d4808869c6d54ef0a2f463588e0c698f": {
          "model_module": "@jupyter-widgets/controls",
          "model_name": "FloatProgressModel",
          "model_module_version": "1.5.0",
          "state": {
            "_dom_classes": [],
            "_model_module": "@jupyter-widgets/controls",
            "_model_module_version": "1.5.0",
            "_model_name": "FloatProgressModel",
            "_view_count": null,
            "_view_module": "@jupyter-widgets/controls",
            "_view_module_version": "1.5.0",
            "_view_name": "ProgressView",
            "bar_style": "success",
            "description": "",
            "description_tooltip": null,
            "layout": "IPY_MODEL_3d0535ace4b54be08072b305a1da47b5",
            "max": 3,
            "min": 0,
            "orientation": "horizontal",
            "style": "IPY_MODEL_527218bba0054d14933471675057d19f",
            "value": 3
          }
        },
        "6f83f360826040db874ae9f549c2d370": {
          "model_module": "@jupyter-widgets/controls",
          "model_name": "HTMLModel",
          "model_module_version": "1.5.0",
          "state": {
            "_dom_classes": [],
            "_model_module": "@jupyter-widgets/controls",
            "_model_module_version": "1.5.0",
            "_model_name": "HTMLModel",
            "_view_count": null,
            "_view_module": "@jupyter-widgets/controls",
            "_view_module_version": "1.5.0",
            "_view_name": "HTMLView",
            "description": "",
            "description_tooltip": null,
            "layout": "IPY_MODEL_0920fb7694c14d4db65c71c1b029c307",
            "placeholder": "​",
            "style": "IPY_MODEL_f1d44bb011eb4750a38f7019f1513d48",
            "value": " 3/3 [00:45&lt;00:00, 15.23s/it]"
          }
        },
        "6f6033b634114c93844479cc82951cdc": {
          "model_module": "@jupyter-widgets/base",
          "model_name": "LayoutModel",
          "model_module_version": "1.2.0",
          "state": {
            "_model_module": "@jupyter-widgets/base",
            "_model_module_version": "1.2.0",
            "_model_name": "LayoutModel",
            "_view_count": null,
            "_view_module": "@jupyter-widgets/base",
            "_view_module_version": "1.2.0",
            "_view_name": "LayoutView",
            "align_content": null,
            "align_items": null,
            "align_self": null,
            "border": null,
            "bottom": null,
            "display": null,
            "flex": null,
            "flex_flow": null,
            "grid_area": null,
            "grid_auto_columns": null,
            "grid_auto_flow": null,
            "grid_auto_rows": null,
            "grid_column": null,
            "grid_gap": null,
            "grid_row": null,
            "grid_template_areas": null,
            "grid_template_columns": null,
            "grid_template_rows": null,
            "height": null,
            "justify_content": null,
            "justify_items": null,
            "left": null,
            "margin": null,
            "max_height": null,
            "max_width": null,
            "min_height": null,
            "min_width": null,
            "object_fit": null,
            "object_position": null,
            "order": null,
            "overflow": null,
            "overflow_x": null,
            "overflow_y": null,
            "padding": null,
            "right": null,
            "top": null,
            "visibility": null,
            "width": null
          }
        },
        "aaeb409ce5e64c59b7594cf881922563": {
          "model_module": "@jupyter-widgets/base",
          "model_name": "LayoutModel",
          "model_module_version": "1.2.0",
          "state": {
            "_model_module": "@jupyter-widgets/base",
            "_model_module_version": "1.2.0",
            "_model_name": "LayoutModel",
            "_view_count": null,
            "_view_module": "@jupyter-widgets/base",
            "_view_module_version": "1.2.0",
            "_view_name": "LayoutView",
            "align_content": null,
            "align_items": null,
            "align_self": null,
            "border": null,
            "bottom": null,
            "display": null,
            "flex": null,
            "flex_flow": null,
            "grid_area": null,
            "grid_auto_columns": null,
            "grid_auto_flow": null,
            "grid_auto_rows": null,
            "grid_column": null,
            "grid_gap": null,
            "grid_row": null,
            "grid_template_areas": null,
            "grid_template_columns": null,
            "grid_template_rows": null,
            "height": null,
            "justify_content": null,
            "justify_items": null,
            "left": null,
            "margin": null,
            "max_height": null,
            "max_width": null,
            "min_height": null,
            "min_width": null,
            "object_fit": null,
            "object_position": null,
            "order": null,
            "overflow": null,
            "overflow_x": null,
            "overflow_y": null,
            "padding": null,
            "right": null,
            "top": null,
            "visibility": null,
            "width": null
          }
        },
        "dfba1f4fb7934942aa47cc118d8276bb": {
          "model_module": "@jupyter-widgets/controls",
          "model_name": "DescriptionStyleModel",
          "model_module_version": "1.5.0",
          "state": {
            "_model_module": "@jupyter-widgets/controls",
            "_model_module_version": "1.5.0",
            "_model_name": "DescriptionStyleModel",
            "_view_count": null,
            "_view_module": "@jupyter-widgets/base",
            "_view_module_version": "1.2.0",
            "_view_name": "StyleView",
            "description_width": ""
          }
        },
        "3d0535ace4b54be08072b305a1da47b5": {
          "model_module": "@jupyter-widgets/base",
          "model_name": "LayoutModel",
          "model_module_version": "1.2.0",
          "state": {
            "_model_module": "@jupyter-widgets/base",
            "_model_module_version": "1.2.0",
            "_model_name": "LayoutModel",
            "_view_count": null,
            "_view_module": "@jupyter-widgets/base",
            "_view_module_version": "1.2.0",
            "_view_name": "LayoutView",
            "align_content": null,
            "align_items": null,
            "align_self": null,
            "border": null,
            "bottom": null,
            "display": null,
            "flex": null,
            "flex_flow": null,
            "grid_area": null,
            "grid_auto_columns": null,
            "grid_auto_flow": null,
            "grid_auto_rows": null,
            "grid_column": null,
            "grid_gap": null,
            "grid_row": null,
            "grid_template_areas": null,
            "grid_template_columns": null,
            "grid_template_rows": null,
            "height": null,
            "justify_content": null,
            "justify_items": null,
            "left": null,
            "margin": null,
            "max_height": null,
            "max_width": null,
            "min_height": null,
            "min_width": null,
            "object_fit": null,
            "object_position": null,
            "order": null,
            "overflow": null,
            "overflow_x": null,
            "overflow_y": null,
            "padding": null,
            "right": null,
            "top": null,
            "visibility": null,
            "width": null
          }
        },
        "527218bba0054d14933471675057d19f": {
          "model_module": "@jupyter-widgets/controls",
          "model_name": "ProgressStyleModel",
          "model_module_version": "1.5.0",
          "state": {
            "_model_module": "@jupyter-widgets/controls",
            "_model_module_version": "1.5.0",
            "_model_name": "ProgressStyleModel",
            "_view_count": null,
            "_view_module": "@jupyter-widgets/base",
            "_view_module_version": "1.2.0",
            "_view_name": "StyleView",
            "bar_color": null,
            "description_width": ""
          }
        },
        "0920fb7694c14d4db65c71c1b029c307": {
          "model_module": "@jupyter-widgets/base",
          "model_name": "LayoutModel",
          "model_module_version": "1.2.0",
          "state": {
            "_model_module": "@jupyter-widgets/base",
            "_model_module_version": "1.2.0",
            "_model_name": "LayoutModel",
            "_view_count": null,
            "_view_module": "@jupyter-widgets/base",
            "_view_module_version": "1.2.0",
            "_view_name": "LayoutView",
            "align_content": null,
            "align_items": null,
            "align_self": null,
            "border": null,
            "bottom": null,
            "display": null,
            "flex": null,
            "flex_flow": null,
            "grid_area": null,
            "grid_auto_columns": null,
            "grid_auto_flow": null,
            "grid_auto_rows": null,
            "grid_column": null,
            "grid_gap": null,
            "grid_row": null,
            "grid_template_areas": null,
            "grid_template_columns": null,
            "grid_template_rows": null,
            "height": null,
            "justify_content": null,
            "justify_items": null,
            "left": null,
            "margin": null,
            "max_height": null,
            "max_width": null,
            "min_height": null,
            "min_width": null,
            "object_fit": null,
            "object_position": null,
            "order": null,
            "overflow": null,
            "overflow_x": null,
            "overflow_y": null,
            "padding": null,
            "right": null,
            "top": null,
            "visibility": null,
            "width": null
          }
        },
        "f1d44bb011eb4750a38f7019f1513d48": {
          "model_module": "@jupyter-widgets/controls",
          "model_name": "DescriptionStyleModel",
          "model_module_version": "1.5.0",
          "state": {
            "_model_module": "@jupyter-widgets/controls",
            "_model_module_version": "1.5.0",
            "_model_name": "DescriptionStyleModel",
            "_view_count": null,
            "_view_module": "@jupyter-widgets/base",
            "_view_module_version": "1.2.0",
            "_view_name": "StyleView",
            "description_width": ""
          }
        },
        "23df6ef3ef4a48c48b8f50ef64a2bde6": {
          "model_module": "@jupyter-widgets/controls",
          "model_name": "HBoxModel",
          "model_module_version": "1.5.0",
          "state": {
            "_dom_classes": [],
            "_model_module": "@jupyter-widgets/controls",
            "_model_module_version": "1.5.0",
            "_model_name": "HBoxModel",
            "_view_count": null,
            "_view_module": "@jupyter-widgets/controls",
            "_view_module_version": "1.5.0",
            "_view_name": "HBoxView",
            "box_style": "",
            "children": [
              "IPY_MODEL_88afddc655b44fe1a47e75d05e222836",
              "IPY_MODEL_d29da2fc4d7c4d119c36f051f08090dd",
              "IPY_MODEL_2a3df7a360014a998f518174211067d3"
            ],
            "layout": "IPY_MODEL_7b3fe20ef49a431d82e0f5552139427d"
          }
        },
        "88afddc655b44fe1a47e75d05e222836": {
          "model_module": "@jupyter-widgets/controls",
          "model_name": "HTMLModel",
          "model_module_version": "1.5.0",
          "state": {
            "_dom_classes": [],
            "_model_module": "@jupyter-widgets/controls",
            "_model_module_version": "1.5.0",
            "_model_name": "HTMLModel",
            "_view_count": null,
            "_view_module": "@jupyter-widgets/controls",
            "_view_module_version": "1.5.0",
            "_view_name": "HTMLView",
            "description": "",
            "description_tooltip": null,
            "layout": "IPY_MODEL_4bea601ef6cf4fc6b3dffbf4ba392965",
            "placeholder": "​",
            "style": "IPY_MODEL_82f8c4a669524cefb9a0d0b1f2945730",
            "value": "100%"
          }
        },
        "d29da2fc4d7c4d119c36f051f08090dd": {
          "model_module": "@jupyter-widgets/controls",
          "model_name": "FloatProgressModel",
          "model_module_version": "1.5.0",
          "state": {
            "_dom_classes": [],
            "_model_module": "@jupyter-widgets/controls",
            "_model_module_version": "1.5.0",
            "_model_name": "FloatProgressModel",
            "_view_count": null,
            "_view_module": "@jupyter-widgets/controls",
            "_view_module_version": "1.5.0",
            "_view_name": "ProgressView",
            "bar_style": "success",
            "description": "",
            "description_tooltip": null,
            "layout": "IPY_MODEL_f9659905ed3c425da95fa7acdbef0253",
            "max": 313,
            "min": 0,
            "orientation": "horizontal",
            "style": "IPY_MODEL_27351ec003f24baf826198d551c8bc3d",
            "value": 313
          }
        },
        "2a3df7a360014a998f518174211067d3": {
          "model_module": "@jupyter-widgets/controls",
          "model_name": "HTMLModel",
          "model_module_version": "1.5.0",
          "state": {
            "_dom_classes": [],
            "_model_module": "@jupyter-widgets/controls",
            "_model_module_version": "1.5.0",
            "_model_name": "HTMLModel",
            "_view_count": null,
            "_view_module": "@jupyter-widgets/controls",
            "_view_module_version": "1.5.0",
            "_view_name": "HTMLView",
            "description": "",
            "description_tooltip": null,
            "layout": "IPY_MODEL_933584d49c38431a9c4b4a069edb6d77",
            "placeholder": "​",
            "style": "IPY_MODEL_c4aa6353bbf04a57bce18c39f0e2db0d",
            "value": " 313/313 [00:01&lt;00:00, 173.29it/s]"
          }
        },
        "7b3fe20ef49a431d82e0f5552139427d": {
          "model_module": "@jupyter-widgets/base",
          "model_name": "LayoutModel",
          "model_module_version": "1.2.0",
          "state": {
            "_model_module": "@jupyter-widgets/base",
            "_model_module_version": "1.2.0",
            "_model_name": "LayoutModel",
            "_view_count": null,
            "_view_module": "@jupyter-widgets/base",
            "_view_module_version": "1.2.0",
            "_view_name": "LayoutView",
            "align_content": null,
            "align_items": null,
            "align_self": null,
            "border": null,
            "bottom": null,
            "display": null,
            "flex": null,
            "flex_flow": null,
            "grid_area": null,
            "grid_auto_columns": null,
            "grid_auto_flow": null,
            "grid_auto_rows": null,
            "grid_column": null,
            "grid_gap": null,
            "grid_row": null,
            "grid_template_areas": null,
            "grid_template_columns": null,
            "grid_template_rows": null,
            "height": null,
            "justify_content": null,
            "justify_items": null,
            "left": null,
            "margin": null,
            "max_height": null,
            "max_width": null,
            "min_height": null,
            "min_width": null,
            "object_fit": null,
            "object_position": null,
            "order": null,
            "overflow": null,
            "overflow_x": null,
            "overflow_y": null,
            "padding": null,
            "right": null,
            "top": null,
            "visibility": null,
            "width": null
          }
        },
        "4bea601ef6cf4fc6b3dffbf4ba392965": {
          "model_module": "@jupyter-widgets/base",
          "model_name": "LayoutModel",
          "model_module_version": "1.2.0",
          "state": {
            "_model_module": "@jupyter-widgets/base",
            "_model_module_version": "1.2.0",
            "_model_name": "LayoutModel",
            "_view_count": null,
            "_view_module": "@jupyter-widgets/base",
            "_view_module_version": "1.2.0",
            "_view_name": "LayoutView",
            "align_content": null,
            "align_items": null,
            "align_self": null,
            "border": null,
            "bottom": null,
            "display": null,
            "flex": null,
            "flex_flow": null,
            "grid_area": null,
            "grid_auto_columns": null,
            "grid_auto_flow": null,
            "grid_auto_rows": null,
            "grid_column": null,
            "grid_gap": null,
            "grid_row": null,
            "grid_template_areas": null,
            "grid_template_columns": null,
            "grid_template_rows": null,
            "height": null,
            "justify_content": null,
            "justify_items": null,
            "left": null,
            "margin": null,
            "max_height": null,
            "max_width": null,
            "min_height": null,
            "min_width": null,
            "object_fit": null,
            "object_position": null,
            "order": null,
            "overflow": null,
            "overflow_x": null,
            "overflow_y": null,
            "padding": null,
            "right": null,
            "top": null,
            "visibility": null,
            "width": null
          }
        },
        "82f8c4a669524cefb9a0d0b1f2945730": {
          "model_module": "@jupyter-widgets/controls",
          "model_name": "DescriptionStyleModel",
          "model_module_version": "1.5.0",
          "state": {
            "_model_module": "@jupyter-widgets/controls",
            "_model_module_version": "1.5.0",
            "_model_name": "DescriptionStyleModel",
            "_view_count": null,
            "_view_module": "@jupyter-widgets/base",
            "_view_module_version": "1.2.0",
            "_view_name": "StyleView",
            "description_width": ""
          }
        },
        "f9659905ed3c425da95fa7acdbef0253": {
          "model_module": "@jupyter-widgets/base",
          "model_name": "LayoutModel",
          "model_module_version": "1.2.0",
          "state": {
            "_model_module": "@jupyter-widgets/base",
            "_model_module_version": "1.2.0",
            "_model_name": "LayoutModel",
            "_view_count": null,
            "_view_module": "@jupyter-widgets/base",
            "_view_module_version": "1.2.0",
            "_view_name": "LayoutView",
            "align_content": null,
            "align_items": null,
            "align_self": null,
            "border": null,
            "bottom": null,
            "display": null,
            "flex": null,
            "flex_flow": null,
            "grid_area": null,
            "grid_auto_columns": null,
            "grid_auto_flow": null,
            "grid_auto_rows": null,
            "grid_column": null,
            "grid_gap": null,
            "grid_row": null,
            "grid_template_areas": null,
            "grid_template_columns": null,
            "grid_template_rows": null,
            "height": null,
            "justify_content": null,
            "justify_items": null,
            "left": null,
            "margin": null,
            "max_height": null,
            "max_width": null,
            "min_height": null,
            "min_width": null,
            "object_fit": null,
            "object_position": null,
            "order": null,
            "overflow": null,
            "overflow_x": null,
            "overflow_y": null,
            "padding": null,
            "right": null,
            "top": null,
            "visibility": null,
            "width": null
          }
        },
        "27351ec003f24baf826198d551c8bc3d": {
          "model_module": "@jupyter-widgets/controls",
          "model_name": "ProgressStyleModel",
          "model_module_version": "1.5.0",
          "state": {
            "_model_module": "@jupyter-widgets/controls",
            "_model_module_version": "1.5.0",
            "_model_name": "ProgressStyleModel",
            "_view_count": null,
            "_view_module": "@jupyter-widgets/base",
            "_view_module_version": "1.2.0",
            "_view_name": "StyleView",
            "bar_color": null,
            "description_width": ""
          }
        },
        "933584d49c38431a9c4b4a069edb6d77": {
          "model_module": "@jupyter-widgets/base",
          "model_name": "LayoutModel",
          "model_module_version": "1.2.0",
          "state": {
            "_model_module": "@jupyter-widgets/base",
            "_model_module_version": "1.2.0",
            "_model_name": "LayoutModel",
            "_view_count": null,
            "_view_module": "@jupyter-widgets/base",
            "_view_module_version": "1.2.0",
            "_view_name": "LayoutView",
            "align_content": null,
            "align_items": null,
            "align_self": null,
            "border": null,
            "bottom": null,
            "display": null,
            "flex": null,
            "flex_flow": null,
            "grid_area": null,
            "grid_auto_columns": null,
            "grid_auto_flow": null,
            "grid_auto_rows": null,
            "grid_column": null,
            "grid_gap": null,
            "grid_row": null,
            "grid_template_areas": null,
            "grid_template_columns": null,
            "grid_template_rows": null,
            "height": null,
            "justify_content": null,
            "justify_items": null,
            "left": null,
            "margin": null,
            "max_height": null,
            "max_width": null,
            "min_height": null,
            "min_width": null,
            "object_fit": null,
            "object_position": null,
            "order": null,
            "overflow": null,
            "overflow_x": null,
            "overflow_y": null,
            "padding": null,
            "right": null,
            "top": null,
            "visibility": null,
            "width": null
          }
        },
        "c4aa6353bbf04a57bce18c39f0e2db0d": {
          "model_module": "@jupyter-widgets/controls",
          "model_name": "DescriptionStyleModel",
          "model_module_version": "1.5.0",
          "state": {
            "_model_module": "@jupyter-widgets/controls",
            "_model_module_version": "1.5.0",
            "_model_name": "DescriptionStyleModel",
            "_view_count": null,
            "_view_module": "@jupyter-widgets/base",
            "_view_module_version": "1.2.0",
            "_view_name": "StyleView",
            "description_width": ""
          }
        },
        "c9d8a88645f6452785328fd34b941824": {
          "model_module": "@jupyter-widgets/controls",
          "model_name": "HBoxModel",
          "model_module_version": "1.5.0",
          "state": {
            "_dom_classes": [],
            "_model_module": "@jupyter-widgets/controls",
            "_model_module_version": "1.5.0",
            "_model_name": "HBoxModel",
            "_view_count": null,
            "_view_module": "@jupyter-widgets/controls",
            "_view_module_version": "1.5.0",
            "_view_name": "HBoxView",
            "box_style": "",
            "children": [
              "IPY_MODEL_2c27fd4cadcb4e81b984def31699b99b",
              "IPY_MODEL_0be422edb95b4dfba2f98db715ff56a3",
              "IPY_MODEL_6682113f62b546e7b4deaf4909dfe5c0"
            ],
            "layout": "IPY_MODEL_2d82c140e87d4f4191e9b7f9b009937b"
          }
        },
        "2c27fd4cadcb4e81b984def31699b99b": {
          "model_module": "@jupyter-widgets/controls",
          "model_name": "HTMLModel",
          "model_module_version": "1.5.0",
          "state": {
            "_dom_classes": [],
            "_model_module": "@jupyter-widgets/controls",
            "_model_module_version": "1.5.0",
            "_model_name": "HTMLModel",
            "_view_count": null,
            "_view_module": "@jupyter-widgets/controls",
            "_view_module_version": "1.5.0",
            "_view_name": "HTMLView",
            "description": "",
            "description_tooltip": null,
            "layout": "IPY_MODEL_69f5e791f84b4c03943593b837f4fd32",
            "placeholder": "​",
            "style": "IPY_MODEL_fde29cf30a6e478e93c25ac21c1847ce",
            "value": "100%"
          }
        },
        "0be422edb95b4dfba2f98db715ff56a3": {
          "model_module": "@jupyter-widgets/controls",
          "model_name": "FloatProgressModel",
          "model_module_version": "1.5.0",
          "state": {
            "_dom_classes": [],
            "_model_module": "@jupyter-widgets/controls",
            "_model_module_version": "1.5.0",
            "_model_name": "FloatProgressModel",
            "_view_count": null,
            "_view_module": "@jupyter-widgets/controls",
            "_view_module_version": "1.5.0",
            "_view_name": "ProgressView",
            "bar_style": "success",
            "description": "",
            "description_tooltip": null,
            "layout": "IPY_MODEL_fbdd00e7998e485ab278e33e7ed36817",
            "max": 3,
            "min": 0,
            "orientation": "horizontal",
            "style": "IPY_MODEL_c943fecb1ea94fe1b1d1ce6f6c1c3e0d",
            "value": 3
          }
        },
        "6682113f62b546e7b4deaf4909dfe5c0": {
          "model_module": "@jupyter-widgets/controls",
          "model_name": "HTMLModel",
          "model_module_version": "1.5.0",
          "state": {
            "_dom_classes": [],
            "_model_module": "@jupyter-widgets/controls",
            "_model_module_version": "1.5.0",
            "_model_name": "HTMLModel",
            "_view_count": null,
            "_view_module": "@jupyter-widgets/controls",
            "_view_module_version": "1.5.0",
            "_view_name": "HTMLView",
            "description": "",
            "description_tooltip": null,
            "layout": "IPY_MODEL_34d129d05267412cb284bff81dae5cff",
            "placeholder": "​",
            "style": "IPY_MODEL_7dc44ddd5d7c4da4af03ecb0bc8af03e",
            "value": " 3/3 [00:45&lt;00:00, 15.26s/it]"
          }
        },
        "2d82c140e87d4f4191e9b7f9b009937b": {
          "model_module": "@jupyter-widgets/base",
          "model_name": "LayoutModel",
          "model_module_version": "1.2.0",
          "state": {
            "_model_module": "@jupyter-widgets/base",
            "_model_module_version": "1.2.0",
            "_model_name": "LayoutModel",
            "_view_count": null,
            "_view_module": "@jupyter-widgets/base",
            "_view_module_version": "1.2.0",
            "_view_name": "LayoutView",
            "align_content": null,
            "align_items": null,
            "align_self": null,
            "border": null,
            "bottom": null,
            "display": null,
            "flex": null,
            "flex_flow": null,
            "grid_area": null,
            "grid_auto_columns": null,
            "grid_auto_flow": null,
            "grid_auto_rows": null,
            "grid_column": null,
            "grid_gap": null,
            "grid_row": null,
            "grid_template_areas": null,
            "grid_template_columns": null,
            "grid_template_rows": null,
            "height": null,
            "justify_content": null,
            "justify_items": null,
            "left": null,
            "margin": null,
            "max_height": null,
            "max_width": null,
            "min_height": null,
            "min_width": null,
            "object_fit": null,
            "object_position": null,
            "order": null,
            "overflow": null,
            "overflow_x": null,
            "overflow_y": null,
            "padding": null,
            "right": null,
            "top": null,
            "visibility": null,
            "width": null
          }
        },
        "69f5e791f84b4c03943593b837f4fd32": {
          "model_module": "@jupyter-widgets/base",
          "model_name": "LayoutModel",
          "model_module_version": "1.2.0",
          "state": {
            "_model_module": "@jupyter-widgets/base",
            "_model_module_version": "1.2.0",
            "_model_name": "LayoutModel",
            "_view_count": null,
            "_view_module": "@jupyter-widgets/base",
            "_view_module_version": "1.2.0",
            "_view_name": "LayoutView",
            "align_content": null,
            "align_items": null,
            "align_self": null,
            "border": null,
            "bottom": null,
            "display": null,
            "flex": null,
            "flex_flow": null,
            "grid_area": null,
            "grid_auto_columns": null,
            "grid_auto_flow": null,
            "grid_auto_rows": null,
            "grid_column": null,
            "grid_gap": null,
            "grid_row": null,
            "grid_template_areas": null,
            "grid_template_columns": null,
            "grid_template_rows": null,
            "height": null,
            "justify_content": null,
            "justify_items": null,
            "left": null,
            "margin": null,
            "max_height": null,
            "max_width": null,
            "min_height": null,
            "min_width": null,
            "object_fit": null,
            "object_position": null,
            "order": null,
            "overflow": null,
            "overflow_x": null,
            "overflow_y": null,
            "padding": null,
            "right": null,
            "top": null,
            "visibility": null,
            "width": null
          }
        },
        "fde29cf30a6e478e93c25ac21c1847ce": {
          "model_module": "@jupyter-widgets/controls",
          "model_name": "DescriptionStyleModel",
          "model_module_version": "1.5.0",
          "state": {
            "_model_module": "@jupyter-widgets/controls",
            "_model_module_version": "1.5.0",
            "_model_name": "DescriptionStyleModel",
            "_view_count": null,
            "_view_module": "@jupyter-widgets/base",
            "_view_module_version": "1.2.0",
            "_view_name": "StyleView",
            "description_width": ""
          }
        },
        "fbdd00e7998e485ab278e33e7ed36817": {
          "model_module": "@jupyter-widgets/base",
          "model_name": "LayoutModel",
          "model_module_version": "1.2.0",
          "state": {
            "_model_module": "@jupyter-widgets/base",
            "_model_module_version": "1.2.0",
            "_model_name": "LayoutModel",
            "_view_count": null,
            "_view_module": "@jupyter-widgets/base",
            "_view_module_version": "1.2.0",
            "_view_name": "LayoutView",
            "align_content": null,
            "align_items": null,
            "align_self": null,
            "border": null,
            "bottom": null,
            "display": null,
            "flex": null,
            "flex_flow": null,
            "grid_area": null,
            "grid_auto_columns": null,
            "grid_auto_flow": null,
            "grid_auto_rows": null,
            "grid_column": null,
            "grid_gap": null,
            "grid_row": null,
            "grid_template_areas": null,
            "grid_template_columns": null,
            "grid_template_rows": null,
            "height": null,
            "justify_content": null,
            "justify_items": null,
            "left": null,
            "margin": null,
            "max_height": null,
            "max_width": null,
            "min_height": null,
            "min_width": null,
            "object_fit": null,
            "object_position": null,
            "order": null,
            "overflow": null,
            "overflow_x": null,
            "overflow_y": null,
            "padding": null,
            "right": null,
            "top": null,
            "visibility": null,
            "width": null
          }
        },
        "c943fecb1ea94fe1b1d1ce6f6c1c3e0d": {
          "model_module": "@jupyter-widgets/controls",
          "model_name": "ProgressStyleModel",
          "model_module_version": "1.5.0",
          "state": {
            "_model_module": "@jupyter-widgets/controls",
            "_model_module_version": "1.5.0",
            "_model_name": "ProgressStyleModel",
            "_view_count": null,
            "_view_module": "@jupyter-widgets/base",
            "_view_module_version": "1.2.0",
            "_view_name": "StyleView",
            "bar_color": null,
            "description_width": ""
          }
        },
        "34d129d05267412cb284bff81dae5cff": {
          "model_module": "@jupyter-widgets/base",
          "model_name": "LayoutModel",
          "model_module_version": "1.2.0",
          "state": {
            "_model_module": "@jupyter-widgets/base",
            "_model_module_version": "1.2.0",
            "_model_name": "LayoutModel",
            "_view_count": null,
            "_view_module": "@jupyter-widgets/base",
            "_view_module_version": "1.2.0",
            "_view_name": "LayoutView",
            "align_content": null,
            "align_items": null,
            "align_self": null,
            "border": null,
            "bottom": null,
            "display": null,
            "flex": null,
            "flex_flow": null,
            "grid_area": null,
            "grid_auto_columns": null,
            "grid_auto_flow": null,
            "grid_auto_rows": null,
            "grid_column": null,
            "grid_gap": null,
            "grid_row": null,
            "grid_template_areas": null,
            "grid_template_columns": null,
            "grid_template_rows": null,
            "height": null,
            "justify_content": null,
            "justify_items": null,
            "left": null,
            "margin": null,
            "max_height": null,
            "max_width": null,
            "min_height": null,
            "min_width": null,
            "object_fit": null,
            "object_position": null,
            "order": null,
            "overflow": null,
            "overflow_x": null,
            "overflow_y": null,
            "padding": null,
            "right": null,
            "top": null,
            "visibility": null,
            "width": null
          }
        },
        "7dc44ddd5d7c4da4af03ecb0bc8af03e": {
          "model_module": "@jupyter-widgets/controls",
          "model_name": "DescriptionStyleModel",
          "model_module_version": "1.5.0",
          "state": {
            "_model_module": "@jupyter-widgets/controls",
            "_model_module_version": "1.5.0",
            "_model_name": "DescriptionStyleModel",
            "_view_count": null,
            "_view_module": "@jupyter-widgets/base",
            "_view_module_version": "1.2.0",
            "_view_name": "StyleView",
            "description_width": ""
          }
        },
        "5d847b45b6ef469581bf049b881f06d4": {
          "model_module": "@jupyter-widgets/controls",
          "model_name": "HBoxModel",
          "model_module_version": "1.5.0",
          "state": {
            "_dom_classes": [],
            "_model_module": "@jupyter-widgets/controls",
            "_model_module_version": "1.5.0",
            "_model_name": "HBoxModel",
            "_view_count": null,
            "_view_module": "@jupyter-widgets/controls",
            "_view_module_version": "1.5.0",
            "_view_name": "HBoxView",
            "box_style": "",
            "children": [
              "IPY_MODEL_08c62a990c1d42098e58518cb53aff01",
              "IPY_MODEL_326e7fd8d3134591975cd75c59f21e6c",
              "IPY_MODEL_f149083bc224472d8cbcbfda5e3c02e9"
            ],
            "layout": "IPY_MODEL_2613b6f9965c459a9f93ba2221625ed7"
          }
        },
        "08c62a990c1d42098e58518cb53aff01": {
          "model_module": "@jupyter-widgets/controls",
          "model_name": "HTMLModel",
          "model_module_version": "1.5.0",
          "state": {
            "_dom_classes": [],
            "_model_module": "@jupyter-widgets/controls",
            "_model_module_version": "1.5.0",
            "_model_name": "HTMLModel",
            "_view_count": null,
            "_view_module": "@jupyter-widgets/controls",
            "_view_module_version": "1.5.0",
            "_view_name": "HTMLView",
            "description": "",
            "description_tooltip": null,
            "layout": "IPY_MODEL_0794cf44fd7a4f0c8309e3e29f64f65c",
            "placeholder": "​",
            "style": "IPY_MODEL_ba186353d6a54f10908d7220f582648c",
            "value": "100%"
          }
        },
        "326e7fd8d3134591975cd75c59f21e6c": {
          "model_module": "@jupyter-widgets/controls",
          "model_name": "FloatProgressModel",
          "model_module_version": "1.5.0",
          "state": {
            "_dom_classes": [],
            "_model_module": "@jupyter-widgets/controls",
            "_model_module_version": "1.5.0",
            "_model_name": "FloatProgressModel",
            "_view_count": null,
            "_view_module": "@jupyter-widgets/controls",
            "_view_module_version": "1.5.0",
            "_view_name": "ProgressView",
            "bar_style": "success",
            "description": "",
            "description_tooltip": null,
            "layout": "IPY_MODEL_de44af95a33e4183adb8f50d02f92801",
            "max": 313,
            "min": 0,
            "orientation": "horizontal",
            "style": "IPY_MODEL_821f79447ca3482a9bea7b0fce08275c",
            "value": 313
          }
        },
        "f149083bc224472d8cbcbfda5e3c02e9": {
          "model_module": "@jupyter-widgets/controls",
          "model_name": "HTMLModel",
          "model_module_version": "1.5.0",
          "state": {
            "_dom_classes": [],
            "_model_module": "@jupyter-widgets/controls",
            "_model_module_version": "1.5.0",
            "_model_name": "HTMLModel",
            "_view_count": null,
            "_view_module": "@jupyter-widgets/controls",
            "_view_module_version": "1.5.0",
            "_view_name": "HTMLView",
            "description": "",
            "description_tooltip": null,
            "layout": "IPY_MODEL_6066f52cd5c74edebef1cbe5b10da652",
            "placeholder": "​",
            "style": "IPY_MODEL_983ab85724124a1087f31679f61965a2",
            "value": " 313/313 [00:01&lt;00:00, 175.37it/s]"
          }
        },
        "2613b6f9965c459a9f93ba2221625ed7": {
          "model_module": "@jupyter-widgets/base",
          "model_name": "LayoutModel",
          "model_module_version": "1.2.0",
          "state": {
            "_model_module": "@jupyter-widgets/base",
            "_model_module_version": "1.2.0",
            "_model_name": "LayoutModel",
            "_view_count": null,
            "_view_module": "@jupyter-widgets/base",
            "_view_module_version": "1.2.0",
            "_view_name": "LayoutView",
            "align_content": null,
            "align_items": null,
            "align_self": null,
            "border": null,
            "bottom": null,
            "display": null,
            "flex": null,
            "flex_flow": null,
            "grid_area": null,
            "grid_auto_columns": null,
            "grid_auto_flow": null,
            "grid_auto_rows": null,
            "grid_column": null,
            "grid_gap": null,
            "grid_row": null,
            "grid_template_areas": null,
            "grid_template_columns": null,
            "grid_template_rows": null,
            "height": null,
            "justify_content": null,
            "justify_items": null,
            "left": null,
            "margin": null,
            "max_height": null,
            "max_width": null,
            "min_height": null,
            "min_width": null,
            "object_fit": null,
            "object_position": null,
            "order": null,
            "overflow": null,
            "overflow_x": null,
            "overflow_y": null,
            "padding": null,
            "right": null,
            "top": null,
            "visibility": null,
            "width": null
          }
        },
        "0794cf44fd7a4f0c8309e3e29f64f65c": {
          "model_module": "@jupyter-widgets/base",
          "model_name": "LayoutModel",
          "model_module_version": "1.2.0",
          "state": {
            "_model_module": "@jupyter-widgets/base",
            "_model_module_version": "1.2.0",
            "_model_name": "LayoutModel",
            "_view_count": null,
            "_view_module": "@jupyter-widgets/base",
            "_view_module_version": "1.2.0",
            "_view_name": "LayoutView",
            "align_content": null,
            "align_items": null,
            "align_self": null,
            "border": null,
            "bottom": null,
            "display": null,
            "flex": null,
            "flex_flow": null,
            "grid_area": null,
            "grid_auto_columns": null,
            "grid_auto_flow": null,
            "grid_auto_rows": null,
            "grid_column": null,
            "grid_gap": null,
            "grid_row": null,
            "grid_template_areas": null,
            "grid_template_columns": null,
            "grid_template_rows": null,
            "height": null,
            "justify_content": null,
            "justify_items": null,
            "left": null,
            "margin": null,
            "max_height": null,
            "max_width": null,
            "min_height": null,
            "min_width": null,
            "object_fit": null,
            "object_position": null,
            "order": null,
            "overflow": null,
            "overflow_x": null,
            "overflow_y": null,
            "padding": null,
            "right": null,
            "top": null,
            "visibility": null,
            "width": null
          }
        },
        "ba186353d6a54f10908d7220f582648c": {
          "model_module": "@jupyter-widgets/controls",
          "model_name": "DescriptionStyleModel",
          "model_module_version": "1.5.0",
          "state": {
            "_model_module": "@jupyter-widgets/controls",
            "_model_module_version": "1.5.0",
            "_model_name": "DescriptionStyleModel",
            "_view_count": null,
            "_view_module": "@jupyter-widgets/base",
            "_view_module_version": "1.2.0",
            "_view_name": "StyleView",
            "description_width": ""
          }
        },
        "de44af95a33e4183adb8f50d02f92801": {
          "model_module": "@jupyter-widgets/base",
          "model_name": "LayoutModel",
          "model_module_version": "1.2.0",
          "state": {
            "_model_module": "@jupyter-widgets/base",
            "_model_module_version": "1.2.0",
            "_model_name": "LayoutModel",
            "_view_count": null,
            "_view_module": "@jupyter-widgets/base",
            "_view_module_version": "1.2.0",
            "_view_name": "LayoutView",
            "align_content": null,
            "align_items": null,
            "align_self": null,
            "border": null,
            "bottom": null,
            "display": null,
            "flex": null,
            "flex_flow": null,
            "grid_area": null,
            "grid_auto_columns": null,
            "grid_auto_flow": null,
            "grid_auto_rows": null,
            "grid_column": null,
            "grid_gap": null,
            "grid_row": null,
            "grid_template_areas": null,
            "grid_template_columns": null,
            "grid_template_rows": null,
            "height": null,
            "justify_content": null,
            "justify_items": null,
            "left": null,
            "margin": null,
            "max_height": null,
            "max_width": null,
            "min_height": null,
            "min_width": null,
            "object_fit": null,
            "object_position": null,
            "order": null,
            "overflow": null,
            "overflow_x": null,
            "overflow_y": null,
            "padding": null,
            "right": null,
            "top": null,
            "visibility": null,
            "width": null
          }
        },
        "821f79447ca3482a9bea7b0fce08275c": {
          "model_module": "@jupyter-widgets/controls",
          "model_name": "ProgressStyleModel",
          "model_module_version": "1.5.0",
          "state": {
            "_model_module": "@jupyter-widgets/controls",
            "_model_module_version": "1.5.0",
            "_model_name": "ProgressStyleModel",
            "_view_count": null,
            "_view_module": "@jupyter-widgets/base",
            "_view_module_version": "1.2.0",
            "_view_name": "StyleView",
            "bar_color": null,
            "description_width": ""
          }
        },
        "6066f52cd5c74edebef1cbe5b10da652": {
          "model_module": "@jupyter-widgets/base",
          "model_name": "LayoutModel",
          "model_module_version": "1.2.0",
          "state": {
            "_model_module": "@jupyter-widgets/base",
            "_model_module_version": "1.2.0",
            "_model_name": "LayoutModel",
            "_view_count": null,
            "_view_module": "@jupyter-widgets/base",
            "_view_module_version": "1.2.0",
            "_view_name": "LayoutView",
            "align_content": null,
            "align_items": null,
            "align_self": null,
            "border": null,
            "bottom": null,
            "display": null,
            "flex": null,
            "flex_flow": null,
            "grid_area": null,
            "grid_auto_columns": null,
            "grid_auto_flow": null,
            "grid_auto_rows": null,
            "grid_column": null,
            "grid_gap": null,
            "grid_row": null,
            "grid_template_areas": null,
            "grid_template_columns": null,
            "grid_template_rows": null,
            "height": null,
            "justify_content": null,
            "justify_items": null,
            "left": null,
            "margin": null,
            "max_height": null,
            "max_width": null,
            "min_height": null,
            "min_width": null,
            "object_fit": null,
            "object_position": null,
            "order": null,
            "overflow": null,
            "overflow_x": null,
            "overflow_y": null,
            "padding": null,
            "right": null,
            "top": null,
            "visibility": null,
            "width": null
          }
        },
        "983ab85724124a1087f31679f61965a2": {
          "model_module": "@jupyter-widgets/controls",
          "model_name": "DescriptionStyleModel",
          "model_module_version": "1.5.0",
          "state": {
            "_model_module": "@jupyter-widgets/controls",
            "_model_module_version": "1.5.0",
            "_model_name": "DescriptionStyleModel",
            "_view_count": null,
            "_view_module": "@jupyter-widgets/base",
            "_view_module_version": "1.2.0",
            "_view_name": "StyleView",
            "description_width": ""
          }
        },
        "f4b87acbb08a4a68b39379f4766dca49": {
          "model_module": "@jupyter-widgets/controls",
          "model_name": "HBoxModel",
          "model_module_version": "1.5.0",
          "state": {
            "_dom_classes": [],
            "_model_module": "@jupyter-widgets/controls",
            "_model_module_version": "1.5.0",
            "_model_name": "HBoxModel",
            "_view_count": null,
            "_view_module": "@jupyter-widgets/controls",
            "_view_module_version": "1.5.0",
            "_view_name": "HBoxView",
            "box_style": "",
            "children": [
              "IPY_MODEL_12b830378d964f8487b1c7e03159b3b1",
              "IPY_MODEL_f5def7bc583643f3b038517cc8ba3227",
              "IPY_MODEL_837cc38004734de19097ef50ea35a642"
            ],
            "layout": "IPY_MODEL_c059561e5d994a558c911cc9acf485d7"
          }
        },
        "12b830378d964f8487b1c7e03159b3b1": {
          "model_module": "@jupyter-widgets/controls",
          "model_name": "HTMLModel",
          "model_module_version": "1.5.0",
          "state": {
            "_dom_classes": [],
            "_model_module": "@jupyter-widgets/controls",
            "_model_module_version": "1.5.0",
            "_model_name": "HTMLModel",
            "_view_count": null,
            "_view_module": "@jupyter-widgets/controls",
            "_view_module_version": "1.5.0",
            "_view_name": "HTMLView",
            "description": "",
            "description_tooltip": null,
            "layout": "IPY_MODEL_3a2d4e54540f47ef9f23dba2ce11bbb1",
            "placeholder": "​",
            "style": "IPY_MODEL_f1aed0c7b1dc4603ad120b2541699e16",
            "value": "100%"
          }
        },
        "f5def7bc583643f3b038517cc8ba3227": {
          "model_module": "@jupyter-widgets/controls",
          "model_name": "FloatProgressModel",
          "model_module_version": "1.5.0",
          "state": {
            "_dom_classes": [],
            "_model_module": "@jupyter-widgets/controls",
            "_model_module_version": "1.5.0",
            "_model_name": "FloatProgressModel",
            "_view_count": null,
            "_view_module": "@jupyter-widgets/controls",
            "_view_module_version": "1.5.0",
            "_view_name": "ProgressView",
            "bar_style": "success",
            "description": "",
            "description_tooltip": null,
            "layout": "IPY_MODEL_48c5a54bcccb4823ade2e44563891bb1",
            "max": 3,
            "min": 0,
            "orientation": "horizontal",
            "style": "IPY_MODEL_d7e84d5d01c4445d9e57aff5becc1bb7",
            "value": 3
          }
        },
        "837cc38004734de19097ef50ea35a642": {
          "model_module": "@jupyter-widgets/controls",
          "model_name": "HTMLModel",
          "model_module_version": "1.5.0",
          "state": {
            "_dom_classes": [],
            "_model_module": "@jupyter-widgets/controls",
            "_model_module_version": "1.5.0",
            "_model_name": "HTMLModel",
            "_view_count": null,
            "_view_module": "@jupyter-widgets/controls",
            "_view_module_version": "1.5.0",
            "_view_name": "HTMLView",
            "description": "",
            "description_tooltip": null,
            "layout": "IPY_MODEL_ecef8c4ccbfb42659d846b0af179b917",
            "placeholder": "​",
            "style": "IPY_MODEL_351274575db740f99328162901a2e07d",
            "value": " 3/3 [04:05&lt;00:00, 81.60s/it]"
          }
        },
        "c059561e5d994a558c911cc9acf485d7": {
          "model_module": "@jupyter-widgets/base",
          "model_name": "LayoutModel",
          "model_module_version": "1.2.0",
          "state": {
            "_model_module": "@jupyter-widgets/base",
            "_model_module_version": "1.2.0",
            "_model_name": "LayoutModel",
            "_view_count": null,
            "_view_module": "@jupyter-widgets/base",
            "_view_module_version": "1.2.0",
            "_view_name": "LayoutView",
            "align_content": null,
            "align_items": null,
            "align_self": null,
            "border": null,
            "bottom": null,
            "display": null,
            "flex": null,
            "flex_flow": null,
            "grid_area": null,
            "grid_auto_columns": null,
            "grid_auto_flow": null,
            "grid_auto_rows": null,
            "grid_column": null,
            "grid_gap": null,
            "grid_row": null,
            "grid_template_areas": null,
            "grid_template_columns": null,
            "grid_template_rows": null,
            "height": null,
            "justify_content": null,
            "justify_items": null,
            "left": null,
            "margin": null,
            "max_height": null,
            "max_width": null,
            "min_height": null,
            "min_width": null,
            "object_fit": null,
            "object_position": null,
            "order": null,
            "overflow": null,
            "overflow_x": null,
            "overflow_y": null,
            "padding": null,
            "right": null,
            "top": null,
            "visibility": null,
            "width": null
          }
        },
        "3a2d4e54540f47ef9f23dba2ce11bbb1": {
          "model_module": "@jupyter-widgets/base",
          "model_name": "LayoutModel",
          "model_module_version": "1.2.0",
          "state": {
            "_model_module": "@jupyter-widgets/base",
            "_model_module_version": "1.2.0",
            "_model_name": "LayoutModel",
            "_view_count": null,
            "_view_module": "@jupyter-widgets/base",
            "_view_module_version": "1.2.0",
            "_view_name": "LayoutView",
            "align_content": null,
            "align_items": null,
            "align_self": null,
            "border": null,
            "bottom": null,
            "display": null,
            "flex": null,
            "flex_flow": null,
            "grid_area": null,
            "grid_auto_columns": null,
            "grid_auto_flow": null,
            "grid_auto_rows": null,
            "grid_column": null,
            "grid_gap": null,
            "grid_row": null,
            "grid_template_areas": null,
            "grid_template_columns": null,
            "grid_template_rows": null,
            "height": null,
            "justify_content": null,
            "justify_items": null,
            "left": null,
            "margin": null,
            "max_height": null,
            "max_width": null,
            "min_height": null,
            "min_width": null,
            "object_fit": null,
            "object_position": null,
            "order": null,
            "overflow": null,
            "overflow_x": null,
            "overflow_y": null,
            "padding": null,
            "right": null,
            "top": null,
            "visibility": null,
            "width": null
          }
        },
        "f1aed0c7b1dc4603ad120b2541699e16": {
          "model_module": "@jupyter-widgets/controls",
          "model_name": "DescriptionStyleModel",
          "model_module_version": "1.5.0",
          "state": {
            "_model_module": "@jupyter-widgets/controls",
            "_model_module_version": "1.5.0",
            "_model_name": "DescriptionStyleModel",
            "_view_count": null,
            "_view_module": "@jupyter-widgets/base",
            "_view_module_version": "1.2.0",
            "_view_name": "StyleView",
            "description_width": ""
          }
        },
        "48c5a54bcccb4823ade2e44563891bb1": {
          "model_module": "@jupyter-widgets/base",
          "model_name": "LayoutModel",
          "model_module_version": "1.2.0",
          "state": {
            "_model_module": "@jupyter-widgets/base",
            "_model_module_version": "1.2.0",
            "_model_name": "LayoutModel",
            "_view_count": null,
            "_view_module": "@jupyter-widgets/base",
            "_view_module_version": "1.2.0",
            "_view_name": "LayoutView",
            "align_content": null,
            "align_items": null,
            "align_self": null,
            "border": null,
            "bottom": null,
            "display": null,
            "flex": null,
            "flex_flow": null,
            "grid_area": null,
            "grid_auto_columns": null,
            "grid_auto_flow": null,
            "grid_auto_rows": null,
            "grid_column": null,
            "grid_gap": null,
            "grid_row": null,
            "grid_template_areas": null,
            "grid_template_columns": null,
            "grid_template_rows": null,
            "height": null,
            "justify_content": null,
            "justify_items": null,
            "left": null,
            "margin": null,
            "max_height": null,
            "max_width": null,
            "min_height": null,
            "min_width": null,
            "object_fit": null,
            "object_position": null,
            "order": null,
            "overflow": null,
            "overflow_x": null,
            "overflow_y": null,
            "padding": null,
            "right": null,
            "top": null,
            "visibility": null,
            "width": null
          }
        },
        "d7e84d5d01c4445d9e57aff5becc1bb7": {
          "model_module": "@jupyter-widgets/controls",
          "model_name": "ProgressStyleModel",
          "model_module_version": "1.5.0",
          "state": {
            "_model_module": "@jupyter-widgets/controls",
            "_model_module_version": "1.5.0",
            "_model_name": "ProgressStyleModel",
            "_view_count": null,
            "_view_module": "@jupyter-widgets/base",
            "_view_module_version": "1.2.0",
            "_view_name": "StyleView",
            "bar_color": null,
            "description_width": ""
          }
        },
        "ecef8c4ccbfb42659d846b0af179b917": {
          "model_module": "@jupyter-widgets/base",
          "model_name": "LayoutModel",
          "model_module_version": "1.2.0",
          "state": {
            "_model_module": "@jupyter-widgets/base",
            "_model_module_version": "1.2.0",
            "_model_name": "LayoutModel",
            "_view_count": null,
            "_view_module": "@jupyter-widgets/base",
            "_view_module_version": "1.2.0",
            "_view_name": "LayoutView",
            "align_content": null,
            "align_items": null,
            "align_self": null,
            "border": null,
            "bottom": null,
            "display": null,
            "flex": null,
            "flex_flow": null,
            "grid_area": null,
            "grid_auto_columns": null,
            "grid_auto_flow": null,
            "grid_auto_rows": null,
            "grid_column": null,
            "grid_gap": null,
            "grid_row": null,
            "grid_template_areas": null,
            "grid_template_columns": null,
            "grid_template_rows": null,
            "height": null,
            "justify_content": null,
            "justify_items": null,
            "left": null,
            "margin": null,
            "max_height": null,
            "max_width": null,
            "min_height": null,
            "min_width": null,
            "object_fit": null,
            "object_position": null,
            "order": null,
            "overflow": null,
            "overflow_x": null,
            "overflow_y": null,
            "padding": null,
            "right": null,
            "top": null,
            "visibility": null,
            "width": null
          }
        },
        "351274575db740f99328162901a2e07d": {
          "model_module": "@jupyter-widgets/controls",
          "model_name": "DescriptionStyleModel",
          "model_module_version": "1.5.0",
          "state": {
            "_model_module": "@jupyter-widgets/controls",
            "_model_module_version": "1.5.0",
            "_model_name": "DescriptionStyleModel",
            "_view_count": null,
            "_view_module": "@jupyter-widgets/base",
            "_view_module_version": "1.2.0",
            "_view_name": "StyleView",
            "description_width": ""
          }
        },
        "a0e1e877cb584529a8d2e0f8a22d5b69": {
          "model_module": "@jupyter-widgets/controls",
          "model_name": "HBoxModel",
          "model_module_version": "1.5.0",
          "state": {
            "_dom_classes": [],
            "_model_module": "@jupyter-widgets/controls",
            "_model_module_version": "1.5.0",
            "_model_name": "HBoxModel",
            "_view_count": null,
            "_view_module": "@jupyter-widgets/controls",
            "_view_module_version": "1.5.0",
            "_view_name": "HBoxView",
            "box_style": "",
            "children": [
              "IPY_MODEL_4826ff3699944bfbb2d90a53c89c6a2a",
              "IPY_MODEL_f4898028ee59425fb0f5535f05f5f9ef",
              "IPY_MODEL_38fa866e49ef4278a59b32edff99d49d"
            ],
            "layout": "IPY_MODEL_d51e3fa9041743de8a63e506e501db8a"
          }
        },
        "4826ff3699944bfbb2d90a53c89c6a2a": {
          "model_module": "@jupyter-widgets/controls",
          "model_name": "HTMLModel",
          "model_module_version": "1.5.0",
          "state": {
            "_dom_classes": [],
            "_model_module": "@jupyter-widgets/controls",
            "_model_module_version": "1.5.0",
            "_model_name": "HTMLModel",
            "_view_count": null,
            "_view_module": "@jupyter-widgets/controls",
            "_view_module_version": "1.5.0",
            "_view_name": "HTMLView",
            "description": "",
            "description_tooltip": null,
            "layout": "IPY_MODEL_10106d6779b14d2ba6512b45f6e4f795",
            "placeholder": "​",
            "style": "IPY_MODEL_cdffb0edafcd46e6bce118864bdee523",
            "value": "100%"
          }
        },
        "f4898028ee59425fb0f5535f05f5f9ef": {
          "model_module": "@jupyter-widgets/controls",
          "model_name": "FloatProgressModel",
          "model_module_version": "1.5.0",
          "state": {
            "_dom_classes": [],
            "_model_module": "@jupyter-widgets/controls",
            "_model_module_version": "1.5.0",
            "_model_name": "FloatProgressModel",
            "_view_count": null,
            "_view_module": "@jupyter-widgets/controls",
            "_view_module_version": "1.5.0",
            "_view_name": "ProgressView",
            "bar_style": "success",
            "description": "",
            "description_tooltip": null,
            "layout": "IPY_MODEL_a9fcefa29b55465f8dc99621efa4673c",
            "max": 313,
            "min": 0,
            "orientation": "horizontal",
            "style": "IPY_MODEL_04605ee647274ee3a3a955cc7d03be4b",
            "value": 313
          }
        },
        "38fa866e49ef4278a59b32edff99d49d": {
          "model_module": "@jupyter-widgets/controls",
          "model_name": "HTMLModel",
          "model_module_version": "1.5.0",
          "state": {
            "_dom_classes": [],
            "_model_module": "@jupyter-widgets/controls",
            "_model_module_version": "1.5.0",
            "_model_name": "HTMLModel",
            "_view_count": null,
            "_view_module": "@jupyter-widgets/controls",
            "_view_module_version": "1.5.0",
            "_view_name": "HTMLView",
            "description": "",
            "description_tooltip": null,
            "layout": "IPY_MODEL_8e04fae4082f4de486b2b1ac157764f1",
            "placeholder": "​",
            "style": "IPY_MODEL_5362b4edb818421f9a3d171e8526e695",
            "value": " 313/313 [00:05&lt;00:00, 51.36it/s]"
          }
        },
        "d51e3fa9041743de8a63e506e501db8a": {
          "model_module": "@jupyter-widgets/base",
          "model_name": "LayoutModel",
          "model_module_version": "1.2.0",
          "state": {
            "_model_module": "@jupyter-widgets/base",
            "_model_module_version": "1.2.0",
            "_model_name": "LayoutModel",
            "_view_count": null,
            "_view_module": "@jupyter-widgets/base",
            "_view_module_version": "1.2.0",
            "_view_name": "LayoutView",
            "align_content": null,
            "align_items": null,
            "align_self": null,
            "border": null,
            "bottom": null,
            "display": null,
            "flex": null,
            "flex_flow": null,
            "grid_area": null,
            "grid_auto_columns": null,
            "grid_auto_flow": null,
            "grid_auto_rows": null,
            "grid_column": null,
            "grid_gap": null,
            "grid_row": null,
            "grid_template_areas": null,
            "grid_template_columns": null,
            "grid_template_rows": null,
            "height": null,
            "justify_content": null,
            "justify_items": null,
            "left": null,
            "margin": null,
            "max_height": null,
            "max_width": null,
            "min_height": null,
            "min_width": null,
            "object_fit": null,
            "object_position": null,
            "order": null,
            "overflow": null,
            "overflow_x": null,
            "overflow_y": null,
            "padding": null,
            "right": null,
            "top": null,
            "visibility": null,
            "width": null
          }
        },
        "10106d6779b14d2ba6512b45f6e4f795": {
          "model_module": "@jupyter-widgets/base",
          "model_name": "LayoutModel",
          "model_module_version": "1.2.0",
          "state": {
            "_model_module": "@jupyter-widgets/base",
            "_model_module_version": "1.2.0",
            "_model_name": "LayoutModel",
            "_view_count": null,
            "_view_module": "@jupyter-widgets/base",
            "_view_module_version": "1.2.0",
            "_view_name": "LayoutView",
            "align_content": null,
            "align_items": null,
            "align_self": null,
            "border": null,
            "bottom": null,
            "display": null,
            "flex": null,
            "flex_flow": null,
            "grid_area": null,
            "grid_auto_columns": null,
            "grid_auto_flow": null,
            "grid_auto_rows": null,
            "grid_column": null,
            "grid_gap": null,
            "grid_row": null,
            "grid_template_areas": null,
            "grid_template_columns": null,
            "grid_template_rows": null,
            "height": null,
            "justify_content": null,
            "justify_items": null,
            "left": null,
            "margin": null,
            "max_height": null,
            "max_width": null,
            "min_height": null,
            "min_width": null,
            "object_fit": null,
            "object_position": null,
            "order": null,
            "overflow": null,
            "overflow_x": null,
            "overflow_y": null,
            "padding": null,
            "right": null,
            "top": null,
            "visibility": null,
            "width": null
          }
        },
        "cdffb0edafcd46e6bce118864bdee523": {
          "model_module": "@jupyter-widgets/controls",
          "model_name": "DescriptionStyleModel",
          "model_module_version": "1.5.0",
          "state": {
            "_model_module": "@jupyter-widgets/controls",
            "_model_module_version": "1.5.0",
            "_model_name": "DescriptionStyleModel",
            "_view_count": null,
            "_view_module": "@jupyter-widgets/base",
            "_view_module_version": "1.2.0",
            "_view_name": "StyleView",
            "description_width": ""
          }
        },
        "a9fcefa29b55465f8dc99621efa4673c": {
          "model_module": "@jupyter-widgets/base",
          "model_name": "LayoutModel",
          "model_module_version": "1.2.0",
          "state": {
            "_model_module": "@jupyter-widgets/base",
            "_model_module_version": "1.2.0",
            "_model_name": "LayoutModel",
            "_view_count": null,
            "_view_module": "@jupyter-widgets/base",
            "_view_module_version": "1.2.0",
            "_view_name": "LayoutView",
            "align_content": null,
            "align_items": null,
            "align_self": null,
            "border": null,
            "bottom": null,
            "display": null,
            "flex": null,
            "flex_flow": null,
            "grid_area": null,
            "grid_auto_columns": null,
            "grid_auto_flow": null,
            "grid_auto_rows": null,
            "grid_column": null,
            "grid_gap": null,
            "grid_row": null,
            "grid_template_areas": null,
            "grid_template_columns": null,
            "grid_template_rows": null,
            "height": null,
            "justify_content": null,
            "justify_items": null,
            "left": null,
            "margin": null,
            "max_height": null,
            "max_width": null,
            "min_height": null,
            "min_width": null,
            "object_fit": null,
            "object_position": null,
            "order": null,
            "overflow": null,
            "overflow_x": null,
            "overflow_y": null,
            "padding": null,
            "right": null,
            "top": null,
            "visibility": null,
            "width": null
          }
        },
        "04605ee647274ee3a3a955cc7d03be4b": {
          "model_module": "@jupyter-widgets/controls",
          "model_name": "ProgressStyleModel",
          "model_module_version": "1.5.0",
          "state": {
            "_model_module": "@jupyter-widgets/controls",
            "_model_module_version": "1.5.0",
            "_model_name": "ProgressStyleModel",
            "_view_count": null,
            "_view_module": "@jupyter-widgets/base",
            "_view_module_version": "1.2.0",
            "_view_name": "StyleView",
            "bar_color": null,
            "description_width": ""
          }
        },
        "8e04fae4082f4de486b2b1ac157764f1": {
          "model_module": "@jupyter-widgets/base",
          "model_name": "LayoutModel",
          "model_module_version": "1.2.0",
          "state": {
            "_model_module": "@jupyter-widgets/base",
            "_model_module_version": "1.2.0",
            "_model_name": "LayoutModel",
            "_view_count": null,
            "_view_module": "@jupyter-widgets/base",
            "_view_module_version": "1.2.0",
            "_view_name": "LayoutView",
            "align_content": null,
            "align_items": null,
            "align_self": null,
            "border": null,
            "bottom": null,
            "display": null,
            "flex": null,
            "flex_flow": null,
            "grid_area": null,
            "grid_auto_columns": null,
            "grid_auto_flow": null,
            "grid_auto_rows": null,
            "grid_column": null,
            "grid_gap": null,
            "grid_row": null,
            "grid_template_areas": null,
            "grid_template_columns": null,
            "grid_template_rows": null,
            "height": null,
            "justify_content": null,
            "justify_items": null,
            "left": null,
            "margin": null,
            "max_height": null,
            "max_width": null,
            "min_height": null,
            "min_width": null,
            "object_fit": null,
            "object_position": null,
            "order": null,
            "overflow": null,
            "overflow_x": null,
            "overflow_y": null,
            "padding": null,
            "right": null,
            "top": null,
            "visibility": null,
            "width": null
          }
        },
        "5362b4edb818421f9a3d171e8526e695": {
          "model_module": "@jupyter-widgets/controls",
          "model_name": "DescriptionStyleModel",
          "model_module_version": "1.5.0",
          "state": {
            "_model_module": "@jupyter-widgets/controls",
            "_model_module_version": "1.5.0",
            "_model_name": "DescriptionStyleModel",
            "_view_count": null,
            "_view_module": "@jupyter-widgets/base",
            "_view_module_version": "1.2.0",
            "_view_name": "StyleView",
            "description_width": ""
          }
        },
        "1e22571a24f1484c835165623a12cb1d": {
          "model_module": "@jupyter-widgets/controls",
          "model_name": "HBoxModel",
          "model_module_version": "1.5.0",
          "state": {
            "_dom_classes": [],
            "_model_module": "@jupyter-widgets/controls",
            "_model_module_version": "1.5.0",
            "_model_name": "HBoxModel",
            "_view_count": null,
            "_view_module": "@jupyter-widgets/controls",
            "_view_module_version": "1.5.0",
            "_view_name": "HBoxView",
            "box_style": "",
            "children": [
              "IPY_MODEL_8cca7e5062e8427b8fea3164b685e826",
              "IPY_MODEL_ef10df3003da49f48cc416f44ba762db",
              "IPY_MODEL_87070f16f787449991b26e627ba36b40"
            ],
            "layout": "IPY_MODEL_ab981232e64949a1a0ce24540a1f7346"
          }
        },
        "8cca7e5062e8427b8fea3164b685e826": {
          "model_module": "@jupyter-widgets/controls",
          "model_name": "HTMLModel",
          "model_module_version": "1.5.0",
          "state": {
            "_dom_classes": [],
            "_model_module": "@jupyter-widgets/controls",
            "_model_module_version": "1.5.0",
            "_model_name": "HTMLModel",
            "_view_count": null,
            "_view_module": "@jupyter-widgets/controls",
            "_view_module_version": "1.5.0",
            "_view_name": "HTMLView",
            "description": "",
            "description_tooltip": null,
            "layout": "IPY_MODEL_eb4d2ed854cb406eb2742a7fe9d2e25e",
            "placeholder": "​",
            "style": "IPY_MODEL_53149da03029483dbb6cc3260dcec031",
            "value": "Making predictions...: 100%"
          }
        },
        "ef10df3003da49f48cc416f44ba762db": {
          "model_module": "@jupyter-widgets/controls",
          "model_name": "FloatProgressModel",
          "model_module_version": "1.5.0",
          "state": {
            "_dom_classes": [],
            "_model_module": "@jupyter-widgets/controls",
            "_model_module_version": "1.5.0",
            "_model_name": "FloatProgressModel",
            "_view_count": null,
            "_view_module": "@jupyter-widgets/controls",
            "_view_module_version": "1.5.0",
            "_view_name": "ProgressView",
            "bar_style": "success",
            "description": "",
            "description_tooltip": null,
            "layout": "IPY_MODEL_4884677fcaea4a2c9d9ce99715914723",
            "max": 313,
            "min": 0,
            "orientation": "horizontal",
            "style": "IPY_MODEL_5152e7723a3a4354bce1721d5f427534",
            "value": 313
          }
        },
        "87070f16f787449991b26e627ba36b40": {
          "model_module": "@jupyter-widgets/controls",
          "model_name": "HTMLModel",
          "model_module_version": "1.5.0",
          "state": {
            "_dom_classes": [],
            "_model_module": "@jupyter-widgets/controls",
            "_model_module_version": "1.5.0",
            "_model_name": "HTMLModel",
            "_view_count": null,
            "_view_module": "@jupyter-widgets/controls",
            "_view_module_version": "1.5.0",
            "_view_name": "HTMLView",
            "description": "",
            "description_tooltip": null,
            "layout": "IPY_MODEL_d111cdc15fac4e34ad5dfab537ac9af8",
            "placeholder": "​",
            "style": "IPY_MODEL_f0c96b4eabe846d5aad9f5db2f77e22b",
            "value": " 313/313 [00:09&lt;00:00, 40.72it/s]"
          }
        },
        "ab981232e64949a1a0ce24540a1f7346": {
          "model_module": "@jupyter-widgets/base",
          "model_name": "LayoutModel",
          "model_module_version": "1.2.0",
          "state": {
            "_model_module": "@jupyter-widgets/base",
            "_model_module_version": "1.2.0",
            "_model_name": "LayoutModel",
            "_view_count": null,
            "_view_module": "@jupyter-widgets/base",
            "_view_module_version": "1.2.0",
            "_view_name": "LayoutView",
            "align_content": null,
            "align_items": null,
            "align_self": null,
            "border": null,
            "bottom": null,
            "display": null,
            "flex": null,
            "flex_flow": null,
            "grid_area": null,
            "grid_auto_columns": null,
            "grid_auto_flow": null,
            "grid_auto_rows": null,
            "grid_column": null,
            "grid_gap": null,
            "grid_row": null,
            "grid_template_areas": null,
            "grid_template_columns": null,
            "grid_template_rows": null,
            "height": null,
            "justify_content": null,
            "justify_items": null,
            "left": null,
            "margin": null,
            "max_height": null,
            "max_width": null,
            "min_height": null,
            "min_width": null,
            "object_fit": null,
            "object_position": null,
            "order": null,
            "overflow": null,
            "overflow_x": null,
            "overflow_y": null,
            "padding": null,
            "right": null,
            "top": null,
            "visibility": null,
            "width": null
          }
        },
        "eb4d2ed854cb406eb2742a7fe9d2e25e": {
          "model_module": "@jupyter-widgets/base",
          "model_name": "LayoutModel",
          "model_module_version": "1.2.0",
          "state": {
            "_model_module": "@jupyter-widgets/base",
            "_model_module_version": "1.2.0",
            "_model_name": "LayoutModel",
            "_view_count": null,
            "_view_module": "@jupyter-widgets/base",
            "_view_module_version": "1.2.0",
            "_view_name": "LayoutView",
            "align_content": null,
            "align_items": null,
            "align_self": null,
            "border": null,
            "bottom": null,
            "display": null,
            "flex": null,
            "flex_flow": null,
            "grid_area": null,
            "grid_auto_columns": null,
            "grid_auto_flow": null,
            "grid_auto_rows": null,
            "grid_column": null,
            "grid_gap": null,
            "grid_row": null,
            "grid_template_areas": null,
            "grid_template_columns": null,
            "grid_template_rows": null,
            "height": null,
            "justify_content": null,
            "justify_items": null,
            "left": null,
            "margin": null,
            "max_height": null,
            "max_width": null,
            "min_height": null,
            "min_width": null,
            "object_fit": null,
            "object_position": null,
            "order": null,
            "overflow": null,
            "overflow_x": null,
            "overflow_y": null,
            "padding": null,
            "right": null,
            "top": null,
            "visibility": null,
            "width": null
          }
        },
        "53149da03029483dbb6cc3260dcec031": {
          "model_module": "@jupyter-widgets/controls",
          "model_name": "DescriptionStyleModel",
          "model_module_version": "1.5.0",
          "state": {
            "_model_module": "@jupyter-widgets/controls",
            "_model_module_version": "1.5.0",
            "_model_name": "DescriptionStyleModel",
            "_view_count": null,
            "_view_module": "@jupyter-widgets/base",
            "_view_module_version": "1.2.0",
            "_view_name": "StyleView",
            "description_width": ""
          }
        },
        "4884677fcaea4a2c9d9ce99715914723": {
          "model_module": "@jupyter-widgets/base",
          "model_name": "LayoutModel",
          "model_module_version": "1.2.0",
          "state": {
            "_model_module": "@jupyter-widgets/base",
            "_model_module_version": "1.2.0",
            "_model_name": "LayoutModel",
            "_view_count": null,
            "_view_module": "@jupyter-widgets/base",
            "_view_module_version": "1.2.0",
            "_view_name": "LayoutView",
            "align_content": null,
            "align_items": null,
            "align_self": null,
            "border": null,
            "bottom": null,
            "display": null,
            "flex": null,
            "flex_flow": null,
            "grid_area": null,
            "grid_auto_columns": null,
            "grid_auto_flow": null,
            "grid_auto_rows": null,
            "grid_column": null,
            "grid_gap": null,
            "grid_row": null,
            "grid_template_areas": null,
            "grid_template_columns": null,
            "grid_template_rows": null,
            "height": null,
            "justify_content": null,
            "justify_items": null,
            "left": null,
            "margin": null,
            "max_height": null,
            "max_width": null,
            "min_height": null,
            "min_width": null,
            "object_fit": null,
            "object_position": null,
            "order": null,
            "overflow": null,
            "overflow_x": null,
            "overflow_y": null,
            "padding": null,
            "right": null,
            "top": null,
            "visibility": null,
            "width": null
          }
        },
        "5152e7723a3a4354bce1721d5f427534": {
          "model_module": "@jupyter-widgets/controls",
          "model_name": "ProgressStyleModel",
          "model_module_version": "1.5.0",
          "state": {
            "_model_module": "@jupyter-widgets/controls",
            "_model_module_version": "1.5.0",
            "_model_name": "ProgressStyleModel",
            "_view_count": null,
            "_view_module": "@jupyter-widgets/base",
            "_view_module_version": "1.2.0",
            "_view_name": "StyleView",
            "bar_color": null,
            "description_width": ""
          }
        },
        "d111cdc15fac4e34ad5dfab537ac9af8": {
          "model_module": "@jupyter-widgets/base",
          "model_name": "LayoutModel",
          "model_module_version": "1.2.0",
          "state": {
            "_model_module": "@jupyter-widgets/base",
            "_model_module_version": "1.2.0",
            "_model_name": "LayoutModel",
            "_view_count": null,
            "_view_module": "@jupyter-widgets/base",
            "_view_module_version": "1.2.0",
            "_view_name": "LayoutView",
            "align_content": null,
            "align_items": null,
            "align_self": null,
            "border": null,
            "bottom": null,
            "display": null,
            "flex": null,
            "flex_flow": null,
            "grid_area": null,
            "grid_auto_columns": null,
            "grid_auto_flow": null,
            "grid_auto_rows": null,
            "grid_column": null,
            "grid_gap": null,
            "grid_row": null,
            "grid_template_areas": null,
            "grid_template_columns": null,
            "grid_template_rows": null,
            "height": null,
            "justify_content": null,
            "justify_items": null,
            "left": null,
            "margin": null,
            "max_height": null,
            "max_width": null,
            "min_height": null,
            "min_width": null,
            "object_fit": null,
            "object_position": null,
            "order": null,
            "overflow": null,
            "overflow_x": null,
            "overflow_y": null,
            "padding": null,
            "right": null,
            "top": null,
            "visibility": null,
            "width": null
          }
        },
        "f0c96b4eabe846d5aad9f5db2f77e22b": {
          "model_module": "@jupyter-widgets/controls",
          "model_name": "DescriptionStyleModel",
          "model_module_version": "1.5.0",
          "state": {
            "_model_module": "@jupyter-widgets/controls",
            "_model_module_version": "1.5.0",
            "_model_name": "DescriptionStyleModel",
            "_view_count": null,
            "_view_module": "@jupyter-widgets/base",
            "_view_module_version": "1.2.0",
            "_view_name": "StyleView",
            "description_width": ""
          }
        },
        "0314cd3e9e0b417fabb1d11337e09fdd": {
          "model_module": "@jupyter-widgets/controls",
          "model_name": "HBoxModel",
          "model_module_version": "1.5.0",
          "state": {
            "_dom_classes": [],
            "_model_module": "@jupyter-widgets/controls",
            "_model_module_version": "1.5.0",
            "_model_name": "HBoxModel",
            "_view_count": null,
            "_view_module": "@jupyter-widgets/controls",
            "_view_module_version": "1.5.0",
            "_view_name": "HBoxView",
            "box_style": "",
            "children": [
              "IPY_MODEL_badfd1eb0f7348209966077de3b08d5a",
              "IPY_MODEL_3f318996547b41fcba38763035bb4d6a",
              "IPY_MODEL_5f239b3923f743fc9523db9a960e32b8"
            ],
            "layout": "IPY_MODEL_4d5644c1e5ab4060a8cf8ee448a63e57"
          }
        },
        "badfd1eb0f7348209966077de3b08d5a": {
          "model_module": "@jupyter-widgets/controls",
          "model_name": "HTMLModel",
          "model_module_version": "1.5.0",
          "state": {
            "_dom_classes": [],
            "_model_module": "@jupyter-widgets/controls",
            "_model_module_version": "1.5.0",
            "_model_name": "HTMLModel",
            "_view_count": null,
            "_view_module": "@jupyter-widgets/controls",
            "_view_module_version": "1.5.0",
            "_view_name": "HTMLView",
            "description": "",
            "description_tooltip": null,
            "layout": "IPY_MODEL_30be3bc4eedd4af998c94eb41cd0ac7d",
            "placeholder": "​",
            "style": "IPY_MODEL_9a5f921cf5c047949bd3d02e0d8e2379",
            "value": "100%"
          }
        },
        "3f318996547b41fcba38763035bb4d6a": {
          "model_module": "@jupyter-widgets/controls",
          "model_name": "FloatProgressModel",
          "model_module_version": "1.5.0",
          "state": {
            "_dom_classes": [],
            "_model_module": "@jupyter-widgets/controls",
            "_model_module_version": "1.5.0",
            "_model_name": "FloatProgressModel",
            "_view_count": null,
            "_view_module": "@jupyter-widgets/controls",
            "_view_module_version": "1.5.0",
            "_view_name": "ProgressView",
            "bar_style": "success",
            "description": "",
            "description_tooltip": null,
            "layout": "IPY_MODEL_d964b2c1093f4340bffe2f9833dd8bf8",
            "max": 313,
            "min": 0,
            "orientation": "horizontal",
            "style": "IPY_MODEL_8469388befea4cecae41cdbff75bb3f1",
            "value": 313
          }
        },
        "5f239b3923f743fc9523db9a960e32b8": {
          "model_module": "@jupyter-widgets/controls",
          "model_name": "HTMLModel",
          "model_module_version": "1.5.0",
          "state": {
            "_dom_classes": [],
            "_model_module": "@jupyter-widgets/controls",
            "_model_module_version": "1.5.0",
            "_model_name": "HTMLModel",
            "_view_count": null,
            "_view_module": "@jupyter-widgets/controls",
            "_view_module_version": "1.5.0",
            "_view_name": "HTMLView",
            "description": "",
            "description_tooltip": null,
            "layout": "IPY_MODEL_f55d7d0526ce4da9a69ea8e3d5d3c9dd",
            "placeholder": "​",
            "style": "IPY_MODEL_f934971b88db4d2dbe67a61a1d1067f6",
            "value": " 313/313 [00:08&lt;00:00, 47.98it/s]"
          }
        },
        "4d5644c1e5ab4060a8cf8ee448a63e57": {
          "model_module": "@jupyter-widgets/base",
          "model_name": "LayoutModel",
          "model_module_version": "1.2.0",
          "state": {
            "_model_module": "@jupyter-widgets/base",
            "_model_module_version": "1.2.0",
            "_model_name": "LayoutModel",
            "_view_count": null,
            "_view_module": "@jupyter-widgets/base",
            "_view_module_version": "1.2.0",
            "_view_name": "LayoutView",
            "align_content": null,
            "align_items": null,
            "align_self": null,
            "border": null,
            "bottom": null,
            "display": null,
            "flex": null,
            "flex_flow": null,
            "grid_area": null,
            "grid_auto_columns": null,
            "grid_auto_flow": null,
            "grid_auto_rows": null,
            "grid_column": null,
            "grid_gap": null,
            "grid_row": null,
            "grid_template_areas": null,
            "grid_template_columns": null,
            "grid_template_rows": null,
            "height": null,
            "justify_content": null,
            "justify_items": null,
            "left": null,
            "margin": null,
            "max_height": null,
            "max_width": null,
            "min_height": null,
            "min_width": null,
            "object_fit": null,
            "object_position": null,
            "order": null,
            "overflow": null,
            "overflow_x": null,
            "overflow_y": null,
            "padding": null,
            "right": null,
            "top": null,
            "visibility": null,
            "width": null
          }
        },
        "30be3bc4eedd4af998c94eb41cd0ac7d": {
          "model_module": "@jupyter-widgets/base",
          "model_name": "LayoutModel",
          "model_module_version": "1.2.0",
          "state": {
            "_model_module": "@jupyter-widgets/base",
            "_model_module_version": "1.2.0",
            "_model_name": "LayoutModel",
            "_view_count": null,
            "_view_module": "@jupyter-widgets/base",
            "_view_module_version": "1.2.0",
            "_view_name": "LayoutView",
            "align_content": null,
            "align_items": null,
            "align_self": null,
            "border": null,
            "bottom": null,
            "display": null,
            "flex": null,
            "flex_flow": null,
            "grid_area": null,
            "grid_auto_columns": null,
            "grid_auto_flow": null,
            "grid_auto_rows": null,
            "grid_column": null,
            "grid_gap": null,
            "grid_row": null,
            "grid_template_areas": null,
            "grid_template_columns": null,
            "grid_template_rows": null,
            "height": null,
            "justify_content": null,
            "justify_items": null,
            "left": null,
            "margin": null,
            "max_height": null,
            "max_width": null,
            "min_height": null,
            "min_width": null,
            "object_fit": null,
            "object_position": null,
            "order": null,
            "overflow": null,
            "overflow_x": null,
            "overflow_y": null,
            "padding": null,
            "right": null,
            "top": null,
            "visibility": null,
            "width": null
          }
        },
        "9a5f921cf5c047949bd3d02e0d8e2379": {
          "model_module": "@jupyter-widgets/controls",
          "model_name": "DescriptionStyleModel",
          "model_module_version": "1.5.0",
          "state": {
            "_model_module": "@jupyter-widgets/controls",
            "_model_module_version": "1.5.0",
            "_model_name": "DescriptionStyleModel",
            "_view_count": null,
            "_view_module": "@jupyter-widgets/base",
            "_view_module_version": "1.2.0",
            "_view_name": "StyleView",
            "description_width": ""
          }
        },
        "d964b2c1093f4340bffe2f9833dd8bf8": {
          "model_module": "@jupyter-widgets/base",
          "model_name": "LayoutModel",
          "model_module_version": "1.2.0",
          "state": {
            "_model_module": "@jupyter-widgets/base",
            "_model_module_version": "1.2.0",
            "_model_name": "LayoutModel",
            "_view_count": null,
            "_view_module": "@jupyter-widgets/base",
            "_view_module_version": "1.2.0",
            "_view_name": "LayoutView",
            "align_content": null,
            "align_items": null,
            "align_self": null,
            "border": null,
            "bottom": null,
            "display": null,
            "flex": null,
            "flex_flow": null,
            "grid_area": null,
            "grid_auto_columns": null,
            "grid_auto_flow": null,
            "grid_auto_rows": null,
            "grid_column": null,
            "grid_gap": null,
            "grid_row": null,
            "grid_template_areas": null,
            "grid_template_columns": null,
            "grid_template_rows": null,
            "height": null,
            "justify_content": null,
            "justify_items": null,
            "left": null,
            "margin": null,
            "max_height": null,
            "max_width": null,
            "min_height": null,
            "min_width": null,
            "object_fit": null,
            "object_position": null,
            "order": null,
            "overflow": null,
            "overflow_x": null,
            "overflow_y": null,
            "padding": null,
            "right": null,
            "top": null,
            "visibility": null,
            "width": null
          }
        },
        "8469388befea4cecae41cdbff75bb3f1": {
          "model_module": "@jupyter-widgets/controls",
          "model_name": "ProgressStyleModel",
          "model_module_version": "1.5.0",
          "state": {
            "_model_module": "@jupyter-widgets/controls",
            "_model_module_version": "1.5.0",
            "_model_name": "ProgressStyleModel",
            "_view_count": null,
            "_view_module": "@jupyter-widgets/base",
            "_view_module_version": "1.2.0",
            "_view_name": "StyleView",
            "bar_color": null,
            "description_width": ""
          }
        },
        "f55d7d0526ce4da9a69ea8e3d5d3c9dd": {
          "model_module": "@jupyter-widgets/base",
          "model_name": "LayoutModel",
          "model_module_version": "1.2.0",
          "state": {
            "_model_module": "@jupyter-widgets/base",
            "_model_module_version": "1.2.0",
            "_model_name": "LayoutModel",
            "_view_count": null,
            "_view_module": "@jupyter-widgets/base",
            "_view_module_version": "1.2.0",
            "_view_name": "LayoutView",
            "align_content": null,
            "align_items": null,
            "align_self": null,
            "border": null,
            "bottom": null,
            "display": null,
            "flex": null,
            "flex_flow": null,
            "grid_area": null,
            "grid_auto_columns": null,
            "grid_auto_flow": null,
            "grid_auto_rows": null,
            "grid_column": null,
            "grid_gap": null,
            "grid_row": null,
            "grid_template_areas": null,
            "grid_template_columns": null,
            "grid_template_rows": null,
            "height": null,
            "justify_content": null,
            "justify_items": null,
            "left": null,
            "margin": null,
            "max_height": null,
            "max_width": null,
            "min_height": null,
            "min_width": null,
            "object_fit": null,
            "object_position": null,
            "order": null,
            "overflow": null,
            "overflow_x": null,
            "overflow_y": null,
            "padding": null,
            "right": null,
            "top": null,
            "visibility": null,
            "width": null
          }
        },
        "f934971b88db4d2dbe67a61a1d1067f6": {
          "model_module": "@jupyter-widgets/controls",
          "model_name": "DescriptionStyleModel",
          "model_module_version": "1.5.0",
          "state": {
            "_model_module": "@jupyter-widgets/controls",
            "_model_module_version": "1.5.0",
            "_model_name": "DescriptionStyleModel",
            "_view_count": null,
            "_view_module": "@jupyter-widgets/base",
            "_view_module_version": "1.2.0",
            "_view_name": "StyleView",
            "description_width": ""
          }
        }
      }
    }
  },
  "cells": [
    {
      "cell_type": "markdown",
      "metadata": {
        "id": "view-in-github",
        "colab_type": "text"
      },
      "source": [
        "<a href=\"https://colab.research.google.com/github/anandreddy05/Pytorch/blob/main/Pytorch_torchvision.ipynb\" target=\"_parent\"><img src=\"https://colab.research.google.com/assets/colab-badge.svg\" alt=\"Open In Colab\"/></a>"
      ]
    },
    {
      "cell_type": "markdown",
      "source": [
        "# `TorchVision`\n",
        "\n",
        "* `torchvision.datasets`\n",
        "* `torchvision.models` - pretrained computer vision models\n",
        "* `torchvision.transforms`- functions for manipulating vision data\n",
        "* `torch.utils.data.Dataset`- Base dataset class for Pytorch\n",
        "* `torch.utils.data.DataLoader` - Creates a Python iterable over a dataset"
      ],
      "metadata": {
        "id": "alHWQvMMdUki"
      }
    },
    {
      "cell_type": "code",
      "source": [
        "import torch\n",
        "from torch import nn\n",
        "from torch import optim\n",
        "\n",
        "import torchvision\n",
        "from torchvision import datasets, transforms\n",
        "from torchvision.transforms import ToTensor\n",
        "\n",
        "import matplotlib.pyplot as plt\n",
        "print(torch.__version__)\n",
        "print(torchvision.__version__)"
      ],
      "metadata": {
        "colab": {
          "base_uri": "https://localhost:8080/"
        },
        "id": "XkHTQ8ZtfDkb",
        "outputId": "ca5bd37f-8dd1-4335-dfbe-df9fcde4f0a6"
      },
      "execution_count": 85,
      "outputs": [
        {
          "output_type": "stream",
          "name": "stdout",
          "text": [
            "2.6.0+cu124\n",
            "0.21.0+cu124\n"
          ]
        }
      ]
    },
    {
      "cell_type": "code",
      "source": [
        "train_data = datasets.FashionMNIST(\n",
        "    root = \"data\",\n",
        "    train=True,\n",
        "    download=True,\n",
        "    transform =ToTensor(),\n",
        "    target_transform=None\n",
        ")\n",
        "test_data = datasets.FashionMNIST(\n",
        "    root=\"data\",\n",
        "    train=False,\n",
        "    download=True,\n",
        "    transform=ToTensor(),\n",
        "    target_transform=None\n",
        ")"
      ],
      "metadata": {
        "id": "8XL0CCZcfk5R"
      },
      "execution_count": 86,
      "outputs": []
    },
    {
      "cell_type": "code",
      "source": [
        "len(train_data),len(test_data)"
      ],
      "metadata": {
        "id": "i0dkCE79rZjP",
        "colab": {
          "base_uri": "https://localhost:8080/"
        },
        "outputId": "95b72dc9-04ef-4aee-a2b4-dc9e49b13040"
      },
      "execution_count": 87,
      "outputs": [
        {
          "output_type": "execute_result",
          "data": {
            "text/plain": [
              "(60000, 10000)"
            ]
          },
          "metadata": {},
          "execution_count": 87
        }
      ]
    },
    {
      "cell_type": "code",
      "source": [
        "image,label = train_data[0]"
      ],
      "metadata": {
        "id": "v8ree0pIr_rq"
      },
      "execution_count": 88,
      "outputs": []
    },
    {
      "cell_type": "code",
      "source": [
        "class_names = train_data.classes"
      ],
      "metadata": {
        "id": "5LRDipzvsDJS"
      },
      "execution_count": 89,
      "outputs": []
    },
    {
      "cell_type": "code",
      "source": [
        "train_data.class_to_idx"
      ],
      "metadata": {
        "colab": {
          "base_uri": "https://localhost:8080/"
        },
        "id": "mBt55pndsR26",
        "outputId": "3c9b3261-e7c0-48ed-eb22-1cd915e930f0"
      },
      "execution_count": 90,
      "outputs": [
        {
          "output_type": "execute_result",
          "data": {
            "text/plain": [
              "{'T-shirt/top': 0,\n",
              " 'Trouser': 1,\n",
              " 'Pullover': 2,\n",
              " 'Dress': 3,\n",
              " 'Coat': 4,\n",
              " 'Sandal': 5,\n",
              " 'Shirt': 6,\n",
              " 'Sneaker': 7,\n",
              " 'Bag': 8,\n",
              " 'Ankle boot': 9}"
            ]
          },
          "metadata": {},
          "execution_count": 90
        }
      ]
    },
    {
      "cell_type": "code",
      "source": [
        "train_data.targets"
      ],
      "metadata": {
        "colab": {
          "base_uri": "https://localhost:8080/"
        },
        "id": "q1xhwSMPsYM_",
        "outputId": "b6f41100-f10b-4a69-9717-5a97ee704142"
      },
      "execution_count": 91,
      "outputs": [
        {
          "output_type": "execute_result",
          "data": {
            "text/plain": [
              "tensor([9, 0, 0,  ..., 3, 0, 5])"
            ]
          },
          "metadata": {},
          "execution_count": 91
        }
      ]
    },
    {
      "cell_type": "code",
      "source": [
        "train_data[0][0].shape # [Colour_Channel,height,width]"
      ],
      "metadata": {
        "colab": {
          "base_uri": "https://localhost:8080/"
        },
        "id": "XMvVqmPAscjC",
        "outputId": "efb616eb-2c71-40d4-a2a3-961167cfd4c9"
      },
      "execution_count": 92,
      "outputs": [
        {
          "output_type": "execute_result",
          "data": {
            "text/plain": [
              "torch.Size([1, 28, 28])"
            ]
          },
          "metadata": {},
          "execution_count": 92
        }
      ]
    },
    {
      "cell_type": "code",
      "source": [
        "plt.imshow(image.squeeze())\n",
        "plt.title(class_names[label])"
      ],
      "metadata": {
        "colab": {
          "base_uri": "https://localhost:8080/",
          "height": 470
        },
        "id": "t7fZx6qXsvro",
        "outputId": "fffbc12d-6a3a-4cfc-b2e0-2f188b6cc752"
      },
      "execution_count": 93,
      "outputs": [
        {
          "output_type": "execute_result",
          "data": {
            "text/plain": [
              "Text(0.5, 1.0, 'Ankle boot')"
            ]
          },
          "metadata": {},
          "execution_count": 93
        },
        {
          "output_type": "display_data",
          "data": {
            "text/plain": [
              "<Figure size 640x480 with 1 Axes>"
            ],
            "image/png": "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\n"
          },
          "metadata": {}
        }
      ]
    },
    {
      "cell_type": "code",
      "source": [
        "plt.imshow(image.squeeze(),cmap=\"gray\")\n",
        "plt.title(class_names[label])"
      ],
      "metadata": {
        "colab": {
          "base_uri": "https://localhost:8080/",
          "height": 470
        },
        "id": "xLbIHEpgt7C3",
        "outputId": "363630a5-0cd6-4731-dfe0-6275c1d0d6aa"
      },
      "execution_count": 94,
      "outputs": [
        {
          "output_type": "execute_result",
          "data": {
            "text/plain": [
              "Text(0.5, 1.0, 'Ankle boot')"
            ]
          },
          "metadata": {},
          "execution_count": 94
        },
        {
          "output_type": "display_data",
          "data": {
            "text/plain": [
              "<Figure size 640x480 with 1 Axes>"
            ],
            "image/png": "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\n"
          },
          "metadata": {}
        }
      ]
    },
    {
      "cell_type": "code",
      "source": [
        "\n",
        "fig = plt.figure(figsize=(9,9))\n",
        "rows,cols = 4,4\n",
        "for i in range(1,rows*cols+1):\n",
        "  random_idx = torch.randint(0,len(train_data),size=[1]).item()\n",
        "  img,label = train_data[random_idx]\n",
        "  fig.add_subplot(rows,cols,i)\n",
        "  plt.imshow(img.squeeze(),cmap=\"gray\")\n",
        "  plt.title(class_names[label])\n",
        "  plt.axis(False)"
      ],
      "metadata": {
        "colab": {
          "base_uri": "https://localhost:8080/",
          "height": 670
        },
        "id": "CafQ8rBGuwLl",
        "outputId": "080341a8-91f2-4644-be49-a09a1061b117"
      },
      "execution_count": 95,
      "outputs": [
        {
          "output_type": "display_data",
          "data": {
            "text/plain": [
              "<Figure size 900x900 with 16 Axes>"
            ],
            "image/png": "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\n"
          },
          "metadata": {}
        }
      ]
    },
    {
      "cell_type": "code",
      "source": [
        "train_data,test_data"
      ],
      "metadata": {
        "colab": {
          "base_uri": "https://localhost:8080/"
        },
        "id": "YuyPeJqVvFOH",
        "outputId": "098cff34-a9c3-4167-b5ee-f46d99139268"
      },
      "execution_count": 96,
      "outputs": [
        {
          "output_type": "execute_result",
          "data": {
            "text/plain": [
              "(Dataset FashionMNIST\n",
              "     Number of datapoints: 60000\n",
              "     Root location: data\n",
              "     Split: Train\n",
              "     StandardTransform\n",
              " Transform: ToTensor(),\n",
              " Dataset FashionMNIST\n",
              "     Number of datapoints: 10000\n",
              "     Root location: data\n",
              "     Split: Test\n",
              "     StandardTransform\n",
              " Transform: ToTensor())"
            ]
          },
          "metadata": {},
          "execution_count": 96
        }
      ]
    },
    {
      "cell_type": "code",
      "source": [
        "from torch.utils.data import DataLoader\n",
        "\n",
        "BATCH_SIZE = 32\n",
        "\n",
        "train_dataloader = DataLoader(dataset=train_data,\n",
        "                              batch_size=BATCH_SIZE,\n",
        "                              shuffle=True\n",
        "                              )\n",
        "test_dataloader = DataLoader(dataset=test_data,\n",
        "                             batch_size=BATCH_SIZE,\n",
        "                             shuffle=False\n",
        "                             )\n",
        "\n",
        "train_dataloader,test_dataloader"
      ],
      "metadata": {
        "colab": {
          "base_uri": "https://localhost:8080/"
        },
        "id": "x59yhbqaw8Kw",
        "outputId": "2d9f0a3c-4f8b-4c31-b48d-918ba0946bff"
      },
      "execution_count": 97,
      "outputs": [
        {
          "output_type": "execute_result",
          "data": {
            "text/plain": [
              "(<torch.utils.data.dataloader.DataLoader at 0x79a35de3ce90>,\n",
              " <torch.utils.data.dataloader.DataLoader at 0x79a3641d04d0>)"
            ]
          },
          "metadata": {},
          "execution_count": 97
        }
      ]
    },
    {
      "cell_type": "code",
      "source": [
        "print(f\"Length of train_dataloader: {len(train_dataloader)} batches of {BATCH_SIZE}\")\n",
        "print(f\"Length of test_dataloader: {len(test_dataloader)} batches of {BATCH_SIZE}\")"
      ],
      "metadata": {
        "colab": {
          "base_uri": "https://localhost:8080/"
        },
        "id": "dctql5b2zXuE",
        "outputId": "fac65d1b-a27d-4311-8f50-2c184765f3ca"
      },
      "execution_count": 98,
      "outputs": [
        {
          "output_type": "stream",
          "name": "stdout",
          "text": [
            "Length of train_dataloader: 1875 batches of 32\n",
            "Length of test_dataloader: 313 batches of 32\n"
          ]
        }
      ]
    },
    {
      "cell_type": "code",
      "source": [
        "train_features_batch, train_labels_batch = next(iter(train_dataloader))\n",
        "train_features_batch.shape, train_labels_batch.shape"
      ],
      "metadata": {
        "colab": {
          "base_uri": "https://localhost:8080/"
        },
        "id": "bwSZoTwn05mW",
        "outputId": "51d32745-45c1-4c4e-d915-a1176272bec1"
      },
      "execution_count": 99,
      "outputs": [
        {
          "output_type": "execute_result",
          "data": {
            "text/plain": [
              "(torch.Size([32, 1, 28, 28]), torch.Size([32]))"
            ]
          },
          "metadata": {},
          "execution_count": 99
        }
      ]
    },
    {
      "cell_type": "code",
      "source": [
        "# torch.manual_seed(42)\n",
        "random_idx = torch.randint(0,len(train_features_batch),size=[1]).item()\n",
        "img,label = train_features_batch[random_idx],train_labels_batch[random_idx]\n",
        "plt.imshow(img.squeeze(),cmap=\"gray\")\n",
        "plt.title(class_names[label])\n",
        "plt.axis(False)\n",
        "\n",
        "print(f\"Image Shape: {img.shape}\")\n",
        "print(f\"Image Label: {label}\")"
      ],
      "metadata": {
        "colab": {
          "base_uri": "https://localhost:8080/",
          "height": 464
        },
        "id": "NOwBqfOh0DpA",
        "outputId": "81a9f25f-9f1f-4a7c-c455-c49b777bf764"
      },
      "execution_count": 100,
      "outputs": [
        {
          "output_type": "stream",
          "name": "stdout",
          "text": [
            "Image Shape: torch.Size([1, 28, 28])\n",
            "Image Label: 2\n"
          ]
        },
        {
          "output_type": "display_data",
          "data": {
            "text/plain": [
              "<Figure size 640x480 with 1 Axes>"
            ],
            "image/png": "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\n"
          },
          "metadata": {}
        }
      ]
    },
    {
      "cell_type": "markdown",
      "source": [
        "# Linear Model"
      ],
      "metadata": {
        "id": "zg0IaEIzC_7V"
      }
    },
    {
      "cell_type": "code",
      "source": [
        "class FashionMNISTModelV0(nn.Module):\n",
        "  def __init__(self,\n",
        "               input_shape:int,\n",
        "               hidden_shape:int,\n",
        "               output_shape:int\n",
        "               ):\n",
        "    super().__init__()\n",
        "\n",
        "    self.layer = nn.Sequential(\n",
        "        nn.Flatten(),\n",
        "        nn.Linear(in_features=input_shape,out_features=hidden_shape),\n",
        "        nn.Linear(in_features=hidden_shape,out_features=output_shape)\n",
        "    )\n",
        "\n",
        "  def forward(self,x):\n",
        "    return self.layer(x)"
      ],
      "metadata": {
        "id": "tgTub6Q41WFw"
      },
      "execution_count": 101,
      "outputs": []
    },
    {
      "cell_type": "code",
      "source": [
        "torch.manual_seed(42)\n",
        "\n",
        "model_0 = FashionMNISTModelV0(\n",
        "    input_shape=784,\n",
        "    hidden_shape=10,\n",
        "    output_shape=len(class_names)\n",
        ").to(\"cpu\")\n",
        "\n",
        "print(model_0)"
      ],
      "metadata": {
        "colab": {
          "base_uri": "https://localhost:8080/"
        },
        "id": "_qWHXS1c4JdM",
        "outputId": "b672bb55-9164-4a8b-ec7e-b42de444fece"
      },
      "execution_count": 102,
      "outputs": [
        {
          "output_type": "stream",
          "name": "stdout",
          "text": [
            "FashionMNISTModelV0(\n",
            "  (layer): Sequential(\n",
            "    (0): Flatten(start_dim=1, end_dim=-1)\n",
            "    (1): Linear(in_features=784, out_features=10, bias=True)\n",
            "    (2): Linear(in_features=10, out_features=10, bias=True)\n",
            "  )\n",
            ")\n"
          ]
        }
      ]
    },
    {
      "cell_type": "code",
      "source": [
        "def accuracy_fn(y_true,y_pred):\n",
        "  correct = torch.eq(y_true,y_pred).sum().item()\n",
        "  acc = (correct/len(y_pred)) * 100\n",
        "  return acc\n",
        "\n",
        "loss_fn = nn.CrossEntropyLoss()\n",
        "optimizer = optim.SGD(model_0.parameters(),lr=0.1)"
      ],
      "metadata": {
        "id": "HGjEyUYm5mfB"
      },
      "execution_count": 103,
      "outputs": []
    },
    {
      "cell_type": "code",
      "source": [
        "from timeit import default_timer as timer\n",
        "def print_train_time(start: float,\n",
        "                     end: float,\n",
        "                     device: torch.device):\n",
        "  total_time = end - start\n",
        "  print(f\"Train time on {device}: {total_time:.3f} seconds\")\n",
        "  return total_time"
      ],
      "metadata": {
        "id": "QHW8PMtN632o"
      },
      "execution_count": 104,
      "outputs": []
    },
    {
      "cell_type": "code",
      "source": [
        "start_time = timer()\n",
        "\n",
        "end_time = timer()\n",
        "print_train_time(start=start_time,end=end_time,device='cpu')"
      ],
      "metadata": {
        "colab": {
          "base_uri": "https://localhost:8080/"
        },
        "id": "AlHxLlgG2-yk",
        "outputId": "16b20df6-446a-4f8d-ee94-52954cb985d4"
      },
      "execution_count": 105,
      "outputs": [
        {
          "output_type": "stream",
          "name": "stdout",
          "text": [
            "Train time on cpu: 0.000 seconds\n"
          ]
        },
        {
          "output_type": "execute_result",
          "data": {
            "text/plain": [
              "3.7400000110210385e-05"
            ]
          },
          "metadata": {},
          "execution_count": 105
        }
      ]
    },
    {
      "cell_type": "code",
      "source": [
        "from tqdm.auto import tqdm\n",
        "\n",
        "torch.manual_seed(42)\n",
        "train_time_start_on_cpu = timer()\n",
        "\n",
        "epochs = 3\n",
        "\n",
        "for epoch in tqdm(range(epochs)):\n",
        "  print(f\"Epoch: {epoch}\\n\")\n",
        "  train_loss,train_acc = 0,0\n",
        "  for batch, (X,y) in enumerate(train_dataloader):\n",
        "    # if batch % 1875 == 0:\n",
        "    #   print(\"Ended\")\n",
        "    #   print(batch)\n",
        "    y_pred = model_0(X)\n",
        "    loss = loss_fn(y_pred,y)\n",
        "    train_loss += loss\n",
        "    train_acc += accuracy_fn(y_true=y,y_pred=y_pred.argmax(dim=1))\n",
        "    optimizer.zero_grad()\n",
        "    loss.backward()\n",
        "\n",
        "    optimizer.step()\n",
        "\n",
        "    if batch % 600 == 0:\n",
        "      print(f\"Looked at {batch * len(X)} / {len(train_dataloader.dataset)} samples.\")\n",
        "\n",
        "  train_loss /= len(train_dataloader)\n",
        "  train_acc /= len(train_dataloader)\n",
        "  test_loss, test_acc = 0,0\n",
        "  model_0.eval()\n",
        "  with torch.inference_mode():\n",
        "    for X_t,y_t in test_dataloader:\n",
        "      test_pred = model_0(X_t)\n",
        "      test_loss += loss_fn(test_pred,y_t)\n",
        "\n",
        "      test_acc += accuracy_fn(y_true=y_t,y_pred=test_pred.argmax(dim=1))\n",
        "    test_loss /= len(test_dataloader)\n",
        "    test_acc /= len(test_dataloader)\n",
        "  print(f\"\\nTrain loss: {train_loss:.4f} | Test acc: {train_acc} | Test loss: {test_loss:.4f}, Test acc: {test_acc:.4f}%\")\n",
        "\n",
        "train_time_end_on_cpu = timer()\n",
        "total_train_time_model_0 = print_train_time(start=train_time_start_on_cpu,end=train_time_end_on_cpu,device=str(next(model_0.parameters()).device))"
      ],
      "metadata": {
        "colab": {
          "base_uri": "https://localhost:8080/",
          "height": 523,
          "referenced_widgets": [
            "83b23a5e9c7f447a948d764a76848fd9",
            "faad571133f243ea8834eabd230a11b4",
            "d4808869c6d54ef0a2f463588e0c698f",
            "6f83f360826040db874ae9f549c2d370",
            "6f6033b634114c93844479cc82951cdc",
            "aaeb409ce5e64c59b7594cf881922563",
            "dfba1f4fb7934942aa47cc118d8276bb",
            "3d0535ace4b54be08072b305a1da47b5",
            "527218bba0054d14933471675057d19f",
            "0920fb7694c14d4db65c71c1b029c307",
            "f1d44bb011eb4750a38f7019f1513d48"
          ]
        },
        "id": "5F8jPDxf3aRG",
        "outputId": "437fe0f0-ac5e-4d44-af7e-a9ab73026ab8"
      },
      "execution_count": 106,
      "outputs": [
        {
          "output_type": "display_data",
          "data": {
            "text/plain": [
              "  0%|          | 0/3 [00:00<?, ?it/s]"
            ],
            "application/vnd.jupyter.widget-view+json": {
              "version_major": 2,
              "version_minor": 0,
              "model_id": "83b23a5e9c7f447a948d764a76848fd9"
            }
          },
          "metadata": {}
        },
        {
          "output_type": "stream",
          "name": "stdout",
          "text": [
            "Epoch: 0\n",
            "\n",
            "Looked at 0 / 60000 samples.\n",
            "Looked at 19200 / 60000 samples.\n",
            "Looked at 38400 / 60000 samples.\n",
            "Looked at 57600 / 60000 samples.\n",
            "\n",
            "Train loss: 0.5904 | Test acc: 79.17166666666667 | Test loss: 0.5095, Test acc: 82.0387%\n",
            "Epoch: 1\n",
            "\n",
            "Looked at 0 / 60000 samples.\n",
            "Looked at 19200 / 60000 samples.\n",
            "Looked at 38400 / 60000 samples.\n",
            "Looked at 57600 / 60000 samples.\n",
            "\n",
            "Train loss: 0.4763 | Test acc: 83.32 | Test loss: 0.4799, Test acc: 83.1969%\n",
            "Epoch: 2\n",
            "\n",
            "Looked at 0 / 60000 samples.\n",
            "Looked at 19200 / 60000 samples.\n",
            "Looked at 38400 / 60000 samples.\n",
            "Looked at 57600 / 60000 samples.\n",
            "\n",
            "Train loss: 0.4550 | Test acc: 84.05166666666666 | Test loss: 0.4766, Test acc: 83.4265%\n",
            "Train time on cpu: 45.475 seconds\n"
          ]
        }
      ]
    },
    {
      "cell_type": "code",
      "source": [
        "torch.manual_seed(42)\n",
        "def eval_mode(model: torch.nn.Module,\n",
        "              data_loader: torch.utils.data.DataLoader,\n",
        "              loss_fn: torch.nn.Module,\n",
        "              accuracy_fn\n",
        "              ):\n",
        "  loss,acc = 0,0\n",
        "  model.eval()\n",
        "  with torch.inference_mode():\n",
        "    for X,y in tqdm(data_loader):\n",
        "      y_pred = model(X)\n",
        "\n",
        "      loss += loss_fn(y_pred,y)\n",
        "      acc += accuracy_fn(y_true=y,y_pred=y_pred.argmax(dim=1))\n",
        "    loss /= len(data_loader)\n",
        "    acc /= len(data_loader)\n",
        "\n",
        "  return {\"model_name\": model.__class__.__name__,\n",
        "          \"model_loss\":loss,\n",
        "          \"model_acc\":acc}"
      ],
      "metadata": {
        "id": "tY5wFmX3AEOf"
      },
      "execution_count": 107,
      "outputs": []
    },
    {
      "cell_type": "code",
      "source": [
        "model_0_results = eval_mode(model=model_0,data_loader=test_dataloader,loss_fn=loss_fn,accuracy_fn=accuracy_fn)"
      ],
      "metadata": {
        "colab": {
          "base_uri": "https://localhost:8080/",
          "height": 49,
          "referenced_widgets": [
            "23df6ef3ef4a48c48b8f50ef64a2bde6",
            "88afddc655b44fe1a47e75d05e222836",
            "d29da2fc4d7c4d119c36f051f08090dd",
            "2a3df7a360014a998f518174211067d3",
            "7b3fe20ef49a431d82e0f5552139427d",
            "4bea601ef6cf4fc6b3dffbf4ba392965",
            "82f8c4a669524cefb9a0d0b1f2945730",
            "f9659905ed3c425da95fa7acdbef0253",
            "27351ec003f24baf826198d551c8bc3d",
            "933584d49c38431a9c4b4a069edb6d77",
            "c4aa6353bbf04a57bce18c39f0e2db0d"
          ]
        },
        "id": "cMRScIIwBIyt",
        "outputId": "9dbf54bb-e81d-4291-9b0e-a4482bee2769"
      },
      "execution_count": 108,
      "outputs": [
        {
          "output_type": "display_data",
          "data": {
            "text/plain": [
              "  0%|          | 0/313 [00:00<?, ?it/s]"
            ],
            "application/vnd.jupyter.widget-view+json": {
              "version_major": 2,
              "version_minor": 0,
              "model_id": "23df6ef3ef4a48c48b8f50ef64a2bde6"
            }
          },
          "metadata": {}
        }
      ]
    },
    {
      "cell_type": "code",
      "source": [
        "model_0_results"
      ],
      "metadata": {
        "colab": {
          "base_uri": "https://localhost:8080/"
        },
        "id": "ZKWT5WzEBVAA",
        "outputId": "65c8dc60-145b-4306-a744-88a1a441da72"
      },
      "execution_count": 109,
      "outputs": [
        {
          "output_type": "execute_result",
          "data": {
            "text/plain": [
              "{'model_name': 'FashionMNISTModelV0',\n",
              " 'model_loss': tensor(0.4766),\n",
              " 'model_acc': 83.42651757188499}"
            ]
          },
          "metadata": {},
          "execution_count": 109
        }
      ]
    },
    {
      "cell_type": "markdown",
      "source": [
        "# Non-Linear Model"
      ],
      "metadata": {
        "id": "mlq731ULDB10"
      }
    },
    {
      "cell_type": "code",
      "source": [
        "class FashionMNISTModelV1(nn.Module):\n",
        "  def __init__(self,input_shape,hidden_shape,output_shape):\n",
        "    super().__init__()\n",
        "    self.layer = nn.Sequential(\n",
        "        nn.Flatten(), # Add Flatten layer here\n",
        "        nn.Linear(in_features=input_shape,out_features=hidden_shape),\n",
        "        nn.ReLU(),\n",
        "        nn.Linear(in_features=hidden_shape,out_features=output_shape)\n",
        "    )\n",
        "  def forward(self,x):\n",
        "    return self.layer(x)"
      ],
      "metadata": {
        "id": "faEvk6lcBsL7"
      },
      "execution_count": 110,
      "outputs": []
    },
    {
      "cell_type": "code",
      "source": [
        "model_1 = FashionMNISTModelV1(\n",
        "                              input_shape=784,\n",
        "                              hidden_shape=30,\n",
        "                              output_shape=len(class_names)\n",
        "                              )\n",
        "model_1"
      ],
      "metadata": {
        "colab": {
          "base_uri": "https://localhost:8080/"
        },
        "id": "K095Iv_cDunI",
        "outputId": "5cc54bf9-cc67-454d-f79f-9290a28fcf2d"
      },
      "execution_count": 111,
      "outputs": [
        {
          "output_type": "execute_result",
          "data": {
            "text/plain": [
              "FashionMNISTModelV1(\n",
              "  (layer): Sequential(\n",
              "    (0): Flatten(start_dim=1, end_dim=-1)\n",
              "    (1): Linear(in_features=784, out_features=30, bias=True)\n",
              "    (2): ReLU()\n",
              "    (3): Linear(in_features=30, out_features=10, bias=True)\n",
              "  )\n",
              ")"
            ]
          },
          "metadata": {},
          "execution_count": 111
        }
      ]
    },
    {
      "cell_type": "code",
      "source": [
        "loss_fn = nn.CrossEntropyLoss()\n",
        "\n",
        "optimizer = optim.SGD(model_1.parameters(),lr=0.1)\n"
      ],
      "metadata": {
        "id": "wi9DTd7aDxmD"
      },
      "execution_count": 112,
      "outputs": []
    },
    {
      "cell_type": "code",
      "source": [
        "torch.manual_seed(42)\n",
        "from tqdm.auto import tqdm\n",
        "epochs = 3\n",
        "\n",
        "for epoch in tqdm(range(epochs)):\n",
        "  print(f\"Epoch: {epoch}\")\n",
        "  train_loss, train_acc = 0,0\n",
        "  model_1.train()\n",
        "  for batch, (X,y) in enumerate(train_dataloader):\n",
        "    y_pred = model_1(X)\n",
        "    loss = loss_fn(y_pred,y)\n",
        "    train_loss += loss\n",
        "    train_acc += accuracy_fn(y_true=y,y_pred=y_pred.argmax(dim=1))\n",
        "\n",
        "    optimizer.zero_grad()\n",
        "\n",
        "    loss.backward()\n",
        "    optimizer.step()\n",
        "\n",
        "  train_loss /= len(train_dataloader)\n",
        "  train_acc /= len(train_dataloader)\n",
        "\n",
        "  model_1.eval()\n",
        "  with torch.inference_mode():\n",
        "    test_acc,test_loss = 0,0\n",
        "    for X_t,y_t in test_dataloader:\n",
        "      test_pred = model_1(X_t)\n",
        "      test_loss += loss_fn(test_pred,y_t)\n",
        "      test_acc += accuracy_fn(y_true=y_t,y_pred=test_pred.argmax(dim=1))\n",
        "    test_loss /= len(test_dataloader)\n",
        "    test_acc /= len(test_dataloader)\n",
        "  print(f\"\\nTrain loss: {train_loss:.4f} | Train acc: {train_acc} | Test loss: {test_loss:.4f}, Test acc: {test_acc:.4f}%\")"
      ],
      "metadata": {
        "colab": {
          "base_uri": "https://localhost:8080/",
          "height": 232,
          "referenced_widgets": [
            "c9d8a88645f6452785328fd34b941824",
            "2c27fd4cadcb4e81b984def31699b99b",
            "0be422edb95b4dfba2f98db715ff56a3",
            "6682113f62b546e7b4deaf4909dfe5c0",
            "2d82c140e87d4f4191e9b7f9b009937b",
            "69f5e791f84b4c03943593b837f4fd32",
            "fde29cf30a6e478e93c25ac21c1847ce",
            "fbdd00e7998e485ab278e33e7ed36817",
            "c943fecb1ea94fe1b1d1ce6f6c1c3e0d",
            "34d129d05267412cb284bff81dae5cff",
            "7dc44ddd5d7c4da4af03ecb0bc8af03e"
          ]
        },
        "id": "0VaELyPnGPx5",
        "outputId": "7e04f9bb-9aa4-479d-df64-8bd324d132c7"
      },
      "execution_count": 113,
      "outputs": [
        {
          "output_type": "display_data",
          "data": {
            "text/plain": [
              "  0%|          | 0/3 [00:00<?, ?it/s]"
            ],
            "application/vnd.jupyter.widget-view+json": {
              "version_major": 2,
              "version_minor": 0,
              "model_id": "c9d8a88645f6452785328fd34b941824"
            }
          },
          "metadata": {}
        },
        {
          "output_type": "stream",
          "name": "stdout",
          "text": [
            "Epoch: 0\n",
            "\n",
            "Train loss: 0.5739 | Train acc: 79.51666666666667 | Test loss: 0.4650, Test acc: 83.1769%\n",
            "Epoch: 1\n",
            "\n",
            "Train loss: 0.4236 | Train acc: 84.685 | Test loss: 0.4298, Test acc: 84.7943%\n",
            "Epoch: 2\n",
            "\n",
            "Train loss: 0.3917 | Train acc: 85.74333333333334 | Test loss: 0.4075, Test acc: 85.2935%\n"
          ]
        }
      ]
    },
    {
      "cell_type": "code",
      "source": [
        "model_1_results = eval_mode(model=model_1,\n",
        "                            data_loader=test_dataloader,\n",
        "                            loss_fn=loss_fn,\n",
        "                            accuracy_fn=accuracy_fn\n",
        "                            )"
      ],
      "metadata": {
        "colab": {
          "base_uri": "https://localhost:8080/",
          "height": 49,
          "referenced_widgets": [
            "5d847b45b6ef469581bf049b881f06d4",
            "08c62a990c1d42098e58518cb53aff01",
            "326e7fd8d3134591975cd75c59f21e6c",
            "f149083bc224472d8cbcbfda5e3c02e9",
            "2613b6f9965c459a9f93ba2221625ed7",
            "0794cf44fd7a4f0c8309e3e29f64f65c",
            "ba186353d6a54f10908d7220f582648c",
            "de44af95a33e4183adb8f50d02f92801",
            "821f79447ca3482a9bea7b0fce08275c",
            "6066f52cd5c74edebef1cbe5b10da652",
            "983ab85724124a1087f31679f61965a2"
          ]
        },
        "id": "awdqDhzeHt5J",
        "outputId": "de0d2f93-93d1-40f3-b26a-a6a83732dea6"
      },
      "execution_count": 114,
      "outputs": [
        {
          "output_type": "display_data",
          "data": {
            "text/plain": [
              "  0%|          | 0/313 [00:00<?, ?it/s]"
            ],
            "application/vnd.jupyter.widget-view+json": {
              "version_major": 2,
              "version_minor": 0,
              "model_id": "5d847b45b6ef469581bf049b881f06d4"
            }
          },
          "metadata": {}
        }
      ]
    },
    {
      "cell_type": "code",
      "source": [
        "model_0_results,\"=\"*35,model_1_results"
      ],
      "metadata": {
        "colab": {
          "base_uri": "https://localhost:8080/"
        },
        "id": "_-GmSRzpMgq_",
        "outputId": "9d257de9-b5d2-4206-a84c-4d4982f6eef4"
      },
      "execution_count": 115,
      "outputs": [
        {
          "output_type": "execute_result",
          "data": {
            "text/plain": [
              "({'model_name': 'FashionMNISTModelV0',\n",
              "  'model_loss': tensor(0.4766),\n",
              "  'model_acc': 83.42651757188499},\n",
              " '===================================',\n",
              " {'model_name': 'FashionMNISTModelV1',\n",
              "  'model_loss': tensor(0.4075),\n",
              "  'model_acc': 85.2935303514377})"
            ]
          },
          "metadata": {},
          "execution_count": 115
        }
      ]
    },
    {
      "cell_type": "markdown",
      "source": [
        "# Convolutional Neural Network"
      ],
      "metadata": {
        "id": "-NudH3dhTla0"
      }
    },
    {
      "cell_type": "code",
      "source": [
        "class FashionMNISTModelV2(nn.Module):\n",
        "  def __init__(self,input_shape:int,\n",
        "               hidden_shape:int,\n",
        "               output_shape:int):\n",
        "    super().__init__()\n",
        "    self.cnn_1 = nn.Sequential(\n",
        "        nn.Conv2d(in_channels=input_shape,\n",
        "                  out_channels=hidden_shape,\n",
        "                  kernel_size=3,\n",
        "                  stride=1,\n",
        "                  padding=1\n",
        "                ),\n",
        "        nn.ReLU(),\n",
        "        nn.Conv2d(in_channels=hidden_shape,\n",
        "                  out_channels=hidden_shape,\n",
        "                  kernel_size=3,\n",
        "                  stride=1,\n",
        "                  padding=1\n",
        "                  ),\n",
        "        nn.ReLU(),\n",
        "        nn.MaxPool2d(kernel_size=2)\n",
        "    )\n",
        "    self.cnn_2 = nn.Sequential(\n",
        "        nn.Conv2d(in_channels=hidden_shape,\n",
        "                  out_channels=hidden_shape,\n",
        "                  kernel_size=3,\n",
        "                  stride=1,\n",
        "                  padding=1\n",
        "                ),\n",
        "        nn.ReLU(),\n",
        "        nn.Conv2d(in_channels=hidden_shape,\n",
        "                  out_channels=hidden_shape,\n",
        "                  kernel_size=3,\n",
        "                  stride=1,\n",
        "                  padding=1\n",
        "                  ),\n",
        "        nn.ReLU(),\n",
        "        nn.MaxPool2d(kernel_size=2)\n",
        "    )\n",
        "    self.classifier = nn.Sequential(\n",
        "        nn.Flatten(),\n",
        "        nn.Linear(in_features=hidden_shape*49,\n",
        "                  out_features=output_shape\n",
        "                  )\n",
        "    )\n",
        "\n",
        "  def forward(self,x):\n",
        "    x = self.cnn_1(x)\n",
        "    # print(f\"Output shape of cnn layer 1: {x.shape}\")\n",
        "    x = self.cnn_2(x)\n",
        "    # print(f\"Output shape of cnn layer 1: {x.shape}\")\n",
        "    x = self.classifier(x)\n",
        "    # print(f\"Output shape of classifier: {x.shape}\")\n",
        "    return x"
      ],
      "metadata": {
        "id": "udjycHfFMoqm"
      },
      "execution_count": 177,
      "outputs": []
    },
    {
      "cell_type": "code",
      "source": [
        "torch.manual_seed(42)\n",
        "model_2 = FashionMNISTModelV2(input_shape=1, # gray images\n",
        "                              hidden_shape=10,\n",
        "                              output_shape=len(class_names)\n",
        "                              )\n",
        "model_2"
      ],
      "metadata": {
        "colab": {
          "base_uri": "https://localhost:8080/"
        },
        "id": "0XkGlK82WIf5",
        "outputId": "90ef66d5-d97b-4dc9-9522-7abf6dd1b450"
      },
      "execution_count": 178,
      "outputs": [
        {
          "output_type": "execute_result",
          "data": {
            "text/plain": [
              "FashionMNISTModelV2(\n",
              "  (cnn_1): Sequential(\n",
              "    (0): Conv2d(1, 10, kernel_size=(3, 3), stride=(1, 1), padding=(1, 1))\n",
              "    (1): ReLU()\n",
              "    (2): Conv2d(10, 10, kernel_size=(3, 3), stride=(1, 1), padding=(1, 1))\n",
              "    (3): ReLU()\n",
              "    (4): MaxPool2d(kernel_size=2, stride=2, padding=0, dilation=1, ceil_mode=False)\n",
              "  )\n",
              "  (cnn_2): Sequential(\n",
              "    (0): Conv2d(10, 10, kernel_size=(3, 3), stride=(1, 1), padding=(1, 1))\n",
              "    (1): ReLU()\n",
              "    (2): Conv2d(10, 10, kernel_size=(3, 3), stride=(1, 1), padding=(1, 1))\n",
              "    (3): ReLU()\n",
              "    (4): MaxPool2d(kernel_size=2, stride=2, padding=0, dilation=1, ceil_mode=False)\n",
              "  )\n",
              "  (classifier): Sequential(\n",
              "    (0): Flatten(start_dim=1, end_dim=-1)\n",
              "    (1): Linear(in_features=490, out_features=10, bias=True)\n",
              "  )\n",
              ")"
            ]
          },
          "metadata": {},
          "execution_count": 178
        }
      ]
    },
    {
      "cell_type": "code",
      "source": [
        "model_2(image.unsqueeze(dim=0))"
      ],
      "metadata": {
        "colab": {
          "base_uri": "https://localhost:8080/"
        },
        "id": "d6Ii94bXXF3E",
        "outputId": "c697be13-6e38-4229-ec79-4a2b3fb38d6b"
      },
      "execution_count": 179,
      "outputs": [
        {
          "output_type": "execute_result",
          "data": {
            "text/plain": [
              "tensor([[ 0.0246, -0.0644,  0.0551, -0.0360, -0.0139,  0.0113, -0.0014, -0.0075,\n",
              "          0.0213,  0.0076]], grad_fn=<AddmmBackward0>)"
            ]
          },
          "metadata": {},
          "execution_count": 179
        }
      ]
    },
    {
      "cell_type": "code",
      "source": [
        "loss_fn = nn.CrossEntropyLoss()\n",
        "\n",
        "optimizer = optim.SGD(model_2.parameters(),lr=0.1)"
      ],
      "metadata": {
        "id": "6JR7lZ3I77tY"
      },
      "execution_count": 180,
      "outputs": []
    },
    {
      "cell_type": "code",
      "source": [
        "def train_step(model: torch.nn.Module,\n",
        "               data_loader: torch.utils.data.DataLoader,\n",
        "               loss_fn: torch.nn.Module,\n",
        "               optimizer: torch.optim.Optimizer,\n",
        "               accuracy_fn\n",
        "               ):\n",
        "  train_loss, train_acc = 0,0\n",
        "\n",
        "  model.train()\n",
        "\n",
        "  for batch, (X,y) in enumerate(data_loader):\n",
        "\n",
        "    y_pred = model(X)\n",
        "    loss = loss_fn(y_pred,y)\n",
        "    train_loss += loss\n",
        "    train_acc += accuracy_fn(y_true=y,y_pred=y_pred.argmax(dim=1))\n",
        "\n",
        "    optimizer.zero_grad()\n",
        "\n",
        "    loss.backward()\n",
        "    optimizer.step()\n",
        "\n",
        "  train_loss /= len(data_loader)\n",
        "  train_acc /= len(data_loader)\n",
        "  print(f\"Train Loss: {train_loss:.5f} | Train acc: {train_acc:.2f}%\")\n",
        "\n",
        "def test_step(model: torch.nn.Module,\n",
        "              data_loader: torch.utils.data.DataLoader,\n",
        "              loss_fn: torch.nn.Module,\n",
        "              accuracy_fn\n",
        "              ):\n",
        "  model_1.eval()\n",
        "  test_acc,test_loss = 0,0\n",
        "  with torch.inference_mode():\n",
        "    for X_t,y_t in data_loader:\n",
        "      test_pred = model(X_t)\n",
        "      test_loss += loss_fn(test_pred,y_t)\n",
        "      test_acc += accuracy_fn(y_true=y_t,y_pred=test_pred.argmax(dim=1))\n",
        "    test_loss /= len(data_loader)\n",
        "    test_acc /= len(data_loader)\n",
        "  print(f\"Train Loss: {test_loss:.5f} | Train acc: {test_acc:.2f}%\")"
      ],
      "metadata": {
        "id": "6Cy9Itd492zj"
      },
      "execution_count": 181,
      "outputs": []
    },
    {
      "cell_type": "code",
      "source": [
        "torch.manual_seed(42)\n",
        "\n",
        "from timeit import default_timer as timer\n",
        "# def print_train_time(start: float,\n",
        "#                      end: float,\n",
        "#                      device: torch.device):\n",
        "#   total_time = end - start\n",
        "#   print(f\"Train time on {device}: {total_time:.3f} seconds\")\n",
        "#   return total_time\n",
        "train_epoch_start_model_2 = timer()\n",
        "epochs = 3\n",
        "for epoch in tqdm(range(epochs)):\n",
        "  print(f\"Epoch: {epoch}\")\n",
        "  train_step(model=model_2,\n",
        "             data_loader=train_dataloader,\n",
        "             loss_fn=loss_fn,\n",
        "             accuracy_fn=accuracy_fn,\n",
        "             optimizer=optimizer\n",
        "             )\n",
        "  test_step(model=model_2,\n",
        "            data_loader=test_dataloader,\n",
        "            accuracy_fn=accuracy_fn,\n",
        "            loss_fn=loss_fn\n",
        "            )\n",
        "train_epoch_end_model_2 = timer()\n",
        "total_train_time_model_2 = print_train_time(start=train_epoch_start_model_2,end=train_epoch_end_model_2,device=str(next(model_2.parameters()).device))"
      ],
      "metadata": {
        "colab": {
          "base_uri": "https://localhost:8080/",
          "height": 231,
          "referenced_widgets": [
            "f4b87acbb08a4a68b39379f4766dca49",
            "12b830378d964f8487b1c7e03159b3b1",
            "f5def7bc583643f3b038517cc8ba3227",
            "837cc38004734de19097ef50ea35a642",
            "c059561e5d994a558c911cc9acf485d7",
            "3a2d4e54540f47ef9f23dba2ce11bbb1",
            "f1aed0c7b1dc4603ad120b2541699e16",
            "48c5a54bcccb4823ade2e44563891bb1",
            "d7e84d5d01c4445d9e57aff5becc1bb7",
            "ecef8c4ccbfb42659d846b0af179b917",
            "351274575db740f99328162901a2e07d"
          ]
        },
        "id": "nMiEDOrUA9Q3",
        "outputId": "9682cc66-64f6-453c-bce7-f76f5d95e278"
      },
      "execution_count": 182,
      "outputs": [
        {
          "output_type": "display_data",
          "data": {
            "text/plain": [
              "  0%|          | 0/3 [00:00<?, ?it/s]"
            ],
            "application/vnd.jupyter.widget-view+json": {
              "version_major": 2,
              "version_minor": 0,
              "model_id": "f4b87acbb08a4a68b39379f4766dca49"
            }
          },
          "metadata": {}
        },
        {
          "output_type": "stream",
          "name": "stdout",
          "text": [
            "Epoch: 0\n",
            "Train Loss: 0.59518 | Train acc: 78.38%\n",
            "Train Loss: 0.39500 | Train acc: 85.99%\n",
            "Epoch: 1\n",
            "Train Loss: 0.36536 | Train acc: 86.90%\n",
            "Train Loss: 0.35244 | Train acc: 86.91%\n",
            "Epoch: 2\n",
            "Train Loss: 0.32588 | Train acc: 88.13%\n",
            "Train Loss: 0.32719 | Train acc: 88.07%\n",
            "Train time on cpu: 245.314 seconds\n"
          ]
        }
      ]
    },
    {
      "cell_type": "code",
      "source": [
        "model_2_results = eval_mode(model=model_2,data_loader=test_dataloader,loss_fn=loss_fn,accuracy_fn=accuracy_fn)"
      ],
      "metadata": {
        "colab": {
          "base_uri": "https://localhost:8080/",
          "height": 49,
          "referenced_widgets": [
            "a0e1e877cb584529a8d2e0f8a22d5b69",
            "4826ff3699944bfbb2d90a53c89c6a2a",
            "f4898028ee59425fb0f5535f05f5f9ef",
            "38fa866e49ef4278a59b32edff99d49d",
            "d51e3fa9041743de8a63e506e501db8a",
            "10106d6779b14d2ba6512b45f6e4f795",
            "cdffb0edafcd46e6bce118864bdee523",
            "a9fcefa29b55465f8dc99621efa4673c",
            "04605ee647274ee3a3a955cc7d03be4b",
            "8e04fae4082f4de486b2b1ac157764f1",
            "5362b4edb818421f9a3d171e8526e695"
          ]
        },
        "id": "eo_WHbICC01Q",
        "outputId": "ed074457-08b6-4896-c891-0c2aa4d01c34"
      },
      "execution_count": 122,
      "outputs": [
        {
          "output_type": "display_data",
          "data": {
            "text/plain": [
              "  0%|          | 0/313 [00:00<?, ?it/s]"
            ],
            "application/vnd.jupyter.widget-view+json": {
              "version_major": 2,
              "version_minor": 0,
              "model_id": "a0e1e877cb584529a8d2e0f8a22d5b69"
            }
          },
          "metadata": {}
        }
      ]
    },
    {
      "cell_type": "code",
      "source": [
        "model_0_results,\"=\"*35,model_1_results,\"=\"*35,model_2_results"
      ],
      "metadata": {
        "colab": {
          "base_uri": "https://localhost:8080/"
        },
        "id": "-1fDwhLKEafk",
        "outputId": "0af9727c-d52f-4a7b-a961-22ea7880d988"
      },
      "execution_count": 123,
      "outputs": [
        {
          "output_type": "execute_result",
          "data": {
            "text/plain": [
              "({'model_name': 'FashionMNISTModelV0',\n",
              "  'model_loss': tensor(0.4766),\n",
              "  'model_acc': 83.42651757188499},\n",
              " '===================================',\n",
              " {'model_name': 'FashionMNISTModelV1',\n",
              "  'model_loss': tensor(0.4075),\n",
              "  'model_acc': 85.2935303514377},\n",
              " '===================================',\n",
              " {'model_name': 'FashionMNISTModelV2',\n",
              "  'model_loss': tensor(0.3272),\n",
              "  'model_acc': 88.06908945686901})"
            ]
          },
          "metadata": {},
          "execution_count": 123
        }
      ]
    },
    {
      "cell_type": "code",
      "source": [
        "import pandas as pd\n",
        "\n",
        "compare_results = pd.DataFrame([model_0_results,\n",
        "                                model_1_results,\n",
        "                                model_2_results])\n",
        "compare_results"
      ],
      "metadata": {
        "colab": {
          "base_uri": "https://localhost:8080/",
          "height": 143
        },
        "id": "XFfiLkbwEb2g",
        "outputId": "8dd797bd-9021-4064-c7b7-172eec123ff6"
      },
      "execution_count": 124,
      "outputs": [
        {
          "output_type": "execute_result",
          "data": {
            "text/plain": [
              "            model_name      model_loss  model_acc\n",
              "0  FashionMNISTModelV0  tensor(0.4766)  83.426518\n",
              "1  FashionMNISTModelV1  tensor(0.4075)  85.293530\n",
              "2  FashionMNISTModelV2  tensor(0.3272)  88.069089"
            ],
            "text/html": [
              "\n",
              "  <div id=\"df-c2e2a012-8075-40f2-89be-fbfdb4127786\" class=\"colab-df-container\">\n",
              "    <div>\n",
              "<style scoped>\n",
              "    .dataframe tbody tr th:only-of-type {\n",
              "        vertical-align: middle;\n",
              "    }\n",
              "\n",
              "    .dataframe tbody tr th {\n",
              "        vertical-align: top;\n",
              "    }\n",
              "\n",
              "    .dataframe thead th {\n",
              "        text-align: right;\n",
              "    }\n",
              "</style>\n",
              "<table border=\"1\" class=\"dataframe\">\n",
              "  <thead>\n",
              "    <tr style=\"text-align: right;\">\n",
              "      <th></th>\n",
              "      <th>model_name</th>\n",
              "      <th>model_loss</th>\n",
              "      <th>model_acc</th>\n",
              "    </tr>\n",
              "  </thead>\n",
              "  <tbody>\n",
              "    <tr>\n",
              "      <th>0</th>\n",
              "      <td>FashionMNISTModelV0</td>\n",
              "      <td>tensor(0.4766)</td>\n",
              "      <td>83.426518</td>\n",
              "    </tr>\n",
              "    <tr>\n",
              "      <th>1</th>\n",
              "      <td>FashionMNISTModelV1</td>\n",
              "      <td>tensor(0.4075)</td>\n",
              "      <td>85.293530</td>\n",
              "    </tr>\n",
              "    <tr>\n",
              "      <th>2</th>\n",
              "      <td>FashionMNISTModelV2</td>\n",
              "      <td>tensor(0.3272)</td>\n",
              "      <td>88.069089</td>\n",
              "    </tr>\n",
              "  </tbody>\n",
              "</table>\n",
              "</div>\n",
              "    <div class=\"colab-df-buttons\">\n",
              "\n",
              "  <div class=\"colab-df-container\">\n",
              "    <button class=\"colab-df-convert\" onclick=\"convertToInteractive('df-c2e2a012-8075-40f2-89be-fbfdb4127786')\"\n",
              "            title=\"Convert this dataframe to an interactive table.\"\n",
              "            style=\"display:none;\">\n",
              "\n",
              "  <svg xmlns=\"http://www.w3.org/2000/svg\" height=\"24px\" viewBox=\"0 -960 960 960\">\n",
              "    <path d=\"M120-120v-720h720v720H120Zm60-500h600v-160H180v160Zm220 220h160v-160H400v160Zm0 220h160v-160H400v160ZM180-400h160v-160H180v160Zm440 0h160v-160H620v160ZM180-180h160v-160H180v160Zm440 0h160v-160H620v160Z\"/>\n",
              "  </svg>\n",
              "    </button>\n",
              "\n",
              "  <style>\n",
              "    .colab-df-container {\n",
              "      display:flex;\n",
              "      gap: 12px;\n",
              "    }\n",
              "\n",
              "    .colab-df-convert {\n",
              "      background-color: #E8F0FE;\n",
              "      border: none;\n",
              "      border-radius: 50%;\n",
              "      cursor: pointer;\n",
              "      display: none;\n",
              "      fill: #1967D2;\n",
              "      height: 32px;\n",
              "      padding: 0 0 0 0;\n",
              "      width: 32px;\n",
              "    }\n",
              "\n",
              "    .colab-df-convert:hover {\n",
              "      background-color: #E2EBFA;\n",
              "      box-shadow: 0px 1px 2px rgba(60, 64, 67, 0.3), 0px 1px 3px 1px rgba(60, 64, 67, 0.15);\n",
              "      fill: #174EA6;\n",
              "    }\n",
              "\n",
              "    .colab-df-buttons div {\n",
              "      margin-bottom: 4px;\n",
              "    }\n",
              "\n",
              "    [theme=dark] .colab-df-convert {\n",
              "      background-color: #3B4455;\n",
              "      fill: #D2E3FC;\n",
              "    }\n",
              "\n",
              "    [theme=dark] .colab-df-convert:hover {\n",
              "      background-color: #434B5C;\n",
              "      box-shadow: 0px 1px 3px 1px rgba(0, 0, 0, 0.15);\n",
              "      filter: drop-shadow(0px 1px 2px rgba(0, 0, 0, 0.3));\n",
              "      fill: #FFFFFF;\n",
              "    }\n",
              "  </style>\n",
              "\n",
              "    <script>\n",
              "      const buttonEl =\n",
              "        document.querySelector('#df-c2e2a012-8075-40f2-89be-fbfdb4127786 button.colab-df-convert');\n",
              "      buttonEl.style.display =\n",
              "        google.colab.kernel.accessAllowed ? 'block' : 'none';\n",
              "\n",
              "      async function convertToInteractive(key) {\n",
              "        const element = document.querySelector('#df-c2e2a012-8075-40f2-89be-fbfdb4127786');\n",
              "        const dataTable =\n",
              "          await google.colab.kernel.invokeFunction('convertToInteractive',\n",
              "                                                    [key], {});\n",
              "        if (!dataTable) return;\n",
              "\n",
              "        const docLinkHtml = 'Like what you see? Visit the ' +\n",
              "          '<a target=\"_blank\" href=https://colab.research.google.com/notebooks/data_table.ipynb>data table notebook</a>'\n",
              "          + ' to learn more about interactive tables.';\n",
              "        element.innerHTML = '';\n",
              "        dataTable['output_type'] = 'display_data';\n",
              "        await google.colab.output.renderOutput(dataTable, element);\n",
              "        const docLink = document.createElement('div');\n",
              "        docLink.innerHTML = docLinkHtml;\n",
              "        element.appendChild(docLink);\n",
              "      }\n",
              "    </script>\n",
              "  </div>\n",
              "\n",
              "\n",
              "    <div id=\"df-72406b0b-6947-4f89-9d40-b59b13e74bcb\">\n",
              "      <button class=\"colab-df-quickchart\" onclick=\"quickchart('df-72406b0b-6947-4f89-9d40-b59b13e74bcb')\"\n",
              "                title=\"Suggest charts\"\n",
              "                style=\"display:none;\">\n",
              "\n",
              "<svg xmlns=\"http://www.w3.org/2000/svg\" height=\"24px\"viewBox=\"0 0 24 24\"\n",
              "     width=\"24px\">\n",
              "    <g>\n",
              "        <path d=\"M19 3H5c-1.1 0-2 .9-2 2v14c0 1.1.9 2 2 2h14c1.1 0 2-.9 2-2V5c0-1.1-.9-2-2-2zM9 17H7v-7h2v7zm4 0h-2V7h2v10zm4 0h-2v-4h2v4z\"/>\n",
              "    </g>\n",
              "</svg>\n",
              "      </button>\n",
              "\n",
              "<style>\n",
              "  .colab-df-quickchart {\n",
              "      --bg-color: #E8F0FE;\n",
              "      --fill-color: #1967D2;\n",
              "      --hover-bg-color: #E2EBFA;\n",
              "      --hover-fill-color: #174EA6;\n",
              "      --disabled-fill-color: #AAA;\n",
              "      --disabled-bg-color: #DDD;\n",
              "  }\n",
              "\n",
              "  [theme=dark] .colab-df-quickchart {\n",
              "      --bg-color: #3B4455;\n",
              "      --fill-color: #D2E3FC;\n",
              "      --hover-bg-color: #434B5C;\n",
              "      --hover-fill-color: #FFFFFF;\n",
              "      --disabled-bg-color: #3B4455;\n",
              "      --disabled-fill-color: #666;\n",
              "  }\n",
              "\n",
              "  .colab-df-quickchart {\n",
              "    background-color: var(--bg-color);\n",
              "    border: none;\n",
              "    border-radius: 50%;\n",
              "    cursor: pointer;\n",
              "    display: none;\n",
              "    fill: var(--fill-color);\n",
              "    height: 32px;\n",
              "    padding: 0;\n",
              "    width: 32px;\n",
              "  }\n",
              "\n",
              "  .colab-df-quickchart:hover {\n",
              "    background-color: var(--hover-bg-color);\n",
              "    box-shadow: 0 1px 2px rgba(60, 64, 67, 0.3), 0 1px 3px 1px rgba(60, 64, 67, 0.15);\n",
              "    fill: var(--button-hover-fill-color);\n",
              "  }\n",
              "\n",
              "  .colab-df-quickchart-complete:disabled,\n",
              "  .colab-df-quickchart-complete:disabled:hover {\n",
              "    background-color: var(--disabled-bg-color);\n",
              "    fill: var(--disabled-fill-color);\n",
              "    box-shadow: none;\n",
              "  }\n",
              "\n",
              "  .colab-df-spinner {\n",
              "    border: 2px solid var(--fill-color);\n",
              "    border-color: transparent;\n",
              "    border-bottom-color: var(--fill-color);\n",
              "    animation:\n",
              "      spin 1s steps(1) infinite;\n",
              "  }\n",
              "\n",
              "  @keyframes spin {\n",
              "    0% {\n",
              "      border-color: transparent;\n",
              "      border-bottom-color: var(--fill-color);\n",
              "      border-left-color: var(--fill-color);\n",
              "    }\n",
              "    20% {\n",
              "      border-color: transparent;\n",
              "      border-left-color: var(--fill-color);\n",
              "      border-top-color: var(--fill-color);\n",
              "    }\n",
              "    30% {\n",
              "      border-color: transparent;\n",
              "      border-left-color: var(--fill-color);\n",
              "      border-top-color: var(--fill-color);\n",
              "      border-right-color: var(--fill-color);\n",
              "    }\n",
              "    40% {\n",
              "      border-color: transparent;\n",
              "      border-right-color: var(--fill-color);\n",
              "      border-top-color: var(--fill-color);\n",
              "    }\n",
              "    60% {\n",
              "      border-color: transparent;\n",
              "      border-right-color: var(--fill-color);\n",
              "    }\n",
              "    80% {\n",
              "      border-color: transparent;\n",
              "      border-right-color: var(--fill-color);\n",
              "      border-bottom-color: var(--fill-color);\n",
              "    }\n",
              "    90% {\n",
              "      border-color: transparent;\n",
              "      border-bottom-color: var(--fill-color);\n",
              "    }\n",
              "  }\n",
              "</style>\n",
              "\n",
              "      <script>\n",
              "        async function quickchart(key) {\n",
              "          const quickchartButtonEl =\n",
              "            document.querySelector('#' + key + ' button');\n",
              "          quickchartButtonEl.disabled = true;  // To prevent multiple clicks.\n",
              "          quickchartButtonEl.classList.add('colab-df-spinner');\n",
              "          try {\n",
              "            const charts = await google.colab.kernel.invokeFunction(\n",
              "                'suggestCharts', [key], {});\n",
              "          } catch (error) {\n",
              "            console.error('Error during call to suggestCharts:', error);\n",
              "          }\n",
              "          quickchartButtonEl.classList.remove('colab-df-spinner');\n",
              "          quickchartButtonEl.classList.add('colab-df-quickchart-complete');\n",
              "        }\n",
              "        (() => {\n",
              "          let quickchartButtonEl =\n",
              "            document.querySelector('#df-72406b0b-6947-4f89-9d40-b59b13e74bcb button');\n",
              "          quickchartButtonEl.style.display =\n",
              "            google.colab.kernel.accessAllowed ? 'block' : 'none';\n",
              "        })();\n",
              "      </script>\n",
              "    </div>\n",
              "\n",
              "  <div id=\"id_d5986078-08db-40e6-8b1c-d73e115a819d\">\n",
              "    <style>\n",
              "      .colab-df-generate {\n",
              "        background-color: #E8F0FE;\n",
              "        border: none;\n",
              "        border-radius: 50%;\n",
              "        cursor: pointer;\n",
              "        display: none;\n",
              "        fill: #1967D2;\n",
              "        height: 32px;\n",
              "        padding: 0 0 0 0;\n",
              "        width: 32px;\n",
              "      }\n",
              "\n",
              "      .colab-df-generate:hover {\n",
              "        background-color: #E2EBFA;\n",
              "        box-shadow: 0px 1px 2px rgba(60, 64, 67, 0.3), 0px 1px 3px 1px rgba(60, 64, 67, 0.15);\n",
              "        fill: #174EA6;\n",
              "      }\n",
              "\n",
              "      [theme=dark] .colab-df-generate {\n",
              "        background-color: #3B4455;\n",
              "        fill: #D2E3FC;\n",
              "      }\n",
              "\n",
              "      [theme=dark] .colab-df-generate:hover {\n",
              "        background-color: #434B5C;\n",
              "        box-shadow: 0px 1px 3px 1px rgba(0, 0, 0, 0.15);\n",
              "        filter: drop-shadow(0px 1px 2px rgba(0, 0, 0, 0.3));\n",
              "        fill: #FFFFFF;\n",
              "      }\n",
              "    </style>\n",
              "    <button class=\"colab-df-generate\" onclick=\"generateWithVariable('compare_results')\"\n",
              "            title=\"Generate code using this dataframe.\"\n",
              "            style=\"display:none;\">\n",
              "\n",
              "  <svg xmlns=\"http://www.w3.org/2000/svg\" height=\"24px\"viewBox=\"0 0 24 24\"\n",
              "       width=\"24px\">\n",
              "    <path d=\"M7,19H8.4L18.45,9,17,7.55,7,17.6ZM5,21V16.75L18.45,3.32a2,2,0,0,1,2.83,0l1.4,1.43a1.91,1.91,0,0,1,.58,1.4,1.91,1.91,0,0,1-.58,1.4L9.25,21ZM18.45,9,17,7.55Zm-12,3A5.31,5.31,0,0,0,4.9,8.1,5.31,5.31,0,0,0,1,6.5,5.31,5.31,0,0,0,4.9,4.9,5.31,5.31,0,0,0,6.5,1,5.31,5.31,0,0,0,8.1,4.9,5.31,5.31,0,0,0,12,6.5,5.46,5.46,0,0,0,6.5,12Z\"/>\n",
              "  </svg>\n",
              "    </button>\n",
              "    <script>\n",
              "      (() => {\n",
              "      const buttonEl =\n",
              "        document.querySelector('#id_d5986078-08db-40e6-8b1c-d73e115a819d button.colab-df-generate');\n",
              "      buttonEl.style.display =\n",
              "        google.colab.kernel.accessAllowed ? 'block' : 'none';\n",
              "\n",
              "      buttonEl.onclick = () => {\n",
              "        google.colab.notebook.generateWithVariable('compare_results');\n",
              "      }\n",
              "      })();\n",
              "    </script>\n",
              "  </div>\n",
              "\n",
              "    </div>\n",
              "  </div>\n"
            ],
            "application/vnd.google.colaboratory.intrinsic+json": {
              "type": "dataframe",
              "variable_name": "compare_results",
              "summary": "{\n  \"name\": \"compare_results\",\n  \"rows\": 3,\n  \"fields\": [\n    {\n      \"column\": \"model_name\",\n      \"properties\": {\n        \"dtype\": \"string\",\n        \"num_unique_values\": 3,\n        \"samples\": [\n          \"FashionMNISTModelV0\",\n          \"FashionMNISTModelV1\",\n          \"FashionMNISTModelV2\"\n        ],\n        \"semantic_type\": \"\",\n        \"description\": \"\"\n      }\n    },\n    {\n      \"column\": \"model_loss\",\n      \"properties\": {\n        \"dtype\": \"string\",\n        \"num_unique_values\": 3,\n        \"samples\": [\n          \"tensor(0.4766)\",\n          \"tensor(0.4075)\",\n          \"tensor(0.3272)\"\n        ],\n        \"semantic_type\": \"\",\n        \"description\": \"\"\n      }\n    },\n    {\n      \"column\": \"model_acc\",\n      \"properties\": {\n        \"dtype\": \"number\",\n        \"std\": 2.3360557489780325,\n        \"min\": 83.42651757188499,\n        \"max\": 88.06908945686901,\n        \"num_unique_values\": 3,\n        \"samples\": [\n          83.42651757188499,\n          85.2935303514377,\n          88.06908945686901\n        ],\n        \"semantic_type\": \"\",\n        \"description\": \"\"\n      }\n    }\n  ]\n}"
            }
          },
          "metadata": {},
          "execution_count": 124
        }
      ]
    },
    {
      "cell_type": "code",
      "source": [
        "def make_predictions(model:torch.nn.Module,\n",
        "                     data: list):\n",
        "  pred_probs = []\n",
        "  model.eval()\n",
        "  with torch.inference_mode():\n",
        "    for sample in data:\n",
        "      sample = torch.unsqueeze(sample,dim=0)\n",
        "      pred_logit = model_2(sample)\n",
        "      pred_prob = torch.softmax(pred_logit.squeeze(),dim=0)\n",
        "\n",
        "      pred_probs.append(pred_prob)\n",
        "  return torch.stack(pred_probs)"
      ],
      "metadata": {
        "id": "ZGEkMdugEywP"
      },
      "execution_count": 125,
      "outputs": []
    },
    {
      "cell_type": "code",
      "source": [
        "import random\n",
        "random.seed(42)\n",
        "test_samples = []\n",
        "test_labels = []\n",
        "\n",
        "for sample, label in random.sample(list(test_data),k=9):\n",
        "  test_samples.append(sample)\n",
        "  test_labels.append(label)\n",
        "\n",
        "test_samples[0].shape"
      ],
      "metadata": {
        "colab": {
          "base_uri": "https://localhost:8080/"
        },
        "id": "K-66D5gMIs6K",
        "outputId": "87a46b92-8cfd-4b7a-9688-c388f1302383"
      },
      "execution_count": 127,
      "outputs": [
        {
          "output_type": "execute_result",
          "data": {
            "text/plain": [
              "torch.Size([1, 28, 28])"
            ]
          },
          "metadata": {},
          "execution_count": 127
        }
      ]
    },
    {
      "cell_type": "code",
      "source": [
        "plt.imshow(test_samples[0].squeeze(), cmap=\"gray\")\n",
        "plt.title(class_names[test_labels[0]])"
      ],
      "metadata": {
        "colab": {
          "base_uri": "https://localhost:8080/",
          "height": 470
        },
        "id": "mN8AWpXuJFaq",
        "outputId": "500981b9-6144-44a5-e5be-8aa1b5c87d1f"
      },
      "execution_count": 133,
      "outputs": [
        {
          "output_type": "execute_result",
          "data": {
            "text/plain": [
              "Text(0.5, 1.0, 'Sandal')"
            ]
          },
          "metadata": {},
          "execution_count": 133
        },
        {
          "output_type": "display_data",
          "data": {
            "text/plain": [
              "<Figure size 640x480 with 1 Axes>"
            ],
            "image/png": "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\n"
          },
          "metadata": {}
        }
      ]
    },
    {
      "cell_type": "code",
      "source": [
        "pred_probs = make_predictions(model=model_2,\n",
        "                              data=test_samples)"
      ],
      "metadata": {
        "id": "5k8mpzaWJd5S"
      },
      "execution_count": 134,
      "outputs": []
    },
    {
      "cell_type": "code",
      "source": [
        "pred_probs[:2]"
      ],
      "metadata": {
        "colab": {
          "base_uri": "https://localhost:8080/"
        },
        "id": "aE1jqkrTJluo",
        "outputId": "694ee8c6-116a-4d2e-89e0-a15bd9d6b480"
      },
      "execution_count": 144,
      "outputs": [
        {
          "output_type": "execute_result",
          "data": {
            "text/plain": [
              "tensor([[1.4021e-06, 1.7343e-07, 4.4511e-07, 1.2103e-05, 5.4026e-07, 9.9938e-01,\n",
              "         3.7154e-06, 2.1650e-04, 1.4199e-04, 2.4416e-04],\n",
              "        [1.0080e-01, 5.6287e-01, 7.4506e-04, 1.1212e-01, 6.3881e-02, 3.0674e-04,\n",
              "         1.5560e-01, 1.6463e-03, 1.0169e-03, 1.0133e-03]])"
            ]
          },
          "metadata": {},
          "execution_count": 144
        }
      ]
    },
    {
      "cell_type": "code",
      "source": [
        "pred_classes = pred_probs.argmax(dim=1)\n",
        "print(pred_classes)\n",
        "print(test_labels)"
      ],
      "metadata": {
        "colab": {
          "base_uri": "https://localhost:8080/"
        },
        "id": "X4xfEt8GKTGe",
        "outputId": "3c27e9a3-3485-4fbd-ff48-df938bdd913b"
      },
      "execution_count": 150,
      "outputs": [
        {
          "output_type": "stream",
          "name": "stdout",
          "text": [
            "tensor([5, 1, 7, 4, 3, 0, 4, 7, 1])\n",
            "[5, 1, 7, 4, 3, 0, 4, 7, 1]\n"
          ]
        }
      ]
    },
    {
      "cell_type": "code",
      "source": [
        "from tqdm.auto import tqdm\n",
        "\n",
        "y_preds = []\n",
        "y_true = []\n",
        "model_2.eval()\n",
        "with torch.inference_mode():\n",
        "  for X,y in tqdm(test_dataloader,desc=\"Making predictions...\"):\n",
        "    y_true.append(y)\n",
        "    y_logits = model_2(X)\n",
        "    test_loss = loss_fn(y_logits,y)\n",
        "    y_pred = torch.softmax(y_logits.squeeze(),dim=0).argmax(dim=1)\n",
        "    y_preds.append(y_pred)"
      ],
      "metadata": {
        "colab": {
          "base_uri": "https://localhost:8080/",
          "height": 49,
          "referenced_widgets": [
            "1e22571a24f1484c835165623a12cb1d",
            "8cca7e5062e8427b8fea3164b685e826",
            "ef10df3003da49f48cc416f44ba762db",
            "87070f16f787449991b26e627ba36b40",
            "ab981232e64949a1a0ce24540a1f7346",
            "eb4d2ed854cb406eb2742a7fe9d2e25e",
            "53149da03029483dbb6cc3260dcec031",
            "4884677fcaea4a2c9d9ce99715914723",
            "5152e7723a3a4354bce1721d5f427534",
            "d111cdc15fac4e34ad5dfab537ac9af8",
            "f0c96b4eabe846d5aad9f5db2f77e22b"
          ]
        },
        "id": "wHBi7ML9SZXn",
        "outputId": "61d0499c-c699-4c69-aa01-588559aa20df"
      },
      "execution_count": 170,
      "outputs": [
        {
          "output_type": "display_data",
          "data": {
            "text/plain": [
              "Making predictions...:   0%|          | 0/313 [00:00<?, ?it/s]"
            ],
            "application/vnd.jupyter.widget-view+json": {
              "version_major": 2,
              "version_minor": 0,
              "model_id": "1e22571a24f1484c835165623a12cb1d"
            }
          },
          "metadata": {}
        }
      ]
    },
    {
      "cell_type": "code",
      "source": [
        "try:\n",
        "    import torchmetrics\n",
        "    import mlxtend\n",
        "    print(f\"mlxtend version: {mlxtend.__version__}\")\n",
        "    assert int(mlxtend.__version__.split(\".\")[1]) >= 19, \"mlxtend version should be 0.19.0 or higher\"\n",
        "except (ImportError, AssertionError):\n",
        "    %pip install torchmetrics -U mlxtend\n",
        "    import torchmetrics\n",
        "    import mlxtend\n",
        "    print(f\"mlxtend version: {mlxtend.__version__}\")\n"
      ],
      "metadata": {
        "id": "Hf0pPfJJdnRx"
      },
      "execution_count": 201,
      "outputs": []
    },
    {
      "cell_type": "code",
      "source": [
        "# Concatenate list of tensors into a single tensor\n",
        "y_pred_tensor = torch.cat(y_preds)\n",
        "y_true_tensor = torch.cat(y_true)\n",
        "print(y_pred_tensor[:10])\n",
        "print(y_true_tensor[:10])"
      ],
      "metadata": {
        "colab": {
          "base_uri": "https://localhost:8080/"
        },
        "id": "XfD2NToMTbl1",
        "outputId": "cc5f656e-7a1c-4ec1-90b4-efc8e7732d2c"
      },
      "execution_count": 174,
      "outputs": [
        {
          "output_type": "stream",
          "name": "stdout",
          "text": [
            "tensor([9, 2, 1, 1, 6, 1, 4, 6, 5, 7])\n",
            "tensor([9, 2, 1, 1, 6, 1, 4, 6, 5, 7])\n"
          ]
        }
      ]
    },
    {
      "cell_type": "code",
      "source": [
        "from torchmetrics import ConfusionMatrix\n",
        "from mlxtend.plotting import plot_confusion_matrix\n",
        "\n",
        "# Setup confusion matrix\n",
        "confmat = ConfusionMatrix(task='multiclass', num_classes=len(class_names))\n",
        "confmat_tensor = confmat(preds=y_pred_tensor,\n",
        "                         target=test_data.targets\n",
        "                         )\n",
        "fig,axis = plot_confusion_matrix(\n",
        "    conf_mat = confmat_tensor.numpy(),\n",
        "    class_names=class_names,\n",
        "    figsize=(8,4)\n",
        ")"
      ],
      "metadata": {
        "colab": {
          "base_uri": "https://localhost:8080/",
          "height": 436
        },
        "id": "du5CmhyjRzco",
        "outputId": "91b12752-d5a7-4808-dc2f-b3eac66d865b"
      },
      "execution_count": 200,
      "outputs": [
        {
          "output_type": "display_data",
          "data": {
            "text/plain": [
              "<Figure size 800x400 with 1 Axes>"
            ],
            "image/png": "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\n"
          },
          "metadata": {}
        }
      ]
    },
    {
      "cell_type": "code",
      "source": [
        "print(confmat_tensor)"
      ],
      "metadata": {
        "colab": {
          "base_uri": "https://localhost:8080/"
        },
        "id": "GH5FYdBDHo6A",
        "outputId": "41e98450-268d-4b7f-f867-0995c569df30"
      },
      "execution_count": 195,
      "outputs": [
        {
          "output_type": "stream",
          "name": "stdout",
          "text": [
            "tensor([[628,   5,  44,  79,  12,   1, 224,   0,   7,   0],\n",
            "        [  8, 895,   7,  68,  13,   0,   5,   0,   3,   1],\n",
            "        [  7,   1, 810,  13,  95,   0,  69,   0,   5,   0],\n",
            "        [ 25,  13,  25, 861,  36,   0,  34,   0,   4,   2],\n",
            "        [  5,   6, 117,  50, 712,   0, 106,   0,   4,   0],\n",
            "        [  6,   0,   9,  11,   0, 840,   4,  44,  66,  20],\n",
            "        [ 69,   7, 123,  64,  98,   0, 626,   0,  13,   0],\n",
            "        [  1,   1,   0,   1,   0,  33,   0, 877,  18,  69],\n",
            "        [  8,   2,  23,  17,   6,   7,  29,   7, 900,   1],\n",
            "        [  1,   0,   1,   2,   0,  20,   4,  71,  11, 890]])\n"
          ]
        }
      ]
    },
    {
      "cell_type": "code",
      "source": [
        "from pathlib import Path\n",
        "\n",
        "MODEL_PATH = Path(\"models\")\n",
        "MODEL_PATH.mkdir(parents=True,\n",
        "                 exist_ok=True)\n",
        "MODEL_NAME = \"02_pytorch_computer_vision.pth\"\n",
        "MODLE_SAVE_PATH = MODEL_PATH / MODEL_NAME\n",
        "\n",
        "print(f\"Saving model to: {MODLE_SAVE_PATH}\")\n",
        "torch.save(obj=model_2.state_dict(),\n",
        "           f=MODLE_SAVE_PATH)"
      ],
      "metadata": {
        "colab": {
          "base_uri": "https://localhost:8080/"
        },
        "id": "KiIhnJ0GHuEp",
        "outputId": "f4ef0389-3f20-4a7b-8809-53a3531c8187"
      },
      "execution_count": 204,
      "outputs": [
        {
          "output_type": "stream",
          "name": "stdout",
          "text": [
            "Saving model to: models/02_pytorch_computer_vision.pth\n"
          ]
        }
      ]
    },
    {
      "cell_type": "code",
      "source": [
        "MODEL_PATH = Path(\"models00\")\n",
        "MODEL_PATH.mkdir(parents=False,\n",
        "                 exist_ok=True)"
      ],
      "metadata": {
        "id": "6SQoidyvJBnC"
      },
      "execution_count": 203,
      "outputs": []
    },
    {
      "cell_type": "code",
      "source": [
        "loaded_model = FashionMNISTModelV2(input_shape=1,\n",
        "                                           hidden_shape=10,\n",
        "                                           output_shape=len(class_names)\n",
        "                                           )\n",
        "\n",
        "loaded_model.load_state_dict(torch.load(f=MODLE_SAVE_PATH))"
      ],
      "metadata": {
        "colab": {
          "base_uri": "https://localhost:8080/"
        },
        "id": "JcwA1vhwJGFh",
        "outputId": "2cadd992-3b9e-4a8c-92b8-8ad6f12c9c3a"
      },
      "execution_count": 205,
      "outputs": [
        {
          "output_type": "execute_result",
          "data": {
            "text/plain": [
              "<All keys matched successfully>"
            ]
          },
          "metadata": {},
          "execution_count": 205
        }
      ]
    },
    {
      "cell_type": "code",
      "source": [
        "print(loaded_model)"
      ],
      "metadata": {
        "colab": {
          "base_uri": "https://localhost:8080/"
        },
        "id": "lSigQbmAJ8Pz",
        "outputId": "7cb6a010-5a31-4e88-c77a-cb281e60b780"
      },
      "execution_count": 207,
      "outputs": [
        {
          "output_type": "stream",
          "name": "stdout",
          "text": [
            "FashionMNISTModelV2(\n",
            "  (cnn_1): Sequential(\n",
            "    (0): Conv2d(1, 10, kernel_size=(3, 3), stride=(1, 1), padding=(1, 1))\n",
            "    (1): ReLU()\n",
            "    (2): Conv2d(10, 10, kernel_size=(3, 3), stride=(1, 1), padding=(1, 1))\n",
            "    (3): ReLU()\n",
            "    (4): MaxPool2d(kernel_size=2, stride=2, padding=0, dilation=1, ceil_mode=False)\n",
            "  )\n",
            "  (cnn_2): Sequential(\n",
            "    (0): Conv2d(10, 10, kernel_size=(3, 3), stride=(1, 1), padding=(1, 1))\n",
            "    (1): ReLU()\n",
            "    (2): Conv2d(10, 10, kernel_size=(3, 3), stride=(1, 1), padding=(1, 1))\n",
            "    (3): ReLU()\n",
            "    (4): MaxPool2d(kernel_size=2, stride=2, padding=0, dilation=1, ceil_mode=False)\n",
            "  )\n",
            "  (classifier): Sequential(\n",
            "    (0): Flatten(start_dim=1, end_dim=-1)\n",
            "    (1): Linear(in_features=490, out_features=10, bias=True)\n",
            "  )\n",
            ")\n"
          ]
        }
      ]
    },
    {
      "cell_type": "code",
      "source": [
        "model_2_results"
      ],
      "metadata": {
        "colab": {
          "base_uri": "https://localhost:8080/"
        },
        "id": "V3blxig2J-I1",
        "outputId": "c2779dea-5d15-4763-8dcb-a84d3615593a"
      },
      "execution_count": 210,
      "outputs": [
        {
          "output_type": "execute_result",
          "data": {
            "text/plain": [
              "{'model_name': 'FashionMNISTModelV2',\n",
              " 'model_loss': tensor(0.3272),\n",
              " 'model_acc': 88.06908945686901}"
            ]
          },
          "metadata": {},
          "execution_count": 210
        }
      ]
    },
    {
      "cell_type": "code",
      "source": [
        "torch.manual_seed(42)\n",
        "\n",
        "loaded_model = eval_mode(\n",
        "    model=loaded_model,\n",
        "    data_loader=test_dataloader,\n",
        "    loss_fn=loss_fn,\n",
        "    accuracy_fn=accuracy_fn\n",
        ")\n",
        "loaded_model"
      ],
      "metadata": {
        "colab": {
          "base_uri": "https://localhost:8080/",
          "height": 103,
          "referenced_widgets": [
            "0314cd3e9e0b417fabb1d11337e09fdd",
            "badfd1eb0f7348209966077de3b08d5a",
            "3f318996547b41fcba38763035bb4d6a",
            "5f239b3923f743fc9523db9a960e32b8",
            "4d5644c1e5ab4060a8cf8ee448a63e57",
            "30be3bc4eedd4af998c94eb41cd0ac7d",
            "9a5f921cf5c047949bd3d02e0d8e2379",
            "d964b2c1093f4340bffe2f9833dd8bf8",
            "8469388befea4cecae41cdbff75bb3f1",
            "f55d7d0526ce4da9a69ea8e3d5d3c9dd",
            "f934971b88db4d2dbe67a61a1d1067f6"
          ]
        },
        "id": "9sxU9RGjKA7O",
        "outputId": "09ddf8bf-a9ea-4c1e-ae4c-bd68ebda624a"
      },
      "execution_count": 212,
      "outputs": [
        {
          "output_type": "display_data",
          "data": {
            "text/plain": [
              "  0%|          | 0/313 [00:00<?, ?it/s]"
            ],
            "application/vnd.jupyter.widget-view+json": {
              "version_major": 2,
              "version_minor": 0,
              "model_id": "0314cd3e9e0b417fabb1d11337e09fdd"
            }
          },
          "metadata": {}
        },
        {
          "output_type": "execute_result",
          "data": {
            "text/plain": [
              "{'model_name': 'FashionMNISTModelV2',\n",
              " 'model_loss': tensor(0.3272),\n",
              " 'model_acc': 88.06908945686901}"
            ]
          },
          "metadata": {},
          "execution_count": 212
        }
      ]
    },
    {
      "cell_type": "code",
      "source": [],
      "metadata": {
        "id": "jk2DXswBKTZk"
      },
      "execution_count": null,
      "outputs": []
    }
  ]
}
